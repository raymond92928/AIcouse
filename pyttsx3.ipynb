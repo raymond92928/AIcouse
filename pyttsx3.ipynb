{
 "cells": [
  {
   "cell_type": "markdown",
   "id": "5ec929e7",
   "metadata": {},
   "source": [
    "!pip install pyttsx3\n",
    "!pip install pywin32"
   ]
  },
  {
   "cell_type": "code",
   "execution_count": 1,
   "id": "a30894ff",
   "metadata": {},
   "outputs": [
    {
     "name": "stdout",
     "output_type": "stream",
     "text": [
      "Voice: Microsoft Zira Desktop - English (United States)\n",
      "Voice: Microsoft David Desktop - English (United States)\n",
      "Voice: Microsoft Tracy Desktop - Chinese(Traditional, HongKong SAR)\n",
      "Voice: Microsoft Hanhan Desktop - Chinese (Taiwan)\n"
     ]
    }
   ],
   "source": [
    "import pyttsx3\n",
    "\n",
    "engine = pyttsx3.init()\n",
    "voices = engine.getProperty('voices')\n",
    "for voice in voices:\n",
    "    print(f\"Voice: {voice.name}\")"
   ]
  },
  {
   "cell_type": "code",
   "execution_count": 12,
   "id": "0c356131",
   "metadata": {},
   "outputs": [
    {
     "name": "stdout",
     "output_type": "stream",
     "text": [
      "0.25\n"
     ]
    }
   ],
   "source": [
    "import pyttsx3\n",
    "\n",
    "# 初始化\n",
    "engine = pyttsx3.init()\n",
    "\n",
    "# 語速控制\n",
    "# rate = engine.getProperty('rate')\n",
    "# print(rate)\n",
    "# engine.setProperty('rate', rate-20)\n",
    "\n",
    "# 音量控制\n",
    "volume = engine.getProperty('volume')\n",
    "print(volume)\n",
    "engine.setProperty('volume', volume + 1.25)\n",
    "\n",
    "# 朗讀一次\n",
    "voices = engine.getProperty('voices')\n",
    "engine.setProperty(\"voice\", voices[2].id)\n",
    "engine.say('大家早晨')\n",
    "engine.runAndWait()\n",
    "\n",
    "engine.say('The quick brown fox jumped over the lazy dog.')\n",
    "engine.runAndWait()"
   ]
  },
  {
   "cell_type": "code",
   "execution_count": null,
   "id": "8cb1fead",
   "metadata": {},
   "outputs": [],
   "source": []
  }
 ],
 "metadata": {
  "kernelspec": {
   "display_name": "Python 3 (ipykernel)",
   "language": "python",
   "name": "python3"
  },
  "language_info": {
   "codemirror_mode": {
    "name": "ipython",
    "version": 3
   },
   "file_extension": ".py",
   "mimetype": "text/x-python",
   "name": "python",
   "nbconvert_exporter": "python",
   "pygments_lexer": "ipython3",
   "version": "3.9.12"
  }
 },
 "nbformat": 4,
 "nbformat_minor": 5
}
