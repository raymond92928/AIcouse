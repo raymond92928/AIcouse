{
 "cells": [
  {
   "cell_type": "code",
   "execution_count": 1,
   "id": "6b9989c5",
   "metadata": {},
   "outputs": [],
   "source": [
    "from sklearn import datasets,svm\n",
    "import matplotlib.pyplot as plt\n",
    "digits = datasets.load_digits() # digits include 1797 handwritten characters from 0~9 which size is 8x8."
   ]
  },
  {
   "cell_type": "code",
   "execution_count": 2,
   "id": "907df818",
   "metadata": {},
   "outputs": [
    {
     "data": {
      "image/png": "[encoded data removed]",
      "text/plain": [
       "<Figure size 300x300 with 1 Axes>"
      ]
     },
     "metadata": {},
     "output_type": "display_data"
    }
   ],
   "source": [
    "plt.figure(1, figsize=(3, 3))\n",
    "plt.imshow(digits.images[0], cmap = plt.cm.gray_r)\n",
    "plt.show()"
   ]
  },
  {
   "cell_type": "code",
   "execution_count": 3,
   "id": "a26903a1",
   "metadata": {},
   "outputs": [
    {
     "name": "stdout",
     "output_type": "stream",
     "text": [
      "Digit: 8\n",
      "[[ 0.  0.  5. 13.  9.  1.  0.  0.]\n",
      " [ 0.  0. 13. 15. 10. 15.  5.  0.]\n",
      " [ 0.  3. 15.  2.  0. 11.  8.  0.]\n",
      " [ 0.  4. 12.  0.  0.  8.  8.  0.]\n",
      " [ 0.  5.  8.  0.  0.  9.  8.  0.]\n",
      " [ 0.  4. 11.  0.  1. 12.  7.  0.]\n",
      " [ 0.  2. 14.  5. 10. 12.  0.  0.]\n",
      " [ 0.  0.  6. 13. 10.  0.  0.  0.]]\n",
      "Feature vector:\n",
      " [[ 0.  0. 10. 14.  8.  1.  0.  0.  0.  2. 16. 14.  6.  1.  0.  0.  0.  0.\n",
      "  15. 15.  8. 15.  0.  0.  0.  0.  5. 16. 16. 10.  0.  0.  0.  0. 12. 15.\n",
      "  15. 12.  0.  0.  0.  4. 16.  6.  4. 16.  6.  0.  0.  8. 16. 10.  8. 16.\n",
      "   8.  0.  0.  1.  8. 12. 14. 12.  1.  0.]]\n"
     ]
    }
   ],
   "source": [
    "print(f'Digit: {digits.target[-1]}')\n",
    "# print('Digit: %s' % digits.target[-1])\n",
    "print(digits.images[0]) \n",
    "print(f'Feature vector:\\n {digits.images[-1].reshape(-1, 64)}')\n",
    "# print('Feature vector:\\n %s' % digits.images[-1].reshape(-1, 64))"
   ]
  },
  {
   "cell_type": "code",
   "execution_count": 4,
   "id": "74266c45",
   "metadata": {},
   "outputs": [
    {
     "name": "stdout",
     "output_type": "stream",
     "text": [
      "Predict: [4, 9, 0, 8, 9, 8]\n",
      "True: [4, 9, 0, 8, 9, 8]\n"
     ]
    },
    {
     "data": {
      "image/png": "[encoded data removed]",
      "text/plain": [
       "<Figure size 640x480 with 6 Axes>"
      ]
     },
     "metadata": {},
     "output_type": "display_data"
    }
   ],
   "source": [
    "# Recognize handwritten digits\n",
    "# svc=svm.SVC(gamma=0.001,C=100.)\n",
    "svc=svm.SVC()\n",
    "digits=datasets.load_digits() # import Digits data set\n",
    "# print(digits.DESCR) # check description of data set \n",
    "\n",
    "def plts():\n",
    "    # show the image\n",
    "    plt.subplot(321)\n",
    "    plt.imshow(digits.images[1791],cmap=plt.cm.gray_r,interpolation='nearest')\n",
    "    plt.subplot(322)\n",
    "    plt.imshow(digits.images[1792],cmap=plt.cm.gray_r,interpolation='nearest')\n",
    "    plt.subplot(323)\n",
    "    plt.imshow(digits.images[1793],cmap=plt.cm.gray_r,interpolation='nearest')\n",
    "    plt.subplot(324)\n",
    "    plt.imshow(digits.images[1794],cmap=plt.cm.gray_r,interpolation='nearest')\n",
    "    plt.subplot(325)\n",
    "    plt.imshow(digits.images[1795],cmap=plt.cm.gray_r,interpolation='nearest')\n",
    "    plt.subplot(326)\n",
    "    plt.imshow(digits.images[1796],cmap=plt.cm.gray_r,interpolation='nearest')\n",
    "    plt.show()\n",
    "\n",
    "def svms():\n",
    "    # fit and predict\n",
    "    svc.fit(digits.data[:1791],digits.target[:1791]) # training\n",
    "    res=svc.predict(digits.data[1791:1797]) # predict\n",
    "    return list(res)\n",
    " \n",
    "if __name__=='__main__':\n",
    "    result=svms()\n",
    "    duibi=digits.target[1791:1797]\n",
    "    print(f'Predict: {result}\\nTrue: {list(duibi)}')\n",
    "    plts()\n"
   ]
  },
  {
   "cell_type": "markdown",
   "id": "16cf9872",
   "metadata": {},
   "source": [
    "<img src=\"https://matplotlib.org/stable/_images/sphx_glr_interpolation_methods_001_2_0x.png\" alt=\"interpolation\" />"
   ]
  },
  {
   "cell_type": "code",
   "execution_count": null,
   "id": "41f7a095",
   "metadata": {},
   "outputs": [],
   "source": []
  }
 ],
 "metadata": {
  "kernelspec": {
   "display_name": "Python 3 (ipykernel)",
   "language": "python",
   "name": "python3"
  },
  "language_info": {
   "codemirror_mode": {
    "name": "ipython",
    "version": 3
   },
   "file_extension": ".py",
   "mimetype": "text/x-python",
   "name": "python",
   "nbconvert_exporter": "python",
   "pygments_lexer": "ipython3",
   "version": "3.9.15"
  }
 },
 "nbformat": 4,
 "nbformat_minor": 5
}
