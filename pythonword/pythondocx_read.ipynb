{
 "cells": [
  {
   "cell_type": "markdown",
   "id": "8a84d9ec",
   "metadata": {
    "collapsed": true
   },
   "source": [
    "!conda install -c conda-forge python-docx -y"
   ]
  },
  {
   "cell_type": "code",
   "execution_count": 1,
   "id": "a570716c",
   "metadata": {},
   "outputs": [],
   "source": [
    "import docx"
   ]
  },
  {
   "cell_type": "markdown",
   "id": "c342e118",
   "metadata": {},
   "source": [
    "# Read the document"
   ]
  },
  {
   "cell_type": "code",
   "execution_count": 13,
   "id": "bae1ce22",
   "metadata": {},
   "outputs": [],
   "source": [
    "doc = docx.Document(\"Python開發環境.docx\")"
   ]
  },
  {
   "cell_type": "markdown",
   "id": "817334bc",
   "metadata": {},
   "source": [
    "# Show paragraphs and runs"
   ]
  },
  {
   "cell_type": "code",
   "execution_count": 3,
   "id": "fcc5c204",
   "metadata": {},
   "outputs": [
    {
     "name": "stdout",
     "output_type": "stream",
     "text": [
      "段落數(paragraphs):  4\n",
      "連續文字數:  2\n",
      "連續文字數:  11\n",
      "連續文字數:  2\n",
      "連續文字數:  14\n"
     ]
    }
   ],
   "source": [
    "print(\"段落數(paragraphs): \", len(doc.paragraphs))\n",
    "for para in doc.paragraphs:\n",
    "    print(\"連續文字數: \", len(para.runs))"
   ]
  },
  {
   "cell_type": "code",
   "execution_count": 6,
   "id": "210fb710",
   "metadata": {},
   "outputs": [
    {
     "name": "stdout",
     "output_type": "stream",
     "text": [
      "段落數:  4\n",
      "1 : Spyder整合開發環境的使用\n",
      "2 : Spyder是開放原始碼跨平台的Python整合開發環境（IDE），一套功能強大的互動開發環境，支援程式碼編輯、互動測試、偵錯、執行Python程式。\n",
      "3 : Python IDLE整合開發環境的使用\n",
      "4 : WinPython內建Python的IDLE整合開發環境（Anaconda沒有提供功能表命令來啟動IDLE），可以啟動和使用Python內建的IDLE整合開發環境。\n"
     ]
    }
   ],
   "source": [
    "print(\"段落數: \", len(doc.paragraphs))\n",
    "count = 1\n",
    "for para in doc.paragraphs:\n",
    "    print(count, \":\", para.text)\n",
    "    count = count + 1"
   ]
  },
  {
   "cell_type": "code",
   "execution_count": null,
   "id": "4007cdde",
   "metadata": {},
   "outputs": [],
   "source": [
    "print(\"段落數: \", len(doc.paragraphs))\n",
    "para = doc.paragraphs[0]\n",
    "print(\"連續文字數: \", len(para.runs))\n",
    "for run in para.runs:\n",
    "    print(run.text)\n",
    "para = doc.paragraphs[2]\n",
    "print(\"連續文字數: \", len(para.runs))\n",
    "for i in range(0, len(para.runs)):\n",
    "    print(i, \":\", para.runs[i].text)"
   ]
  },
  {
   "cell_type": "code",
   "execution_count": 14,
   "id": "8f8dd57b",
   "metadata": {},
   "outputs": [
    {
     "name": "stdout",
     "output_type": "stream",
     "text": [
      "Spyder\n",
      "整合開發環境的使用\n",
      "Spyder\n",
      "是開放原始碼跨平台的\n",
      "Python\n",
      "整合開發環境（\n",
      "IDE\n",
      "），一套功能強大的互動開發環境，支援程式碼編輯、\n",
      "互動測試、偵錯、執行\n",
      "Python\n",
      "程式。\n",
      "Python IDLE\n",
      "整合開發環境的使用\n",
      "WinPython\n",
      "內建\n",
      "Python\n",
      "的\n",
      "IDLE\n",
      "整合開發環境（\n",
      "Anaconda\n",
      "沒有提供功能表命令來啟動\n",
      "IDLE\n",
      "），可以啟動和使用\n",
      "Python\n",
      "內建的\n",
      "IDLE\n",
      "整合開發環境。\n"
     ]
    }
   ],
   "source": [
    "for para in doc.paragraphs:\n",
    "    for i in para.runs:\n",
    "        print(i.text)"
   ]
  },
  {
   "cell_type": "code",
   "execution_count": 10,
   "id": "22a97e9b",
   "metadata": {},
   "outputs": [
    {
     "name": "stdout",
     "output_type": "stream",
     "text": [
      "段落數:  4\n",
      "Spyder整合開發環境的使用\n",
      "Python IDLE整合開發環境的使用\n"
     ]
    }
   ],
   "source": [
    "for para in doc.paragraphs:\n",
    "    if para.style.name.startswith('Heading'):\n",
    "        print(para.text)"
   ]
  },
  {
   "cell_type": "code",
   "execution_count": 12,
   "id": "5e569edb",
   "metadata": {},
   "outputs": [
    {
     "name": "stdout",
     "output_type": "stream",
     "text": [
      "Spyder是開放原始碼跨平台的Python整合開發環境（IDE），一套功能強大的互動開發環境，支援程式碼編輯、互動測試、偵錯、執行Python程式。\n",
      "WinPython內建Python的IDLE整合開發環境（Anaconda沒有提供功能表命令來啟動IDLE），可以啟動和使用Python內建的IDLE整合開發環境。\n"
     ]
    }
   ],
   "source": [
    "for para in doc.paragraphs:\n",
    "    if para.style.name.startswith('Normal'):\n",
    "        print(para.text)"
   ]
  },
  {
   "cell_type": "markdown",
   "id": "3ab95ff7",
   "metadata": {},
   "source": [
    "# Show all the styles that word supported"
   ]
  },
  {
   "cell_type": "code",
   "execution_count": 11,
   "id": "192e32ff",
   "metadata": {},
   "outputs": [
    {
     "name": "stdout",
     "output_type": "stream",
     "text": [
      "Normal Heading 1 Heading 2 Heading 3 Default Paragraph Font Normal Table No List Heading 1 Char Heading 2 Char Heading 3 Char Quote Quote Char Subtitle Subtitle Char Title Title Char Header Header Char Footer Footer Char "
     ]
    }
   ],
   "source": [
    "for style in doc.styles:\n",
    "    print(style.name, end=\" \")"
   ]
  },
  {
   "cell_type": "code",
   "execution_count": null,
   "id": "92abe6c2",
   "metadata": {},
   "outputs": [],
   "source": []
  }
 ],
 "metadata": {
  "kernelspec": {
   "display_name": "Python 3 (ipykernel)",
   "language": "python",
   "name": "python3"
  },
  "language_info": {
   "codemirror_mode": {
    "name": "ipython",
    "version": 3
   },
   "file_extension": ".py",
   "mimetype": "text/x-python",
   "name": "python",
   "nbconvert_exporter": "python",
   "pygments_lexer": "ipython3",
   "version": "3.9.12"
  }
 },
 "nbformat": 4,
 "nbformat_minor": 5
}
