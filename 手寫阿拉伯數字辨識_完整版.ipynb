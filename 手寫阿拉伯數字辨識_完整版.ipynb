{
  "cells": [
    {
      "cell_type": "markdown",
      "metadata": {
        "id": "view-in-github",
        "colab_type": "text"
      },
      "source": [
        "<a href=\"https://colab.research.google.com/github/raymond92928/AIcouse/blob/main/%E6%89%8B%E5%AF%AB%E9%98%BF%E6%8B%89%E4%BC%AF%E6%95%B8%E5%AD%97%E8%BE%A8%E8%AD%98_%E5%AE%8C%E6%95%B4%E7%89%88.ipynb\" target=\"_parent\"><img src=\"https://colab.research.google.com/assets/colab-badge.svg\" alt=\"Open In Colab\"/></a>"
      ]
    },
    {
      "cell_type": "markdown",
      "metadata": {
        "id": "UIoJQIQC0GqJ"
      },
      "source": [
        "# 手寫阿拉伯數字辨識 完整版"
      ]
    },
    {
      "cell_type": "markdown",
      "metadata": {
        "id": "kYtqemsi0GqM"
      },
      "source": [
        "## 載入套件"
      ]
    },
    {
      "cell_type": "code",
      "execution_count": null,
      "metadata": {
        "id": "RX4x1wPZ0GqO"
      },
      "outputs": [],
      "source": [
        "import os\n",
        "import torch\n",
        "from torch import nn\n",
        "from torch.nn import functional as F\n",
        "from torch.utils.data import DataLoader, random_split\n",
        "from torchvision import transforms\n",
        "from torchvision.datasets import MNIST"
      ]
    },
    {
      "cell_type": "markdown",
      "metadata": {
        "id": "b2cq4lQQ0GqQ"
      },
      "source": [
        "## 設定參數"
      ]
    },
    {
      "cell_type": "code",
      "execution_count": null,
      "metadata": {
        "id": "V8j1QwQh0GqQ",
        "outputId": "7afcfd0d-b8bc-4e9d-ef74-335d14ecf77a",
        "colab": {
          "base_uri": "https://localhost:8080/",
          "height": 35
        }
      },
      "outputs": [
        {
          "output_type": "execute_result",
          "data": {
            "text/plain": [
              "'cpu'"
            ],
            "application/vnd.google.colaboratory.intrinsic+json": {
              "type": "string"
            }
          },
          "metadata": {},
          "execution_count": 2
        }
      ],
      "source": [
        "PATH_DATASETS = \"\" # 預設路徑\n",
        "BATCH_SIZE = 1024  # 批量\n",
        "device = torch.device(\"cuda\" if torch.cuda.is_available() else \"cpu\")\n",
        "\"cuda\" if torch.cuda.is_available() else \"cpu\""
      ]
    },
    {
      "cell_type": "markdown",
      "metadata": {
        "id": "kBnifs7B0GqR"
      },
      "source": [
        "## 步驟1：載入 MNIST 手寫阿拉伯數字資料"
      ]
    },
    {
      "cell_type": "code",
      "execution_count": null,
      "metadata": {
        "id": "zGN_2hYG0GqR",
        "outputId": "244b9c46-04ce-477f-8791-59b99a949872",
        "colab": {
          "base_uri": "https://localhost:8080/"
        }
      },
      "outputs": [
        {
          "output_type": "stream",
          "name": "stdout",
          "text": [
            "Downloading http://yann.lecun.com/exdb/mnist/train-images-idx3-ubyte.gz\n",
            "Downloading http://yann.lecun.com/exdb/mnist/train-images-idx3-ubyte.gz to MNIST/raw/train-images-idx3-ubyte.gz\n"
          ]
        },
        {
          "output_type": "stream",
          "name": "stderr",
          "text": [
            "100%|██████████| 9912422/9912422 [00:00<00:00, 87852219.02it/s]\n"
          ]
        },
        {
          "output_type": "stream",
          "name": "stdout",
          "text": [
            "Extracting MNIST/raw/train-images-idx3-ubyte.gz to MNIST/raw\n",
            "\n",
            "Downloading http://yann.lecun.com/exdb/mnist/train-labels-idx1-ubyte.gz\n",
            "Downloading http://yann.lecun.com/exdb/mnist/train-labels-idx1-ubyte.gz to MNIST/raw/train-labels-idx1-ubyte.gz\n"
          ]
        },
        {
          "output_type": "stream",
          "name": "stderr",
          "text": [
            "100%|██████████| 28881/28881 [00:00<00:00, 30110786.43it/s]"
          ]
        },
        {
          "output_type": "stream",
          "name": "stdout",
          "text": [
            "Extracting MNIST/raw/train-labels-idx1-ubyte.gz to MNIST/raw\n",
            "\n",
            "Downloading http://yann.lecun.com/exdb/mnist/t10k-images-idx3-ubyte.gz\n"
          ]
        },
        {
          "output_type": "stream",
          "name": "stderr",
          "text": [
            "\n"
          ]
        },
        {
          "output_type": "stream",
          "name": "stdout",
          "text": [
            "Downloading http://yann.lecun.com/exdb/mnist/t10k-images-idx3-ubyte.gz to MNIST/raw/t10k-images-idx3-ubyte.gz\n"
          ]
        },
        {
          "output_type": "stream",
          "name": "stderr",
          "text": [
            "100%|██████████| 1648877/1648877 [00:00<00:00, 21434787.75it/s]\n"
          ]
        },
        {
          "output_type": "stream",
          "name": "stdout",
          "text": [
            "Extracting MNIST/raw/t10k-images-idx3-ubyte.gz to MNIST/raw\n",
            "\n",
            "Downloading http://yann.lecun.com/exdb/mnist/t10k-labels-idx1-ubyte.gz\n",
            "Downloading http://yann.lecun.com/exdb/mnist/t10k-labels-idx1-ubyte.gz to MNIST/raw/t10k-labels-idx1-ubyte.gz\n"
          ]
        },
        {
          "output_type": "stream",
          "name": "stderr",
          "text": [
            "100%|██████████| 4542/4542 [00:00<00:00, 16254717.38it/s]\n"
          ]
        },
        {
          "output_type": "stream",
          "name": "stdout",
          "text": [
            "Extracting MNIST/raw/t10k-labels-idx1-ubyte.gz to MNIST/raw\n",
            "\n",
            "torch.Size([60000, 28, 28]) torch.Size([10000, 28, 28])\n"
          ]
        }
      ],
      "source": [
        "# 下載 MNIST 手寫阿拉伯數字 訓練資料\n",
        "train_ds = MNIST(PATH_DATASETS, train=True, download=True,\n",
        "                 transform=transforms.ToTensor())\n",
        "\n",
        "# 下載測試資料\n",
        "test_ds = MNIST(PATH_DATASETS, train=False, download=True,\n",
        "                 transform=transforms.ToTensor())\n",
        "\n",
        "# 訓練/測試資料的維度\n",
        "print(train_ds.data.shape, test_ds.data.shape)"
      ]
    },
    {
      "cell_type": "markdown",
      "metadata": {
        "id": "U83zJpp-0GqS"
      },
      "source": [
        "## 步驟2：資料探索"
      ]
    },
    {
      "cell_type": "code",
      "execution_count": null,
      "metadata": {
        "id": "-omYp3J40GqS",
        "outputId": "6cc6ead3-5113-4551-da25-5a6cb46d4a70",
        "colab": {
          "base_uri": "https://localhost:8080/"
        }
      },
      "outputs": [
        {
          "output_type": "execute_result",
          "data": {
            "text/plain": [
              "(torch.Size([60000, 28, 28]), torch.Size([60000]))"
            ]
          },
          "metadata": {},
          "execution_count": 4
        }
      ],
      "source": [
        "train_ds.data.shape, train_ds.targets.shape"
      ]
    },
    {
      "cell_type": "code",
      "execution_count": null,
      "metadata": {
        "id": "S8pHGIfI0GqS",
        "outputId": "28ae18cb-630a-4368-bc38-97c3be52263a",
        "colab": {
          "base_uri": "https://localhost:8080/"
        }
      },
      "outputs": [
        {
          "output_type": "execute_result",
          "data": {
            "text/plain": [
              "tensor([5, 0, 4, 1, 9, 2, 1, 3, 1, 4])"
            ]
          },
          "metadata": {},
          "execution_count": 5
        }
      ],
      "source": [
        "# 訓練資料前10筆圖片的數字\n",
        "train_ds.targets[:10]"
      ]
    },
    {
      "cell_type": "code",
      "execution_count": null,
      "metadata": {
        "id": "mwkX_9vq0GqS",
        "outputId": "070174d2-baf9-4941-97cd-80318802ec38",
        "colab": {
          "base_uri": "https://localhost:8080/"
        }
      },
      "outputs": [
        {
          "output_type": "execute_result",
          "data": {
            "text/plain": [
              "tensor([[  0,   0,   0,   0,   0,   0,   0,   0,   0,   0,   0,   0,   0,   0,\n",
              "           0,   0,   0,   0,   0,   0,   0,   0,   0,   0,   0,   0,   0,   0],\n",
              "        [  0,   0,   0,   0,   0,   0,   0,   0,   0,   0,   0,   0,   0,   0,\n",
              "           0,   0,   0,   0,   0,   0,   0,   0,   0,   0,   0,   0,   0,   0],\n",
              "        [  0,   0,   0,   0,   0,   0,   0,   0,   0,   0,   0,   0,   0,   0,\n",
              "           0,   0,   0,   0,   0,   0,   0,   0,   0,   0,   0,   0,   0,   0],\n",
              "        [  0,   0,   0,   0,   0,   0,   0,   0,   0,   0,   0,   0,   0,   0,\n",
              "           0,   0,   0,   0,   0,   0,   0,   0,   0,   0,   0,   0,   0,   0],\n",
              "        [  0,   0,   0,   0,   0,   0,   0,   0,   0,   0,   0,   0,   0,   0,\n",
              "           0,   0,   0,   0,   0,   0,   0,   0,   0,   0,   0,   0,   0,   0],\n",
              "        [  0,   0,   0,   0,   0,   0,   0,   0,   0,   0,   0,   0,   3,  18,\n",
              "          18,  18, 126, 136, 175,  26, 166, 255, 247, 127,   0,   0,   0,   0],\n",
              "        [  0,   0,   0,   0,   0,   0,   0,   0,  30,  36,  94, 154, 170, 253,\n",
              "         253, 253, 253, 253, 225, 172, 253, 242, 195,  64,   0,   0,   0,   0],\n",
              "        [  0,   0,   0,   0,   0,   0,   0,  49, 238, 253, 253, 253, 253, 253,\n",
              "         253, 253, 253, 251,  93,  82,  82,  56,  39,   0,   0,   0,   0,   0],\n",
              "        [  0,   0,   0,   0,   0,   0,   0,  18, 219, 253, 253, 253, 253, 253,\n",
              "         198, 182, 247, 241,   0,   0,   0,   0,   0,   0,   0,   0,   0,   0],\n",
              "        [  0,   0,   0,   0,   0,   0,   0,   0,  80, 156, 107, 253, 253, 205,\n",
              "          11,   0,  43, 154,   0,   0,   0,   0,   0,   0,   0,   0,   0,   0],\n",
              "        [  0,   0,   0,   0,   0,   0,   0,   0,   0,  14,   1, 154, 253,  90,\n",
              "           0,   0,   0,   0,   0,   0,   0,   0,   0,   0,   0,   0,   0,   0],\n",
              "        [  0,   0,   0,   0,   0,   0,   0,   0,   0,   0,   0, 139, 253, 190,\n",
              "           2,   0,   0,   0,   0,   0,   0,   0,   0,   0,   0,   0,   0,   0],\n",
              "        [  0,   0,   0,   0,   0,   0,   0,   0,   0,   0,   0,  11, 190, 253,\n",
              "          70,   0,   0,   0,   0,   0,   0,   0,   0,   0,   0,   0,   0,   0],\n",
              "        [  0,   0,   0,   0,   0,   0,   0,   0,   0,   0,   0,   0,  35, 241,\n",
              "         225, 160, 108,   1,   0,   0,   0,   0,   0,   0,   0,   0,   0,   0],\n",
              "        [  0,   0,   0,   0,   0,   0,   0,   0,   0,   0,   0,   0,   0,  81,\n",
              "         240, 253, 253, 119,  25,   0,   0,   0,   0,   0,   0,   0,   0,   0],\n",
              "        [  0,   0,   0,   0,   0,   0,   0,   0,   0,   0,   0,   0,   0,   0,\n",
              "          45, 186, 253, 253, 150,  27,   0,   0,   0,   0,   0,   0,   0,   0],\n",
              "        [  0,   0,   0,   0,   0,   0,   0,   0,   0,   0,   0,   0,   0,   0,\n",
              "           0,  16,  93, 252, 253, 187,   0,   0,   0,   0,   0,   0,   0,   0],\n",
              "        [  0,   0,   0,   0,   0,   0,   0,   0,   0,   0,   0,   0,   0,   0,\n",
              "           0,   0,   0, 249, 253, 249,  64,   0,   0,   0,   0,   0,   0,   0],\n",
              "        [  0,   0,   0,   0,   0,   0,   0,   0,   0,   0,   0,   0,   0,   0,\n",
              "          46, 130, 183, 253, 253, 207,   2,   0,   0,   0,   0,   0,   0,   0],\n",
              "        [  0,   0,   0,   0,   0,   0,   0,   0,   0,   0,   0,   0,  39, 148,\n",
              "         229, 253, 253, 253, 250, 182,   0,   0,   0,   0,   0,   0,   0,   0],\n",
              "        [  0,   0,   0,   0,   0,   0,   0,   0,   0,   0,  24, 114, 221, 253,\n",
              "         253, 253, 253, 201,  78,   0,   0,   0,   0,   0,   0,   0,   0,   0],\n",
              "        [  0,   0,   0,   0,   0,   0,   0,   0,  23,  66, 213, 253, 253, 253,\n",
              "         253, 198,  81,   2,   0,   0,   0,   0,   0,   0,   0,   0,   0,   0],\n",
              "        [  0,   0,   0,   0,   0,   0,  18, 171, 219, 253, 253, 253, 253, 195,\n",
              "          80,   9,   0,   0,   0,   0,   0,   0,   0,   0,   0,   0,   0,   0],\n",
              "        [  0,   0,   0,   0,  55, 172, 226, 253, 253, 253, 253, 244, 133,  11,\n",
              "           0,   0,   0,   0,   0,   0,   0,   0,   0,   0,   0,   0,   0,   0],\n",
              "        [  0,   0,   0,   0, 136, 253, 253, 253, 212, 135, 132,  16,   0,   0,\n",
              "           0,   0,   0,   0,   0,   0,   0,   0,   0,   0,   0,   0,   0,   0],\n",
              "        [  0,   0,   0,   0,   0,   0,   0,   0,   0,   0,   0,   0,   0,   0,\n",
              "           0,   0,   0,   0,   0,   0,   0,   0,   0,   0,   0,   0,   0,   0],\n",
              "        [  0,   0,   0,   0,   0,   0,   0,   0,   0,   0,   0,   0,   0,   0,\n",
              "           0,   0,   0,   0,   0,   0,   0,   0,   0,   0,   0,   0,   0,   0],\n",
              "        [  0,   0,   0,   0,   0,   0,   0,   0,   0,   0,   0,   0,   0,   0,\n",
              "           0,   0,   0,   0,   0,   0,   0,   0,   0,   0,   0,   0,   0,   0]],\n",
              "       dtype=torch.uint8)"
            ]
          },
          "metadata": {},
          "execution_count": 6
        }
      ],
      "source": [
        "# 顯示第1張圖片內含值\n",
        "train_ds.data[0]"
      ]
    },
    {
      "cell_type": "code",
      "execution_count": null,
      "metadata": {
        "id": "WhRlGuJO0GqT",
        "outputId": "66d0d900-1ac8-4f20-d7d3-c88aa65bb79f",
        "colab": {
          "base_uri": "https://localhost:8080/"
        }
      },
      "outputs": [
        {
          "output_type": "execute_result",
          "data": {
            "text/plain": [
              "['0000000000000000000000000000',\n",
              " '0000000000000000000000000000',\n",
              " '0000000000000000000000000000',\n",
              " '0000000000000000000000000000',\n",
              " '0000000000000000000000000000',\n",
              " '0000000000001111111111110000',\n",
              " '0000000011111111111111110000',\n",
              " '0000000111111111111111100000',\n",
              " '0000000111111111110000000000',\n",
              " '0000000011111110110000000000',\n",
              " '0000000001111100000000000000',\n",
              " '0000000000011110000000000000',\n",
              " '0000000000011110000000000000',\n",
              " '0000000000001111110000000000',\n",
              " '0000000000000111111000000000',\n",
              " '0000000000000011111100000000',\n",
              " '0000000000000001111100000000',\n",
              " '0000000000000000011110000000',\n",
              " '0000000000000011111110000000',\n",
              " '0000000000001111111100000000',\n",
              " '0000000000111111111000000000',\n",
              " '0000000011111111110000000000',\n",
              " '0000001111111111000000000000',\n",
              " '0000111111111100000000000000',\n",
              " '0000111111110000000000000000',\n",
              " '0000000000000000000000000000',\n",
              " '0000000000000000000000000000',\n",
              " '0000000000000000000000000000']"
            ]
          },
          "metadata": {},
          "execution_count": 7
        }
      ],
      "source": [
        "# 將非0的數字轉為1，顯示第1張圖片\n",
        "data = train_ds.data[0].clone()\n",
        "data[data>0]=1\n",
        "data = data.numpy()\n",
        "\n",
        "# 將轉換後二維內容顯示出來，隱約可以看出數字為 5\n",
        "text_image=[]\n",
        "for i in range(data.shape[0]):\n",
        "    text_image.append(''.join(data[i].astype(str)))\n",
        "text_image"
      ]
    },
    {
      "cell_type": "code",
      "execution_count": null,
      "metadata": {
        "id": "jI5d8vB90GqT",
        "outputId": "eb02c366-d29a-46f5-88c8-8dba61ed51c0",
        "colab": {
          "base_uri": "https://localhost:8080/"
        }
      },
      "outputs": [
        {
          "output_type": "execute_result",
          "data": {
            "text/plain": [
              "['0000000000000000000000000000',\n",
              " '0000000000000000000000000000',\n",
              " '0000000000000000000000000000',\n",
              " '0000000000000000000000000000',\n",
              " '0000000000000001111100000000',\n",
              " '0000000000000011111100000000',\n",
              " '0000000000000111111111000000',\n",
              " '0000000000011111111111000000',\n",
              " '0000000000011111111111000000',\n",
              " '0000000000111111111111000000',\n",
              " '0000000001111111110011100000',\n",
              " '0000000011111100000011100000',\n",
              " '0000000111111100000011100000',\n",
              " '0000000111100000000011100000',\n",
              " '0000000111000000000011100000',\n",
              " '0000001111000000000011100000',\n",
              " '0000001111000000001111100000',\n",
              " '0000001110000000011111000000',\n",
              " '0000001110000000111100000000',\n",
              " '0000001110000001111000000000',\n",
              " '0000001111111111111000000000',\n",
              " '0000001111111111100000000000',\n",
              " '0000001111111110000000000000',\n",
              " '0000000111111100000000000000',\n",
              " '0000000000000000000000000000',\n",
              " '0000000000000000000000000000',\n",
              " '0000000000000000000000000000',\n",
              " '0000000000000000000000000000']"
            ]
          },
          "metadata": {},
          "execution_count": 8
        }
      ],
      "source": [
        "# 將非0的數字轉為1，顯示第2張圖片\n",
        "data = train_ds.data[1].clone()\n",
        "data[data>0]=1\n",
        "data = data.numpy()\n",
        "\n",
        "# 將轉換後二維內容顯示出來，隱約可以看出數字為 5\n",
        "text_image=[]\n",
        "for i in range(data.shape[0]):\n",
        "    text_image.append(''.join(data[i].astype(str)))\n",
        "text_image"
      ]
    },
    {
      "cell_type": "code",
      "execution_count": null,
      "metadata": {
        "scrolled": false,
        "id": "ZsctRVaS0GqT",
        "outputId": "1cdb35b3-58e6-490b-cb99-2932cf370d13",
        "colab": {
          "base_uri": "https://localhost:8080/",
          "height": 406
        }
      },
      "outputs": [
        {
          "output_type": "display_data",
          "data": {
            "text/plain": [
              "<Figure size 640x480 with 1 Axes>"
            ],
            "image/png": "[encoded data removed]"
          },
          "metadata": {}
        }
      ],
      "source": [
        "# 顯示第1張圖片圖像\n",
        "import matplotlib.pyplot as plt\n",
        "\n",
        "# 第一筆資料\n",
        "X = train_ds.data[0]\n",
        "\n",
        "# 繪製點陣圖，cmap='gray':灰階\n",
        "plt.imshow(X.reshape(28,28), cmap='gray')\n",
        "\n",
        "# 隱藏刻度\n",
        "plt.axis('off')\n",
        "\n",
        "# 顯示圖形\n",
        "plt.show()"
      ]
    },
    {
      "cell_type": "markdown",
      "metadata": {
        "id": "TLIKBhV90GqT"
      },
      "source": [
        "## 步驟3：特徵工程，此步驟無需進行"
      ]
    },
    {
      "cell_type": "code",
      "execution_count": null,
      "metadata": {
        "id": "L64mW9LW0GqU"
      },
      "outputs": [],
      "source": [
        "# train_ds.data = train_ds.data / 255.0\n",
        "# test_ds.data = test_ds.data / 255.0"
      ]
    },
    {
      "cell_type": "markdown",
      "metadata": {
        "id": "CDA7IlUr0GqU"
      },
      "source": [
        "## 步驟4：資料分割，此步驟無需進行，載入MNIST資料時，已經切割好了"
      ]
    },
    {
      "cell_type": "markdown",
      "metadata": {
        "id": "2ntsrI_v0GqU"
      },
      "source": [
        "## 步驟5：建立模型結構"
      ]
    },
    {
      "cell_type": "code",
      "execution_count": null,
      "metadata": {
        "id": "WkV-SceQ0GqU"
      },
      "outputs": [],
      "source": [
        "# 建立模型\n",
        "model = torch.nn.Sequential(\n",
        "    torch.nn.Flatten(),\n",
        "    torch.nn.Linear(28 * 28, 256),\n",
        "    torch.nn.Dropout(0.2),\n",
        "    torch.nn.Linear(256, 10),\n",
        "    # 因使用nn.CrossEntropyLoss()時，內含softmax，故不需要將輸出經過softmax層，否則計算的損失會有誤\n",
        "    # torch.nn.Softmax(dim=1)\n",
        ").to(device)"
      ]
    },
    {
      "cell_type": "markdown",
      "metadata": {
        "id": "jSYPW_dj0GqU"
      },
      "source": [
        "## 步驟6：結合訓練資料及模型，進行模型訓練\n",
        "\n",
        "‧ 第1行設定執行週期。\n",
        "\n",
        "‧ 第2行設定學習率。\n",
        "\n",
        "‧ 第5行設定 DataLoader,可一次取一批資料訓練,節省記憶體。\n",
        "\n",
        "‧ 第8~9行設定優化器(Optimizer) : PyTorch 提供多種優化器,各有優點。\n",
        "\n",
        "‧ 第 11行設定損失函數為交叉熵(CrossEntropyLoss),PyTorch 提供多種損失函數。\n",
        "\n",
        "‧ 第 13行設定模型進入訓練階段,各神經層均會被執行,有別於評估階段。\n",
        "\n",
        "‧ 第 14~32 行進行模型訓練,並顯示訓練過程與損失值,損失值多少不重要,\n",
        "需觀察損失值是否隨著訓練逐漸收斂 ( 顯著減少)。"
      ]
    },
    {
      "cell_type": "code",
      "execution_count": null,
      "metadata": {
        "scrolled": false,
        "id": "yPE2EbA20GqU",
        "outputId": "bc87fbda-f604-4676-df68-b773444d798e",
        "colab": {
          "base_uri": "https://localhost:8080/"
        }
      },
      "outputs": [
        {
          "output_type": "stream",
          "name": "stdout",
          "text": [
            "Epoch 1: [    0 / 60000] (0 %)  Loss: 2.321291\n",
            "Epoch 1: [ 6000 / 60000] (10 %)  Loss: 2.026389\n",
            "Epoch 1: [12000 / 60000] (20 %)  Loss: 1.790763\n",
            "Epoch 1: [18000 / 60000] (30 %)  Loss: 1.565405\n",
            "Epoch 1: [24000 / 60000] (40 %)  Loss: 1.340660\n",
            "Epoch 1: [30000 / 60000] (50 %)  Loss: 1.232226\n",
            "Epoch 1: [36000 / 60000] (60 %)  Loss: 0.990201\n",
            "Epoch 1: [42000 / 60000] (70 %)  Loss: 0.974444\n",
            "Epoch 1: [48000 / 60000] (80 %)  Loss: 0.713364\n",
            "Epoch 1: [54000 / 60000] (90 %)  Loss: 0.729845\n",
            "Epoch 2: [    0 / 60000] (0 %)  Loss: 0.689033\n",
            "Epoch 2: [ 6000 / 60000] (10 %)  Loss: 0.544343\n",
            "Epoch 2: [12000 / 60000] (20 %)  Loss: 0.646912\n",
            "Epoch 2: [18000 / 60000] (30 %)  Loss: 0.553244\n",
            "Epoch 2: [24000 / 60000] (40 %)  Loss: 0.572928\n",
            "Epoch 2: [30000 / 60000] (50 %)  Loss: 0.625178\n",
            "Epoch 2: [36000 / 60000] (60 %)  Loss: 0.515424\n",
            "Epoch 2: [42000 / 60000] (70 %)  Loss: 0.621332\n",
            "Epoch 2: [48000 / 60000] (80 %)  Loss: 0.412318\n",
            "Epoch 2: [54000 / 60000] (90 %)  Loss: 0.464400\n",
            "Epoch 3: [    0 / 60000] (0 %)  Loss: 0.461416\n",
            "Epoch 3: [ 6000 / 60000] (10 %)  Loss: 0.369981\n",
            "Epoch 3: [12000 / 60000] (20 %)  Loss: 0.488040\n",
            "Epoch 3: [18000 / 60000] (30 %)  Loss: 0.398655\n",
            "Epoch 3: [24000 / 60000] (40 %)  Loss: 0.442597\n",
            "Epoch 3: [30000 / 60000] (50 %)  Loss: 0.485710\n",
            "Epoch 3: [36000 / 60000] (60 %)  Loss: 0.415343\n",
            "Epoch 3: [42000 / 60000] (70 %)  Loss: 0.525300\n",
            "Epoch 3: [48000 / 60000] (80 %)  Loss: 0.341918\n",
            "Epoch 3: [54000 / 60000] (90 %)  Loss: 0.406581\n",
            "Epoch 4: [    0 / 60000] (0 %)  Loss: 0.388760\n",
            "Epoch 4: [ 6000 / 60000] (10 %)  Loss: 0.305773\n",
            "Epoch 4: [12000 / 60000] (20 %)  Loss: 0.444440\n",
            "Epoch 4: [18000 / 60000] (30 %)  Loss: 0.341720\n",
            "Epoch 4: [24000 / 60000] (40 %)  Loss: 0.402908\n",
            "Epoch 4: [30000 / 60000] (50 %)  Loss: 0.423819\n",
            "Epoch 4: [36000 / 60000] (60 %)  Loss: 0.367873\n",
            "Epoch 4: [42000 / 60000] (70 %)  Loss: 0.492059\n",
            "Epoch 4: [48000 / 60000] (80 %)  Loss: 0.309094\n",
            "Epoch 4: [54000 / 60000] (90 %)  Loss: 0.364568\n",
            "Epoch 5: [    0 / 60000] (0 %)  Loss: 0.347853\n",
            "Epoch 5: [ 6000 / 60000] (10 %)  Loss: 0.282050\n",
            "Epoch 5: [12000 / 60000] (20 %)  Loss: 0.421362\n",
            "Epoch 5: [18000 / 60000] (30 %)  Loss: 0.307290\n",
            "Epoch 5: [24000 / 60000] (40 %)  Loss: 0.376021\n",
            "Epoch 5: [30000 / 60000] (50 %)  Loss: 0.394282\n",
            "Epoch 5: [36000 / 60000] (60 %)  Loss: 0.352537\n",
            "Epoch 5: [42000 / 60000] (70 %)  Loss: 0.475733\n",
            "Epoch 5: [48000 / 60000] (80 %)  Loss: 0.288681\n",
            "Epoch 5: [54000 / 60000] (90 %)  Loss: 0.353218\n"
          ]
        }
      ],
      "source": [
        "epochs = 5\n",
        "lr=0.1\n",
        "\n",
        "# 建立 DataLoader\n",
        "train_loader = DataLoader(train_ds, batch_size=600)\n",
        "\n",
        "# 設定優化器(optimizer)\n",
        "# optimizer = torch.optim.Adam(model.parameters(), lr=lr)\n",
        "optimizer = torch.optim.Adadelta(model.parameters(), lr=lr)\n",
        "\n",
        "criterion = nn.CrossEntropyLoss()\n",
        "\n",
        "model.train()\n",
        "loss_list = []\n",
        "for epoch in range(1, epochs + 1):\n",
        "    for batch_idx, (data, target) in enumerate(train_loader):\n",
        "        data, target = data.to(device), target.to(device)\n",
        "        # if batch_idx == 0 and epoch == 1: print(data.shape)\n",
        "\n",
        "        optimizer.zero_grad()\n",
        "        output = model(data)\n",
        "        # if batch_idx == 0 and epoch == 1: print(output.shape, target.shape)\n",
        "        loss = criterion(output, target)\n",
        "        loss.backward()\n",
        "        optimizer.step()\n",
        "\n",
        "        if batch_idx % 10 == 0:\n",
        "            loss_list.append(loss.item())\n",
        "            batch = batch_idx * len(data)\n",
        "            data_count = len(train_loader.dataset)\n",
        "            percentage = (100. * batch_idx / len(train_loader))\n",
        "            print(f'Epoch {epoch}: [{batch:5d} / {data_count}] ({percentage:.0f} %)' +\n",
        "                  f'  Loss: {loss.item():.6f}')"
      ]
    },
    {
      "cell_type": "markdown",
      "metadata": {
        "id": "iBaaPrHn0GqV"
      },
      "source": [
        "## 對訓練過程的損失繪圖"
      ]
    },
    {
      "cell_type": "code",
      "execution_count": null,
      "metadata": {
        "scrolled": false,
        "id": "t1QroDaQ0GqV",
        "outputId": "80971617-4c1e-4e84-cc1b-d608f46f62e9",
        "colab": {
          "base_uri": "https://localhost:8080/",
          "height": 447
        }
      },
      "outputs": [
        {
          "output_type": "execute_result",
          "data": {
            "text/plain": [
              "[<matplotlib.lines.Line2D at 0x7f69d6661060>]"
            ]
          },
          "metadata": {},
          "execution_count": 13
        },
        {
          "output_type": "display_data",
          "data": {
            "text/plain": [
              "<Figure size 640x480 with 1 Axes>"
            ],
            "image/png": "[encoded data removed]"
          },
          "metadata": {}
        }
      ],
      "source": [
        "import matplotlib.pyplot as plt\n",
        "\n",
        "plt.plot(loss_list, 'r')"
      ]
    },
    {
      "cell_type": "markdown",
      "metadata": {
        "id": "NeCBHNzy0GqV"
      },
      "source": [
        "## 步驟7：評分(Score Model)\n",
        "‧ 第4行設定模型進入評估階段,Dropout 神經層不會被執行,因它是抑制過練階段,這一行非常重要,否則預測會失準。\n",
        "\n",
        "‧ 第7~19 行預測所有測試資料,記得要包在 with torch.no_grad() 內,宣告內其的程式碼不作梯度下降,否則程式會出現錯誤。\n",
        "\n",
        "‧ 第13行是計算損失並累加。\n",
        "\n",
        "‧ 第 16行是預測並找最高機率的類別索引值 ,參數 keepdim=True 表示不修改output 變數的維度。\n",
        "\n",
        "‧ 第 19 行是計算準確筆數並累加。\n"
      ]
    },
    {
      "cell_type": "code",
      "execution_count": null,
      "metadata": {
        "scrolled": true,
        "id": "_dCfoHmF0GqV",
        "outputId": "199a152e-4ce9-45a9-f4c0-cf160e586cdd",
        "colab": {
          "base_uri": "https://localhost:8080/"
        }
      },
      "outputs": [
        {
          "output_type": "stream",
          "name": "stdout",
          "text": [
            "平均損失: 0.3348, 準確率: 9055/10000 (91%)\n",
            "\n"
          ]
        }
      ],
      "source": [
        "# 建立 DataLoader\n",
        "test_loader = DataLoader(test_ds, shuffle=False, batch_size=test_ds.targets.shape[0])\n",
        "\n",
        "model.eval()\n",
        "test_loss = 0\n",
        "correct = 0\n",
        "with torch.no_grad():\n",
        "  for data, target in test_loader:\n",
        "      data, target = data.to(device), target.to(device)\n",
        "      output = model(data)\n",
        "\n",
        "      # sum up batch loss\n",
        "      test_loss += criterion(output, target).item()\n",
        "\n",
        "      # 預測\n",
        "      pred = output.argmax(dim=1, keepdim=True)\n",
        "\n",
        "      # 正確筆數\n",
        "      correct += pred.eq(target.view_as(pred)).sum().item()\n",
        "\n",
        "# 平均損失\n",
        "# test_loss /= len(test_loader.dataset)\n",
        "# 顯示測試結果\n",
        "batch = batch_idx * len(data)\n",
        "data_count = len(test_loader.dataset)\n",
        "percentage = 100. * correct / data_count\n",
        "print(f'平均損失: {test_loss:.4f}, 準確率: {correct}/{data_count}' +\n",
        "      f' ({percentage:.0f}%)\\n')"
      ]
    },
    {
      "cell_type": "markdown",
      "metadata": {
        "id": "EK_tGu170GqV"
      },
      "source": [
        "## 使用 torchmetrics"
      ]
    },
    {
      "cell_type": "code",
      "execution_count": null,
      "metadata": {
        "id": "8LYYAVeF0GqV",
        "colab": {
          "base_uri": "https://localhost:8080/"
        },
        "outputId": "23fc1d98-1986-4347-9de4-f4ee40fba6ff"
      },
      "outputs": [
        {
          "output_type": "stream",
          "name": "stdout",
          "text": [
            "Collecting torchmetrics\n",
            "  Downloading torchmetrics-1.2.0-py3-none-any.whl (805 kB)\n",
            "\u001b[?25l     \u001b[90m━━━━━━━━━━━━━━━━━━━━━━━━━━━━━━━━━━━━━━━━\u001b[0m \u001b[32m0.0/805.2 kB\u001b[0m \u001b[31m?\u001b[0m eta \u001b[36m-:--:--\u001b[0m\r\u001b[2K     \u001b[91m━━━━━\u001b[0m\u001b[91m╸\u001b[0m\u001b[90m━━━━━━━━━━━━━━━━━━━━━━━━━━━━━━━━━\u001b[0m \u001b[32m122.9/805.2 kB\u001b[0m \u001b[31m3.4 MB/s\u001b[0m eta \u001b[36m0:00:01\u001b[0m\r\u001b[2K     \u001b[91m━━━━━━━━━━━━━━━━━━━━━━━━━━━━━━━━━━━━━\u001b[0m\u001b[91m╸\u001b[0m \u001b[32m798.7/805.2 kB\u001b[0m \u001b[31m12.0 MB/s\u001b[0m eta \u001b[36m0:00:01\u001b[0m\r\u001b[2K     \u001b[90m━━━━━━━━━━━━━━━━━━━━━━━━━━━━━━━━━━━━━━\u001b[0m \u001b[32m805.2/805.2 kB\u001b[0m \u001b[31m10.6 MB/s\u001b[0m eta \u001b[36m0:00:00\u001b[0m\n",
            "\u001b[?25hRequirement already satisfied: numpy>1.20.0 in /usr/local/lib/python3.10/dist-packages (from torchmetrics) (1.23.5)\n",
            "Requirement already satisfied: torch>=1.8.1 in /usr/local/lib/python3.10/dist-packages (from torchmetrics) (2.0.1+cu118)\n",
            "Collecting lightning-utilities>=0.8.0 (from torchmetrics)\n",
            "  Downloading lightning_utilities-0.9.0-py3-none-any.whl (23 kB)\n",
            "Requirement already satisfied: packaging>=17.1 in /usr/local/lib/python3.10/dist-packages (from lightning-utilities>=0.8.0->torchmetrics) (23.2)\n",
            "Requirement already satisfied: typing-extensions in /usr/local/lib/python3.10/dist-packages (from lightning-utilities>=0.8.0->torchmetrics) (4.5.0)\n",
            "Requirement already satisfied: filelock in /usr/local/lib/python3.10/dist-packages (from torch>=1.8.1->torchmetrics) (3.12.4)\n",
            "Requirement already satisfied: sympy in /usr/local/lib/python3.10/dist-packages (from torch>=1.8.1->torchmetrics) (1.12)\n",
            "Requirement already satisfied: networkx in /usr/local/lib/python3.10/dist-packages (from torch>=1.8.1->torchmetrics) (3.1)\n",
            "Requirement already satisfied: jinja2 in /usr/local/lib/python3.10/dist-packages (from torch>=1.8.1->torchmetrics) (3.1.2)\n",
            "Requirement already satisfied: triton==2.0.0 in /usr/local/lib/python3.10/dist-packages (from torch>=1.8.1->torchmetrics) (2.0.0)\n",
            "Requirement already satisfied: cmake in /usr/local/lib/python3.10/dist-packages (from triton==2.0.0->torch>=1.8.1->torchmetrics) (3.27.6)\n",
            "Requirement already satisfied: lit in /usr/local/lib/python3.10/dist-packages (from triton==2.0.0->torch>=1.8.1->torchmetrics) (17.0.2)\n",
            "Requirement already satisfied: MarkupSafe>=2.0 in /usr/local/lib/python3.10/dist-packages (from jinja2->torch>=1.8.1->torchmetrics) (2.1.3)\n",
            "Requirement already satisfied: mpmath>=0.19 in /usr/local/lib/python3.10/dist-packages (from sympy->torch>=1.8.1->torchmetrics) (1.3.0)\n",
            "Installing collected packages: lightning-utilities, torchmetrics\n",
            "Successfully installed lightning-utilities-0.9.0 torchmetrics-1.2.0\n"
          ]
        }
      ],
      "source": [
        "!pip install torchmetrics"
      ]
    },
    {
      "cell_type": "code",
      "execution_count": null,
      "metadata": {
        "id": "dF4bxK1l0GqV",
        "colab": {
          "base_uri": "https://localhost:8080/"
        },
        "outputId": "383aae4c-6388-45a3-a877-d797d819cd1d"
      },
      "outputs": [
        {
          "output_type": "execute_result",
          "data": {
            "text/plain": [
              "tensor(0.9055)"
            ]
          },
          "metadata": {},
          "execution_count": 21
        }
      ],
      "source": [
        "import torchmetrics\n",
        "\n",
        "torchmetrics.functional.accuracy(pred.reshape(-1), test_ds.targets.to(device), task=\"multiclass\", num_classes=10)"
      ]
    },
    {
      "cell_type": "markdown",
      "metadata": {
        "id": "_ogw1y8W0GqV"
      },
      "source": [
        "## 實際比對測試資料的前20筆"
      ]
    },
    {
      "cell_type": "code",
      "execution_count": null,
      "metadata": {
        "id": "IRYfmtcC0GqW",
        "outputId": "dd13c406-5c02-41b8-888a-270bcf93a235",
        "colab": {
          "base_uri": "https://localhost:8080/"
        }
      },
      "outputs": [
        {
          "output_type": "stream",
          "name": "stdout",
          "text": [
            "actual    : [7 2 1 0 4 1 4 9 5 9 0 6 9 0 1 5 9 7 3 4]\n",
            "prediction:  7 2 1 0 4 1 4 9 6 9 0 6 9 0 1 5 9 7 3 4\n"
          ]
        }
      ],
      "source": [
        "# 實際預測 20 筆資料\n",
        "predictions = []\n",
        "with torch.no_grad():\n",
        "    for i in range(20):\n",
        "        data, target = test_ds[i][0], test_ds[i][1]\n",
        "        data = data.reshape(1, *data.shape).to(device)\n",
        "        output = torch.argmax(model(data), axis=-1)\n",
        "        predictions.append(str(output.item()))\n",
        "\n",
        "# 比對\n",
        "print('actual    :', test_ds.targets[0:20].numpy())\n",
        "print('prediction: ', ' '.join(predictions[0:20]))"
      ]
    },
    {
      "cell_type": "code",
      "execution_count": null,
      "metadata": {
        "id": "ZDliyWpo0GqW",
        "outputId": "6b470a93-21ef-49b0-a259-7ee89c6425c1",
        "colab": {
          "base_uri": "https://localhost:8080/"
        }
      },
      "outputs": [
        {
          "output_type": "stream",
          "name": "stdout",
          "text": [
            "0~9預測機率: [[0.01 0.   0.06 0.   0.03 0.01 0.88 0.   0.01 0.  ]]\n",
            "0~9預測機率: [6]\n"
          ]
        }
      ],
      "source": [
        "# 顯示第 9 筆的機率\n",
        "import numpy as np\n",
        "\n",
        "i=8\n",
        "data = test_ds[i][0]\n",
        "data = data.reshape(1, *data.shape).to(device)\n",
        "#print(data.shape)\n",
        "predictions = torch.softmax(model(data), dim=1)\n",
        "print(f'0~9預測機率: {np.around(predictions.cpu().detach().numpy(), 2)}')\n",
        "print(f'0~9預測機率: {np.argmax(predictions.cpu().detach().numpy(), axis=-1)}')"
      ]
    },
    {
      "cell_type": "code",
      "execution_count": null,
      "metadata": {
        "scrolled": true,
        "id": "_KToMcg90GqW",
        "outputId": "1643c244-df03-4a7c-d1e2-386759aafb78",
        "colab": {
          "base_uri": "https://localhost:8080/",
          "height": 406
        }
      },
      "outputs": [
        {
          "output_type": "display_data",
          "data": {
            "text/plain": [
              "<Figure size 640x480 with 1 Axes>"
            ],
            "image/png": "[encoded data removed]"
          },
          "metadata": {}
        }
      ],
      "source": [
        "# 顯示第 9 筆圖像\n",
        "X2 = test_ds[i][0]\n",
        "plt.imshow(X2.reshape(28,28), cmap='gray')\n",
        "plt.axis('off')\n",
        "plt.show()"
      ]
    },
    {
      "cell_type": "markdown",
      "metadata": {
        "id": "MTfdBGXr0GqW"
      },
      "source": [
        "## 步驟8：評估，暫不進行"
      ]
    },
    {
      "cell_type": "markdown",
      "metadata": {
        "id": "-GCwMdmQ0GqW"
      },
      "source": [
        "## 步驟9：模型佈署\n",
        "將最佳模型存檔,再開發使用者介面或提供 APl,連同模型檔一併佈署到上線環境 (Production Environment)。"
      ]
    },
    {
      "cell_type": "code",
      "execution_count": null,
      "metadata": {
        "id": "wF41lRQs0GqW"
      },
      "outputs": [],
      "source": [
        "# 模型存檔\n",
        "torch.save(model, 'model.pt')\n",
        "\n",
        "# 模型載入\n",
        "model = torch.load('model.pt')"
      ]
    },
    {
      "cell_type": "code",
      "execution_count": null,
      "metadata": {
        "id": "JdFzS9Pi0GqW",
        "colab": {
          "base_uri": "https://localhost:8080/"
        },
        "outputId": "28e81f01-a3f8-4529-83dc-52d0587efc5e"
      },
      "outputs": [
        {
          "output_type": "execute_result",
          "data": {
            "text/plain": [
              "<All keys matched successfully>"
            ]
          },
          "metadata": {},
          "execution_count": 26
        }
      ],
      "source": [
        "# 權重存檔\n",
        "torch.save(model.state_dict(), 'model.pth')\n",
        "\n",
        "# 權重載入\n",
        "model.load_state_dict(torch.load('model.pth'))"
      ]
    },
    {
      "cell_type": "code",
      "execution_count": null,
      "metadata": {
        "id": "nM6NbWqw0GqW",
        "colab": {
          "base_uri": "https://localhost:8080/"
        },
        "outputId": "e746db0d-3267-4356-9521-7adcdca98b3c"
      },
      "outputs": [
        {
          "output_type": "stream",
          "name": "stdout",
          "text": [
            "每一層的 state_dict:\n",
            "1.weight \t torch.Size([256, 784])\n",
            "1.bias \t torch.Size([256])\n",
            "3.weight \t torch.Size([10, 256])\n",
            "3.bias \t torch.Size([10])\n"
          ]
        }
      ],
      "source": [
        "# 顯示每一層的 state_dict 維度\n",
        "print(\"每一層的 state_dict:\")\n",
        "for param_tensor in model.state_dict():\n",
        "    print(param_tensor, \"\\t\", model.state_dict()[param_tensor].size())"
      ]
    },
    {
      "cell_type": "markdown",
      "metadata": {
        "id": "ln16OozI0GqX"
      },
      "source": [
        "## 步驟10：新資料預測"
      ]
    },
    {
      "cell_type": "code",
      "execution_count": null,
      "metadata": {
        "scrolled": true,
        "id": "QynWXXIs0Gqa",
        "colab": {
          "base_uri": "https://localhost:8080/"
        },
        "outputId": "721b0cb1-74a8-48e8-df63-dc986d44a01e"
      },
      "outputs": [
        {
          "output_type": "stream",
          "name": "stdout",
          "text": [
            "Drive already mounted at /content/drive; to attempt to forcibly remount, call drive.mount(\"/content/drive\", force_remount=True).\n",
            "actual/prediction: 0 0\n",
            "actual/prediction: 1 1\n",
            "actual/prediction: 2 2\n",
            "actual/prediction: 3 7\n",
            "actual/prediction: 4 4\n",
            "actual/prediction: 5 5\n",
            "actual/prediction: 6 6\n",
            "actual/prediction: 7 1\n",
            "actual/prediction: 8 8\n",
            "actual/prediction: 9 8\n"
          ]
        }
      ],
      "source": [
        "# 使用小畫家，繪製 0~9，實際測試看看\n",
        "from skimage import io\n",
        "from skimage.transform import resize\n",
        "import numpy as np\n",
        "from google.colab import drive\n",
        "drive.mount('/content/drive')\n",
        "# 讀取影像並轉為單色\n",
        "for i in range(10):\n",
        "    uploaded_file = f'/content/drive/MyDrive/python_coding/MachineLearning/Neural_Network/myDigits/{i}.png'\n",
        "    image1 = io.imread(uploaded_file, as_gray=True)\n",
        "\n",
        "    # 縮為 (28, 28) 大小的影像\n",
        "    image_resized = resize(image1, (28, 28), anti_aliasing=True)\n",
        "    X1 = image_resized.reshape(1,28, 28)\n",
        "\n",
        "    # 反轉顏色，顏色0為白色，與 RGB 色碼不同，它的 0 為黑色\n",
        "    X1 = torch.FloatTensor(1.0-X1).to(device)\n",
        "\n",
        "    # 預測\n",
        "    predictions = torch.softmax(model(X1), dim=1)\n",
        "    # print(np.around(predictions.cpu().detach().numpy(), 2))\n",
        "    print(f'actual/prediction: {i} {np.argmax(predictions.detach().cpu().numpy())}')"
      ]
    },
    {
      "cell_type": "markdown",
      "metadata": {
        "id": "OFTDbSDH0Gqb"
      },
      "source": [
        "## 其他：顯示模型彙總資訊(summary)、繪製圖形顯示模型結構"
      ]
    },
    {
      "cell_type": "code",
      "execution_count": null,
      "metadata": {
        "id": "KQD0mmS90Gqb",
        "outputId": "42789671-9712-4044-a950-4cc7620b21b2",
        "colab": {
          "base_uri": "https://localhost:8080/"
        }
      },
      "outputs": [
        {
          "output_type": "stream",
          "name": "stdout",
          "text": [
            "Sequential(\n",
            "  (0): Flatten(start_dim=1, end_dim=-1)\n",
            "  (1): Linear(in_features=784, out_features=256, bias=True)\n",
            "  (2): Dropout(p=0.2, inplace=False)\n",
            "  (3): Linear(in_features=256, out_features=10, bias=True)\n",
            ")\n"
          ]
        }
      ],
      "source": [
        "print(model)"
      ]
    },
    {
      "cell_type": "code",
      "execution_count": null,
      "metadata": {
        "scrolled": false,
        "id": "VIGwyHbv0Gqb",
        "outputId": "eb9d87a5-1004-4829-e6d4-3a36b985c96d",
        "colab": {
          "base_uri": "https://localhost:8080/"
        }
      },
      "outputs": [
        {
          "output_type": "stream",
          "name": "stdout",
          "text": [
            "0: Flatten(start_dim=1, end_dim=-1)\n",
            "1: Linear(in_features=784, out_features=256, bias=True)\n",
            "2: Dropout(p=0.2, inplace=False)\n",
            "3: Linear(in_features=256, out_features=10, bias=True)\n"
          ]
        }
      ],
      "source": [
        "# 顯示模型的彙總資訊\n",
        "for name, module in model.named_children():\n",
        "    print(f'{name}: {module}')"
      ]
    },
    {
      "cell_type": "code",
      "execution_count": null,
      "metadata": {
        "id": "U9Wr2rZ50Gqb",
        "outputId": "fd8aa6bf-fc8b-46cc-8f7d-81cefeb1e3bf",
        "colab": {
          "base_uri": "https://localhost:8080/"
        }
      },
      "outputs": [
        {
          "output_type": "stream",
          "name": "stdout",
          "text": [
            "Collecting torchinfo\n",
            "  Downloading torchinfo-1.8.0-py3-none-any.whl (23 kB)\n",
            "Installing collected packages: torchinfo\n",
            "Successfully installed torchinfo-1.8.0\n"
          ]
        }
      ],
      "source": [
        "!pip install torchinfo"
      ]
    },
    {
      "cell_type": "code",
      "execution_count": null,
      "metadata": {
        "id": "eTF74h5d0Gqb",
        "outputId": "953676f8-a8c6-4064-df04-99bb4ca3bc76",
        "colab": {
          "base_uri": "https://localhost:8080/"
        }
      },
      "outputs": [
        {
          "output_type": "execute_result",
          "data": {
            "text/plain": [
              "==========================================================================================\n",
              "Layer (type:depth-idx)                   Output Shape              Param #\n",
              "==========================================================================================\n",
              "Sequential                               [60000, 10]               --\n",
              "├─Flatten: 1-1                           [60000, 784]              --\n",
              "├─Linear: 1-2                            [60000, 256]              200,960\n",
              "├─Dropout: 1-3                           [60000, 256]              --\n",
              "├─Linear: 1-4                            [60000, 10]               2,570\n",
              "==========================================================================================\n",
              "Total params: 203,530\n",
              "Trainable params: 203,530\n",
              "Non-trainable params: 0\n",
              "Total mult-adds (G): 12.21\n",
              "==========================================================================================\n",
              "Input size (MB): 188.16\n",
              "Forward/backward pass size (MB): 127.68\n",
              "Params size (MB): 0.81\n",
              "Estimated Total Size (MB): 316.65\n",
              "=========================================================================================="
            ]
          },
          "metadata": {},
          "execution_count": 45
        }
      ],
      "source": [
        "from torchinfo import summary\n",
        "summary(model, (60000, 28, 28)) # input dimension size"
      ]
    },
    {
      "cell_type": "markdown",
      "metadata": {
        "id": "xLGKCaRc0Gqb"
      },
      "source": [
        "## PyTorch 無法繪製模型"
      ]
    },
    {
      "cell_type": "code",
      "execution_count": null,
      "metadata": {
        "id": "xxFkdLvy0Gqb"
      },
      "outputs": [],
      "source": []
    }
  ],
  "metadata": {
    "kernelspec": {
      "display_name": "Python 3 (ipykernel)",
      "language": "python",
      "name": "python3"
    },
    "language_info": {
      "codemirror_mode": {
        "name": "ipython",
        "version": 3
      },
      "file_extension": ".py",
      "mimetype": "text/x-python",
      "name": "python",
      "nbconvert_exporter": "python",
      "pygments_lexer": "ipython3",
      "version": "3.9.13"
    },
    "colab": {
      "provenance": [],
      "include_colab_link": true
    }
  },
  "nbformat": 4,
  "nbformat_minor": 0
}