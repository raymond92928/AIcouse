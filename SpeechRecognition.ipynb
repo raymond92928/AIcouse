{
 "cells": [
  {
   "cell_type": "markdown",
   "id": "591e4ad6",
   "metadata": {},
   "source": [
    "!pip install SpeechRecognition\n",
    "!pip install pipwin\n",
    "!pipwin install pyaudio"
   ]
  },
  {
   "cell_type": "code",
   "execution_count": 8,
   "id": "2984533d",
   "metadata": {},
   "outputs": [
    {
     "name": "stdout",
     "output_type": "stream",
     "text": [
      "A moment of silence, please...\n",
      "Set minimum energy threshold to 590.9962314101193\n",
      "Say something!\n",
      "Got it! Now to recognize it...\n",
      "You said 你好\n"
     ]
    }
   ],
   "source": [
    "import speech_recognition as sr\n",
    "import os\n",
    "\n",
    "r = sr.Recognizer()\n",
    "m = sr.Microphone()\n",
    "\n",
    "print(\"A moment of silence, please...\")\n",
    "\n",
    "# automatically calibrate energy threshold for ambient noise levels\n",
    "with m as source: r.adjust_for_ambient_noise(source)\n",
    "r.energy_threshold = r.energy_threshold + 500\n",
    "print(\"Set minimum energy threshold to {}\".format(r.energy_threshold))\n",
    "while True:\n",
    "    print(\"Say something!\")\n",
    "    with m as source: audio = r.listen(source)\n",
    "    print(\"Got it! Now to recognize it...\")\n",
    "    try:\n",
    "        # recognize speech using Google Speech Recognition\n",
    "        #value = r.recognize_google(audio, language=\"cmn-Hans-CN\")\n",
    "        value = r.recognize_google(audio, language=\"yue-Hant-HK\")\n",
    "        #value = r.recognize_google(audio, language=\"en-US\")\n",
    "        print(\"You said {}\".format(value))\n",
    "        break\n",
    "    except sr.UnknownValueError:\n",
    "        print(\"Oops! Didn't catch that\")\n",
    "    except sr.RequestError as e:\n",
    "        print(\"Uh oh! Couldn't request results from Google Speech Recognition service; {0}\".format(e))"
   ]
  },
  {
   "cell_type": "code",
   "execution_count": null,
   "id": "a75e10d1",
   "metadata": {},
   "outputs": [],
   "source": []
  }
 ],
 "metadata": {
  "kernelspec": {
   "display_name": "Python 3 (ipykernel)",
   "language": "python",
   "name": "python3"
  },
  "language_info": {
   "codemirror_mode": {
    "name": "ipython",
    "version": 3
   },
   "file_extension": ".py",
   "mimetype": "text/x-python",
   "name": "python",
   "nbconvert_exporter": "python",
   "pygments_lexer": "ipython3",
   "version": "3.9.12"
  }
 },
 "nbformat": 4,
 "nbformat_minor": 5
}
