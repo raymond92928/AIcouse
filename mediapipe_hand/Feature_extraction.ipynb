{
 "cells": [
  {
   "cell_type": "markdown",
   "id": "0df578c3",
   "metadata": {},
   "source": [
    "# Capture Landmarks and Export to CSV"
   ]
  },
  {
   "cell_type": "code",
   "execution_count": null,
   "id": "028c6012",
   "metadata": {},
   "outputs": [],
   "source": [
    "import csv\n",
    "landmarks = [\"class\"]\n",
    "for val in range(0, 20 + 1): # hand have 21 landmarks\n",
    "    landmarks += [f\"x{val}\", f\"y{val}\", f\"z{val}\"]\n",
    "with open(\"coords.csv\", mode = \"w\", newline = \"\") as f:\n",
    "    csv_writer = csv.writer(f, delimiter = \",\", quotechar = '\"', quoting = csv.QUOTE_MINIMAL)\n",
    "    csv_writer.writerow(landmarks)"
   ]
  },
  {
   "cell_type": "code",
   "execution_count": null,
   "id": "e0de29c1",
   "metadata": {},
   "outputs": [],
   "source": []
  },
  {
   "cell_type": "code",
   "execution_count": null,
   "id": "cb2128e8",
   "metadata": {},
   "outputs": [],
   "source": []
  }
 ],
 "metadata": {
  "kernelspec": {
   "display_name": "Python 3 (ipykernel)",
   "language": "python",
   "name": "python3"
  },
  "language_info": {
   "codemirror_mode": {
    "name": "ipython",
    "version": 3
   },
   "file_extension": ".py",
   "mimetype": "text/x-python",
   "name": "python",
   "nbconvert_exporter": "python",
   "pygments_lexer": "ipython3",
   "version": "3.9.15"
  }
 },
 "nbformat": 4,
 "nbformat_minor": 5
}
