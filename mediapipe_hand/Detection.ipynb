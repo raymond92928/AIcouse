{
 "cells": [
  {
   "cell_type": "markdown",
   "id": "a5cdcd2a",
   "metadata": {},
   "source": [
    "# Detection"
   ]
  },
  {
   "cell_type": "code",
   "execution_count": 1,
   "id": "0da062b3",
   "metadata": {},
   "outputs": [],
   "source": [
    "import cv2\n",
    "import mediapipe as mp\n",
    "import numpy as np\n",
    "import time\n",
    "import pickle\n",
    "import csv\n",
    "import time\n",
    "import pandas as pd\n",
    "\n",
    "with open('Hand.pkl', 'rb') as f:\n",
    "    model = pickle.load(f)"
   ]
  },
  {
   "cell_type": "code",
   "execution_count": 2,
   "id": "9119b6f4",
   "metadata": {},
   "outputs": [],
   "source": [
    "mp_drawing = mp.solutions.drawing_utils\n",
    "mp_hands = mp.solutions.hands\n",
    "mp_drawing_styles = mp.solutions.drawing_styles\n",
    "\n",
    "font = cv2.FONT_HERSHEY_SIMPLEX\n",
    "\n",
    "# cap = cv2.VideoCapture(videoPATH)\n",
    "cap = cv2.VideoCapture(0)\n",
    "\n",
    "window_name = \"Mediapipe\"\n",
    "cv2.namedWindow(window_name, cv2.WINDOW_FULLSCREEN)\n",
    "\n",
    "with mp_hands.Hands(\n",
    "    model_complexity=0,\n",
    "    min_detection_confidence=0.5,\n",
    "    min_tracking_confidence=0.5) as hands:\n",
    "    while True:\n",
    "        ret, image = cap.read()\n",
    "        \n",
    "        image = cv2.flip(image, 1) \n",
    "        image = cv2.cvtColor(image, cv2.COLOR_BGR2RGB)\n",
    "        # image.flags.writeable = False\n",
    "\n",
    "        results = hands.process(image) # Make detection\n",
    "\n",
    "        # image.flags.writeable = True\n",
    "        image = cv2.cvtColor(image, cv2.COLOR_RGB2BGR)\n",
    "\n",
    "        if results.multi_hand_landmarks:\n",
    "            for hand_landmarks in results.multi_hand_landmarks:\n",
    "                mp_drawing.draw_landmarks(\n",
    "                image,\n",
    "                hand_landmarks,\n",
    "                mp_hands.HAND_CONNECTIONS,\n",
    "                mp_drawing_styles.get_default_hand_landmarks_style(),\n",
    "                mp_drawing_styles.get_default_hand_connections_style())\n",
    "\n",
    "            HandLandmark = results.multi_hand_landmarks\n",
    "            hand_row = list (np.array([[i.x, i.y, i.z] for i in hand_landmarks.landmark]).flatten())\n",
    "            X = pd.DataFrame([hand_row])\n",
    "            hand_language_class = model.predict(X)[0]\n",
    "            hand_language_prob = model.predict_proba(X)[0]\n",
    "#             print(hand_language_class, hand_language_prob)\n",
    "       \n",
    "            text = str(hand_language_class)\n",
    "            textsize = cv2.getTextSize(text, font, 4, 2)[0]\n",
    "            # get coords based on boundary\n",
    "            textX = 0\n",
    "            textY = textsize[1]\n",
    "            cv2.putText(image, text, (textX, textY),\n",
    "                    font, 4, (255, 255, 255), 2, cv2.LINE_AA)\n",
    "            \n",
    "        cv2.imshow(window_name, image)\n",
    "        \n",
    "        if ret == False or cv2.waitKey(10) == ord(\"q\"):\n",
    "            break\n",
    "            \n",
    "    cap.release()\n",
    "    cv2.destroyAllWindows()\n"
   ]
  },
  {
   "cell_type": "code",
   "execution_count": null,
   "id": "bf1d2491",
   "metadata": {},
   "outputs": [],
   "source": []
  }
 ],
 "metadata": {
  "kernelspec": {
   "display_name": "Python 3 (ipykernel)",
   "language": "python",
   "name": "python3"
  },
  "language_info": {
   "codemirror_mode": {
    "name": "ipython",
    "version": 3
   },
   "file_extension": ".py",
   "mimetype": "text/x-python",
   "name": "python",
   "nbconvert_exporter": "python",
   "pygments_lexer": "ipython3",
   "version": "3.9.15"
  }
 },
 "nbformat": 4,
 "nbformat_minor": 5
}
