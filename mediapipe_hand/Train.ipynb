{
 "cells": [
  {
   "cell_type": "markdown",
   "id": "f5eb1498",
   "metadata": {},
   "source": [
    "# Train Model"
   ]
  },
  {
   "cell_type": "code",
   "execution_count": null,
   "id": "85aec79e",
   "metadata": {},
   "outputs": [],
   "source": [
    "import pandas as pd\n",
    "from sklearn.model_selection import train_test_split"
   ]
  },
  {
   "cell_type": "code",
   "execution_count": null,
   "id": "0e42262d",
   "metadata": {},
   "outputs": [],
   "source": [
    "df = pd.read_csv(\"coords.csv\")"
   ]
  },
  {
   "cell_type": "code",
   "execution_count": null,
   "id": "49a1704b",
   "metadata": {},
   "outputs": [],
   "source": [
    "X = df.drop(\"class\", axis = 1) # features\n",
    "y = df[\"class\"] # target value"
   ]
  },
  {
   "cell_type": "code",
   "execution_count": null,
   "id": "945eb607",
   "metadata": {},
   "outputs": [],
   "source": [
    "y"
   ]
  },
  {
   "cell_type": "code",
   "execution_count": null,
   "id": "1df405a0",
   "metadata": {},
   "outputs": [],
   "source": [
    "X_train, X_test, y_train, y_test = train_test_split(X, y, test_size = 0.3, random_state=1234)"
   ]
  },
  {
   "cell_type": "code",
   "execution_count": null,
   "id": "fc3e8369",
   "metadata": {},
   "outputs": [],
   "source": [
    "from sklearn.pipeline import make_pipeline\n",
    "from sklearn.preprocessing import StandardScaler\n",
    "from sklearn.ensemble import RandomForestClassifier\n",
    "import pickle"
   ]
  },
  {
   "cell_type": "code",
   "execution_count": null,
   "id": "3fab278d",
   "metadata": {},
   "outputs": [],
   "source": [
    "pipeline = make_pipeline(StandardScaler(), RandomForestClassifier())"
   ]
  },
  {
   "cell_type": "code",
   "execution_count": null,
   "id": "3646ccc1",
   "metadata": {},
   "outputs": [],
   "source": [
    "fit_models = {}\n",
    "model = pipeline.fit(X_train.values, y_train)\n",
    "fit_models['rf'] = model"
   ]
  },
  {
   "cell_type": "code",
   "execution_count": null,
   "id": "36d304b9",
   "metadata": {},
   "outputs": [],
   "source": [
    "for algo, model in fit_models.items():\n",
    "    yhat = model.predict(X_test.values)\n",
    "    print(algo, accuracy_score(y_test, yhat))"
   ]
  },
  {
   "cell_type": "code",
   "execution_count": null,
   "id": "2cff4e9a",
   "metadata": {},
   "outputs": [],
   "source": [
    "with open('Hand.pkl', 'wb') as f:\n",
    "    pickle.dump(fit_models['rf'], f)"
   ]
  },
  {
   "cell_type": "markdown",
   "id": "c6e0a7e9",
   "metadata": {},
   "source": [
    "# Training without StandardScaler"
   ]
  },
  {
   "cell_type": "code",
   "execution_count": null,
   "id": "d1284b14",
   "metadata": {},
   "outputs": [],
   "source": [
    "fit_models = {}\n",
    "clf = RandomForestClassifier()\n",
    "model = clf.fit(X_train.values, y_train)\n",
    "fit_models['rf'] = model"
   ]
  },
  {
   "cell_type": "code",
   "execution_count": null,
   "id": "24e7602f",
   "metadata": {},
   "outputs": [],
   "source": [
    "from sklearn.metrics import classification_report\n",
    "predictions = clf.predict(X_test.values)\n",
    "print(classification_report(y_test, predictions))"
   ]
  },
  {
   "cell_type": "code",
   "execution_count": null,
   "id": "c04e2341",
   "metadata": {},
   "outputs": [],
   "source": [
    "with open('Hand.pkl', 'wb') as f:\n",
    "    pickle.dump(fit_models['rf'], f)"
   ]
  },
  {
   "cell_type": "code",
   "execution_count": null,
   "id": "2196a68b",
   "metadata": {},
   "outputs": [],
   "source": []
  }
 ],
 "metadata": {
  "kernelspec": {
   "display_name": "Python 3 (ipykernel)",
   "language": "python",
   "name": "python3"
  },
  "language_info": {
   "codemirror_mode": {
    "name": "ipython",
    "version": 3
   },
   "file_extension": ".py",
   "mimetype": "text/x-python",
   "name": "python",
   "nbconvert_exporter": "python",
   "pygments_lexer": "ipython3",
   "version": "3.9.15"
  }
 },
 "nbformat": 4,
 "nbformat_minor": 5
}
