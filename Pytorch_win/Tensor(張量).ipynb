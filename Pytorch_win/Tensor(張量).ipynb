{
 "cells": [
  {
   "cell_type": "markdown",
   "id": "27ac150b",
   "metadata": {},
   "source": [
    "# Download list:\n",
    "numpy, matplotlib, pillow, pandas, scikit-learn\n",
    "\n",
    "1. [Download CUDA and cuDNN](https://docs.nvidia.com/deeplearning/cudnn/support-matrix/index.html)\n",
    "\n",
    "2. After download the cuDNN:\n",
    "\n",
    ">copy the *\\bin\\cudnn64_8.dll to C:\\Program Files\\NvIDIA GPU Computing Tollkit\\CUDA\\v11.X\\bin\n",
    "\n",
    ">copy the *\\include\\cudnn.h to C:\\Program Files\\NvIDIA GPU Computing Tollkit\\CUDA\\v11.X\\include\n",
    "\n",
    ">copy the *\\lib\\x64\\cudnn.lib to C:\\Program Files\\NvIDIA GPU Computing Tollkit\\CUDA\\v11.X\\lib\\x64\n",
    "\n",
    "3. [Select your preferences and run the install command](https://pytorch.org/get-started/locally/)"
   ]
  },
  {
   "cell_type": "code",
   "execution_count": 1,
   "id": "67451ad0",
   "metadata": {},
   "outputs": [
    {
     "name": "stdout",
     "output_type": "stream",
     "text": [
      "2.0.0\n"
     ]
    }
   ],
   "source": [
    "# check torch version\n",
    "import torch\n",
    "print(torch.__version__)"
   ]
  },
  {
   "cell_type": "code",
   "execution_count": 2,
   "id": "15f3e763",
   "metadata": {},
   "outputs": [
    {
     "name": "stdout",
     "output_type": "stream",
     "text": [
      "cuda\n"
     ]
    }
   ],
   "source": [
    "#check cuda was installed or not\n",
    "USE_CUDA = torch.cuda.is_available()\n",
    "device = torch.device(\"cuda\" if USE_CUDA else \"cpu\")\n",
    "print(device)"
   ]
  },
  {
   "cell_type": "markdown",
   "id": "6e8b6a28",
   "metadata": {},
   "source": [
    "# Tensor basic\n",
    "## [all tensor types](https://pytorch.org/docs/stable/tensors.html)"
   ]
  },
  {
   "cell_type": "code",
   "execution_count": 3,
   "id": "cc0b3ec8",
   "metadata": {},
   "outputs": [
    {
     "name": "stdout",
     "output_type": "stream",
     "text": [
      "tensor([1., 2.]) torch.FloatTensor\n",
      "tensor([1, 2]) torch.LongTensor\n",
      "tensor([1., 2.]) torch.FloatTensor\n",
      "tensor([1., 2.]) torch.FloatTensor\n"
     ]
    }
   ],
   "source": [
    "import torch\n",
    "\n",
    "a1 = torch.Tensor([1, 2])\n",
    "print(a1, a1.type())\n",
    "a2 = torch.tensor([1, 2])\n",
    "print(a2, a2.type())\n",
    "\n",
    "a3 = torch.tensor([1.0, 2.0])\n",
    "print(a3, a3.type())\n",
    "\n",
    "a4 = torch.tensor([1, 2], dtype = torch.float)\n",
    "print(a4, a4.type())"
   ]
  },
  {
   "cell_type": "code",
   "execution_count": 4,
   "id": "b878d21b",
   "metadata": {},
   "outputs": [
    {
     "name": "stdout",
     "output_type": "stream",
     "text": [
      "tensor([[0., 0., 0.],\n",
      "        [0., 0., 0.]])\n"
     ]
    }
   ],
   "source": [
    "b1 = torch.zeros(2,3)\n",
    "print(b1)"
   ]
  },
  {
   "cell_type": "code",
   "execution_count": 5,
   "id": "a6292f3a",
   "metadata": {},
   "outputs": [
    {
     "name": "stdout",
     "output_type": "stream",
     "text": [
      "tensor([[1., 1., 1.],\n",
      "        [1., 1., 1.]])\n"
     ]
    }
   ],
   "source": [
    "b2 = torch.ones(2,3)\n",
    "print(b2)"
   ]
  },
  {
   "cell_type": "code",
   "execution_count": 6,
   "id": "13f4edb0",
   "metadata": {},
   "outputs": [
    {
     "name": "stdout",
     "output_type": "stream",
     "text": [
      "tensor([[0.9687, 0.7630, 0.3282],\n",
      "        [0.8687, 0.0804, 0.4477]])\n"
     ]
    }
   ],
   "source": [
    "# torch.manual_seed(23) # random seed\n",
    "b3 = torch.rand(2, 3) # random in [0, 1)\n",
    "print(b3)"
   ]
  },
  {
   "cell_type": "code",
   "execution_count": 7,
   "id": "210da900",
   "metadata": {},
   "outputs": [
    {
     "name": "stdout",
     "output_type": "stream",
     "text": [
      "tensor([[-0.4574, -1.0091, -0.7427],\n",
      "        [-0.6166, -0.4068,  0.0669],\n",
      "        [-1.5060,  1.3417, -0.1604]])\n"
     ]
    }
   ],
   "source": [
    "b4 = torch.randn(3, 3) # standard normal distribution\n",
    "print(b4)"
   ]
  },
  {
   "cell_type": "code",
   "execution_count": 8,
   "id": "f240bba2",
   "metadata": {},
   "outputs": [
    {
     "name": "stdout",
     "output_type": "stream",
     "text": [
      "tensor([[0., 0., 0.],\n",
      "        [0., 0., 0.]])\n"
     ]
    }
   ],
   "source": [
    "b2.zero_() # Fills self tensor with zeros\n",
    "print(b2)"
   ]
  },
  {
   "cell_type": "code",
   "execution_count": 9,
   "id": "060db739",
   "metadata": {},
   "outputs": [
    {
     "name": "stdout",
     "output_type": "stream",
     "text": [
      "2\n"
     ]
    }
   ],
   "source": [
    "c1 = torch.tensor([2])\n",
    "c = c1.item() # change tensor to scalar\n",
    "print(c)"
   ]
  },
  {
   "cell_type": "code",
   "execution_count": 10,
   "id": "1a0b1f4c",
   "metadata": {},
   "outputs": [
    {
     "name": "stdout",
     "output_type": "stream",
     "text": [
      "torch.float32\n",
      "float32\n"
     ]
    }
   ],
   "source": [
    "d1 = torch.ones(2, 3)\n",
    "d1_np = d1.numpy() # tensor to numpy\n",
    "print(d1.dtype)\n",
    "print(d1_np.dtype)"
   ]
  },
  {
   "cell_type": "code",
   "execution_count": 11,
   "id": "c96d6012",
   "metadata": {
    "scrolled": true
   },
   "outputs": [
    {
     "name": "stdout",
     "output_type": "stream",
     "text": [
      "torch.int32\n"
     ]
    }
   ],
   "source": [
    "import numpy as np\n",
    "d2_np = np.array([1, 2, 3])\n",
    "d2 = torch.from_numpy(d2_np)\n",
    "print(d2.dtype)"
   ]
  },
  {
   "cell_type": "code",
   "execution_count": 12,
   "id": "180715ac",
   "metadata": {},
   "outputs": [
    {
     "name": "stdout",
     "output_type": "stream",
     "text": [
      "tensor([[0.5143, 0.6036, 0.3199],\n",
      "        [0.9113, 0.5279, 0.9072]])\n",
      "[[0.5143158435821533, 0.6036020517349243, 0.3198933005332947], [0.9112882614135742, 0.5279167890548706, 0.9071860313415527]]\n"
     ]
    }
   ],
   "source": [
    "d1 = torch.rand(2,3)\n",
    "print(d1)\n",
    "d2 = d1.tolist()\n",
    "print(d2)"
   ]
  },
  {
   "cell_type": "markdown",
   "id": "cef316ed",
   "metadata": {},
   "source": [
    "# Shape"
   ]
  },
  {
   "cell_type": "code",
   "execution_count": 13,
   "id": "071880be",
   "metadata": {},
   "outputs": [
    {
     "name": "stdout",
     "output_type": "stream",
     "text": [
      "torch.Size([4, 2])\n"
     ]
    }
   ],
   "source": [
    "x1 = torch.tensor([[1, 2], [3, 4], [5, 6], [7, 8]])\n",
    "print(x1.shape)"
   ]
  },
  {
   "cell_type": "markdown",
   "id": "502a6a57",
   "metadata": {},
   "source": [
    "# index (same as numpy)"
   ]
  },
  {
   "cell_type": "code",
   "execution_count": 14,
   "id": "a26cff99",
   "metadata": {},
   "outputs": [
    {
     "name": "stdout",
     "output_type": "stream",
     "text": [
      "tensor(4)\n",
      "4\n",
      "tensor([2, 4])\n",
      "tensor([1, 2, 3, 4])\n"
     ]
    }
   ],
   "source": [
    "x1 = torch.tensor([[1, 2], [3, 4], [5, 6], [7, 8]])\n",
    "print(x1[1, 1])\n",
    "print(x1[1, 1].item())\n",
    "print(x1[:2, 1])\n",
    "print(x1[x1 < 5])"
   ]
  },
  {
   "cell_type": "code",
   "execution_count": 15,
   "id": "38441aba",
   "metadata": {},
   "outputs": [
    {
     "name": "stdout",
     "output_type": "stream",
     "text": [
      "tensor([[1, 3, 5, 7],\n",
      "        [2, 4, 6, 8]])\n"
     ]
    }
   ],
   "source": [
    "x1 = torch.tensor([[1, 2], [3, 4], [5, 6], [7, 8]])\n",
    "print(x1.T) # transpose"
   ]
  },
  {
   "cell_type": "markdown",
   "id": "7809ffdc",
   "metadata": {},
   "source": [
    "## Concatenates and Removes a tensor dimension"
   ]
  },
  {
   "cell_type": "code",
   "execution_count": 16,
   "id": "73d58203",
   "metadata": {},
   "outputs": [
    {
     "name": "stdout",
     "output_type": "stream",
     "text": [
      "tensor([[1, 2],\n",
      "        [3, 4],\n",
      "        [5, 6],\n",
      "        [7, 8]]) torch.Size([4, 2])\n",
      "tensor([[1, 2, 5, 6],\n",
      "        [3, 4, 7, 8]]) torch.Size([2, 4])\n"
     ]
    }
   ],
   "source": [
    "y1 = torch.tensor([[1, 2], [3, 4]])\n",
    "y2 = torch.tensor([[5, 6], [7, 8]])\n",
    "\n",
    "y3 = torch.cat([y1, y2], dim = 0)\n",
    "print(y3, y3.shape)\n",
    "\n",
    "y4 = torch.cat([y1, y2], dim = 1)\n",
    "print(y4, y4.shape)"
   ]
  },
  {
   "cell_type": "code",
   "execution_count": 17,
   "id": "70093a10",
   "metadata": {},
   "outputs": [
    {
     "name": "stdout",
     "output_type": "stream",
     "text": [
      "tensor([[[1, 2],\n",
      "         [3, 4]],\n",
      "\n",
      "        [[5, 6],\n",
      "         [7, 8]]]) torch.Size([2, 2, 2])\n"
     ]
    }
   ],
   "source": [
    "y5 = torch.stack((y1, y2))\n",
    "print(y5, y5.shape)"
   ]
  },
  {
   "cell_type": "code",
   "execution_count": 18,
   "id": "96eb90f3",
   "metadata": {},
   "outputs": [
    {
     "name": "stdout",
     "output_type": "stream",
     "text": [
      "(tensor([1, 2]), tensor([3, 4]), tensor([5, 6]), tensor([7, 8]))\n"
     ]
    }
   ],
   "source": [
    "y6 = torch.unbind(y3)\n",
    "print(y6)"
   ]
  },
  {
   "cell_type": "markdown",
   "id": "5165664a",
   "metadata": {},
   "source": [
    "# compare"
   ]
  },
  {
   "cell_type": "code",
   "execution_count": 19,
   "id": "0aaab0cf",
   "metadata": {},
   "outputs": [
    {
     "name": "stdout",
     "output_type": "stream",
     "text": [
      "tensor([0, 1, 2, 3, 4, 5, 6, 7])\n",
      "tensor([[0, 1, 2, 3],\n",
      "        [4, 5, 6, 7]])\n",
      "torch.return_types.max(\n",
      "values=tensor([3, 7]),\n",
      "indices=tensor([3, 3]))\n"
     ]
    }
   ],
   "source": [
    "v1 = torch.arange(8)\n",
    "print(v1)\n",
    "\n",
    "v2 = v1.view(2,4)\n",
    "print(v2)\n",
    "\n",
    "r = torch.max(v2, dim =1)\n",
    "print(r)"
   ]
  },
  {
   "cell_type": "code",
   "execution_count": 20,
   "id": "bbd24b73",
   "metadata": {},
   "outputs": [
    {
     "name": "stdout",
     "output_type": "stream",
     "text": [
      "torch.return_types.topk(\n",
      "values=tensor([[3, 2],\n",
      "        [7, 6]]),\n",
      "indices=tensor([[3, 2],\n",
      "        [3, 2]]))\n"
     ]
    }
   ],
   "source": [
    "r = torch.topk(v2, 2, dim = 1)\n",
    "print(r)"
   ]
  },
  {
   "cell_type": "code",
   "execution_count": 21,
   "id": "287dde14",
   "metadata": {},
   "outputs": [
    {
     "name": "stdout",
     "output_type": "stream",
     "text": [
      "tensor([[0.8983, 0.6919, 0.5600],\n",
      "        [0.4194, 0.7302, 0.7992]])\n",
      "tensor([0, 1, 1])\n",
      "tensor([0, 2])\n"
     ]
    }
   ],
   "source": [
    "v3 = torch.rand(2,3)\n",
    "print(v3)\n",
    "\n",
    "print(torch.argmax(v3, dim =0))\n",
    "print(torch.argmax(v3, dim =1))"
   ]
  },
  {
   "cell_type": "markdown",
   "id": "522db5c8",
   "metadata": {},
   "source": [
    "# Tensor in CPU and GPU"
   ]
  },
  {
   "cell_type": "code",
   "execution_count": 22,
   "id": "24fae764",
   "metadata": {},
   "outputs": [
    {
     "name": "stdout",
     "output_type": "stream",
     "text": [
      "cuda\n"
     ]
    }
   ],
   "source": [
    "USE_CUDA = torch.cuda.is_available()\n",
    "device = torch.device(\"cuda\" if USE_CUDA else \"cpu\")\n",
    "print(device)"
   ]
  },
  {
   "cell_type": "code",
   "execution_count": 23,
   "id": "c1aa63ae",
   "metadata": {},
   "outputs": [
    {
     "name": "stdout",
     "output_type": "stream",
     "text": [
      "tensor([[ 8, 10, 12],\n",
      "        [ 4,  6,  8]], device='cuda:0')\n"
     ]
    }
   ],
   "source": [
    "x = torch.tensor([[1, 2, 3], [4, 5, 6]], device = device)\n",
    "y = torch.tensor([[7, 8, 9], [0, 1, 2]], device = device)\n",
    "z = x + y\n",
    "print(z)"
   ]
  },
  {
   "cell_type": "code",
   "execution_count": 24,
   "id": "50d79f29",
   "metadata": {},
   "outputs": [
    {
     "name": "stdout",
     "output_type": "stream",
     "text": [
      "tensor([[ 8, 10, 12],\n",
      "        [ 4,  6,  8]])\n"
     ]
    }
   ],
   "source": [
    "x = x.to(\"cpu\") # change memory from gpu to cpu\n",
    "y = y.to(\"cpu\")\n",
    "z = x + y\n",
    "print(z)"
   ]
  },
  {
   "cell_type": "code",
   "execution_count": 25,
   "id": "ef267644",
   "metadata": {},
   "outputs": [
    {
     "name": "stdout",
     "output_type": "stream",
     "text": [
      "tensor([[ 8, 10, 12],\n",
      "        [ 4,  6,  8]], device='cuda:0')\n"
     ]
    }
   ],
   "source": [
    "x = x.to(\"cuda\") # change menory from cpu to  gpu\n",
    "y = y.to(\"cuda\")\n",
    "z = x + y\n",
    "print(z)"
   ]
  }
 ],
 "metadata": {
  "kernelspec": {
   "display_name": "Python 3 (ipykernel)",
   "language": "python",
   "name": "python3"
  },
  "language_info": {
   "codemirror_mode": {
    "name": "ipython",
    "version": 3
   },
   "file_extension": ".py",
   "mimetype": "text/x-python",
   "name": "python",
   "nbconvert_exporter": "python",
   "pygments_lexer": "ipython3",
   "version": "3.9.15"
  }
 },
 "nbformat": 4,
 "nbformat_minor": 5
}
