{
  "cells": [
    {
      "cell_type": "markdown",
      "metadata": {
        "id": "view-in-github",
        "colab_type": "text"
      },
      "source": [
        "<a href=\"https://colab.research.google.com/github/raymond92928/AIcouse/blob/main/Neural_Network/%E6%89%8B%E5%AF%AB%E9%98%BF%E6%8B%89%E4%BC%AF%E6%95%B8%E5%AD%97%E8%BE%A8%E8%AD%98_%E5%B0%88%E5%AE%B6%E6%A8%A1%E5%BC%8F.ipynb\" target=\"_parent\"><img src=\"https://colab.research.google.com/assets/colab-badge.svg\" alt=\"Open In Colab\"/></a>"
      ]
    },
    {
      "cell_type": "markdown",
      "metadata": {
        "id": "frdmLYTWyRF6"
      },
      "source": [
        "# 手寫阿拉伯數字辨識 專家模式"
      ]
    },
    {
      "cell_type": "markdown",
      "metadata": {
        "id": "YB0XTLM3yRF8"
      },
      "source": [
        "## 載入套件"
      ]
    },
    {
      "cell_type": "code",
      "execution_count": null,
      "metadata": {
        "id": "JUvIn-oqyRF8"
      },
      "outputs": [],
      "source": [
        "import os\n",
        "import numpy as np\n",
        "import torch\n",
        "from torch import nn\n",
        "from torch.nn import functional as F\n",
        "from torch.utils.data import DataLoader, random_split\n",
        "from torchvision import transforms\n",
        "from torchvision.datasets import MNIST"
      ]
    },
    {
      "cell_type": "markdown",
      "metadata": {
        "id": "TT1U5zDEyRF9"
      },
      "source": [
        "## 設定參數"
      ]
    },
    {
      "cell_type": "code",
      "execution_count": null,
      "metadata": {
        "colab": {
          "base_uri": "https://localhost:8080/",
          "height": 35
        },
        "id": "BhUMIXD4yRF9",
        "outputId": "cb87ef0c-1b07-4d6e-808c-cf61857f5bff"
      },
      "outputs": [
        {
          "output_type": "execute_result",
          "data": {
            "text/plain": [
              "'cpu'"
            ],
            "application/vnd.google.colaboratory.intrinsic+json": {
              "type": "string"
            }
          },
          "metadata": {},
          "execution_count": 2
        }
      ],
      "source": [
        "# 設定參數\n",
        "PATH_DATASETS = \"\" # 預設路徑\n",
        "BATCH_SIZE = 1024  # 批量\n",
        "device = torch.device(\"cuda\" if torch.cuda.is_available() else \"cpu\")\n",
        "\"cuda\" if torch.cuda.is_available() else \"cpu\""
      ]
    },
    {
      "cell_type": "markdown",
      "metadata": {
        "id": "DIZD7ZgzyRF-"
      },
      "source": [
        "## 步驟1：載入 MNIST 手寫阿拉伯數字資料"
      ]
    },
    {
      "cell_type": "code",
      "execution_count": null,
      "metadata": {
        "colab": {
          "base_uri": "https://localhost:8080/"
        },
        "id": "JgvU9LNnyRF-",
        "outputId": "b3bf6631-e8bf-42c3-be50-2ee112070ad0"
      },
      "outputs": [
        {
          "output_type": "stream",
          "name": "stdout",
          "text": [
            "Downloading http://yann.lecun.com/exdb/mnist/train-images-idx3-ubyte.gz\n",
            "Downloading http://yann.lecun.com/exdb/mnist/train-images-idx3-ubyte.gz to MNIST/raw/train-images-idx3-ubyte.gz\n"
          ]
        },
        {
          "output_type": "stream",
          "name": "stderr",
          "text": [
            "100%|██████████| 9912422/9912422 [00:00<00:00, 134442195.68it/s]"
          ]
        },
        {
          "output_type": "stream",
          "name": "stdout",
          "text": [
            "Extracting MNIST/raw/train-images-idx3-ubyte.gz to MNIST/raw\n"
          ]
        },
        {
          "output_type": "stream",
          "name": "stderr",
          "text": [
            "\n"
          ]
        },
        {
          "output_type": "stream",
          "name": "stdout",
          "text": [
            "\n",
            "Downloading http://yann.lecun.com/exdb/mnist/train-labels-idx1-ubyte.gz\n",
            "Downloading http://yann.lecun.com/exdb/mnist/train-labels-idx1-ubyte.gz to MNIST/raw/train-labels-idx1-ubyte.gz\n"
          ]
        },
        {
          "output_type": "stream",
          "name": "stderr",
          "text": [
            "100%|██████████| 28881/28881 [00:00<00:00, 92188503.67it/s]"
          ]
        },
        {
          "output_type": "stream",
          "name": "stdout",
          "text": [
            "Extracting MNIST/raw/train-labels-idx1-ubyte.gz to MNIST/raw\n",
            "\n",
            "Downloading http://yann.lecun.com/exdb/mnist/t10k-images-idx3-ubyte.gz\n"
          ]
        },
        {
          "output_type": "stream",
          "name": "stderr",
          "text": [
            "\n"
          ]
        },
        {
          "output_type": "stream",
          "name": "stdout",
          "text": [
            "Downloading http://yann.lecun.com/exdb/mnist/t10k-images-idx3-ubyte.gz to MNIST/raw/t10k-images-idx3-ubyte.gz\n"
          ]
        },
        {
          "output_type": "stream",
          "name": "stderr",
          "text": [
            "100%|██████████| 1648877/1648877 [00:00<00:00, 42194511.43it/s]"
          ]
        },
        {
          "output_type": "stream",
          "name": "stdout",
          "text": [
            "Extracting MNIST/raw/t10k-images-idx3-ubyte.gz to MNIST/raw\n",
            "\n",
            "Downloading http://yann.lecun.com/exdb/mnist/t10k-labels-idx1-ubyte.gz\n",
            "Downloading http://yann.lecun.com/exdb/mnist/t10k-labels-idx1-ubyte.gz to MNIST/raw/t10k-labels-idx1-ubyte.gz\n"
          ]
        },
        {
          "output_type": "stream",
          "name": "stderr",
          "text": [
            "\n",
            "100%|██████████| 4542/4542 [00:00<00:00, 18282657.17it/s]\n"
          ]
        },
        {
          "output_type": "stream",
          "name": "stdout",
          "text": [
            "Extracting MNIST/raw/t10k-labels-idx1-ubyte.gz to MNIST/raw\n",
            "\n",
            "torch.Size([60000, 28, 28]) torch.Size([10000, 28, 28])\n"
          ]
        }
      ],
      "source": [
        "import tensorflow as tf\n",
        "mnist = tf.keras.datasets.mnist\n",
        "\n",
        "# 下載 MNIST 手寫阿拉伯數字 訓練資料\n",
        "train_ds = MNIST(PATH_DATASETS, train=True, download=True,\n",
        "                 transform=transforms.ToTensor())\n",
        "\n",
        "# 下載測試資料\n",
        "test_ds = MNIST(PATH_DATASETS, train=False, download=True,\n",
        "                 transform=transforms.ToTensor())\n",
        "\n",
        "# 訓練/測試資料的維度\n",
        "print(train_ds.data.shape, test_ds.data.shape)"
      ]
    },
    {
      "cell_type": "markdown",
      "metadata": {
        "id": "f6bm5O2QyRF-"
      },
      "source": [
        "## 步驟2：資料清理，此步驟無需進行"
      ]
    },
    {
      "cell_type": "markdown",
      "metadata": {
        "id": "Xs50HfA-yRF-"
      },
      "source": [
        "## 步驟3：特徵工程，此步驟無需進行"
      ]
    },
    {
      "cell_type": "markdown",
      "metadata": {
        "id": "EGmeE5KAyRF-"
      },
      "source": [
        "## 步驟4：資料分割，此步驟無需進行，載入MNIST資料時，已經切割好了"
      ]
    },
    {
      "cell_type": "markdown",
      "metadata": {
        "id": "UF2aBcT5yRF-"
      },
      "source": [
        "## 步驟5：建立模型結構"
      ]
    },
    {
      "cell_type": "code",
      "execution_count": null,
      "metadata": {
        "id": "DfjS8oYgyRF_"
      },
      "outputs": [],
      "source": [
        "# 建立模型\n",
        "class Net(nn.Module):\n",
        "    def __init__(self):\n",
        "        super().__init__()\n",
        "        self.fc1 = torch.nn.Linear(28 * 28, 256) # 完全連接層\n",
        "        self.dropout1 = nn.Dropout(0.2)\n",
        "        self.fc2 = torch.nn.Linear(256, 10) # 完全連接層\n",
        "\n",
        "    def forward(self, x):\n",
        "        # 完全連接層 + dropout + 完全連接層 + dropout + log_softmax\n",
        "        x = torch.flatten(x, 1)\n",
        "        x = self.fc1(x)\n",
        "        x = self.dropout1(x)\n",
        "        x = self.fc2(x)\n",
        "        # x= self.dropout2(x)\n",
        "        # output = F.softmax(x, dim = 1)\n",
        "        # return output\n",
        "        return x\n",
        "\n",
        "# 建立模型物件\n",
        "model = Net().to(device)"
      ]
    },
    {
      "cell_type": "markdown",
      "metadata": {
        "id": "AZ_3N2Y3yRF_"
      },
      "source": [
        "## 設定模型及學習率組態"
      ]
    },
    {
      "cell_type": "markdown",
      "metadata": {
        "id": "NT-Iq404yRF_"
      },
      "source": [
        "## 步驟6：結合訓練資料及模型，進行模型訓練"
      ]
    },
    {
      "cell_type": "code",
      "execution_count": null,
      "metadata": {
        "colab": {
          "base_uri": "https://localhost:8080/"
        },
        "id": "STbgqUI4yRF_",
        "outputId": "8cd29a12-fe1a-4994-e84b-1e6adec51fdd"
      },
      "outputs": [
        {
          "output_type": "stream",
          "name": "stdout",
          "text": [
            "Epoch 1: [    0 / 60000] (0 %)  Loss: 2.286673\n",
            "Epoch 1: [ 6000 / 60000] (10 %)  Loss: 41.406967\n",
            "Epoch 1: [12000 / 60000] (20 %)  Loss: 25.609499\n",
            "Epoch 1: [18000 / 60000] (30 %)  Loss: 8.865720\n",
            "Epoch 1: [24000 / 60000] (40 %)  Loss: 8.963272\n",
            "Epoch 1: [30000 / 60000] (50 %)  Loss: 5.985159\n",
            "Epoch 1: [36000 / 60000] (60 %)  Loss: 4.960947\n",
            "Epoch 1: [42000 / 60000] (70 %)  Loss: 4.588467\n",
            "Epoch 1: [48000 / 60000] (80 %)  Loss: 2.014575\n",
            "Epoch 1: [54000 / 60000] (90 %)  Loss: 2.841107\n",
            "Epoch 2: [    0 / 60000] (0 %)  Loss: 1.448630\n",
            "Epoch 2: [ 6000 / 60000] (10 %)  Loss: 1.339666\n",
            "Epoch 2: [12000 / 60000] (20 %)  Loss: 2.178426\n",
            "Epoch 2: [18000 / 60000] (30 %)  Loss: 1.291863\n",
            "Epoch 2: [24000 / 60000] (40 %)  Loss: 1.195799\n",
            "Epoch 2: [30000 / 60000] (50 %)  Loss: 1.125887\n",
            "Epoch 2: [36000 / 60000] (60 %)  Loss: 1.120550\n",
            "Epoch 2: [42000 / 60000] (70 %)  Loss: 1.386241\n",
            "Epoch 2: [48000 / 60000] (80 %)  Loss: 0.733519\n",
            "Epoch 2: [54000 / 60000] (90 %)  Loss: 1.253876\n",
            "Epoch 3: [    0 / 60000] (0 %)  Loss: 0.593236\n",
            "Epoch 3: [ 6000 / 60000] (10 %)  Loss: 0.443221\n",
            "Epoch 3: [12000 / 60000] (20 %)  Loss: 1.107033\n",
            "Epoch 3: [18000 / 60000] (30 %)  Loss: 0.663116\n",
            "Epoch 3: [24000 / 60000] (40 %)  Loss: 0.895726\n",
            "Epoch 3: [30000 / 60000] (50 %)  Loss: 0.877134\n",
            "Epoch 3: [36000 / 60000] (60 %)  Loss: 0.762271\n",
            "Epoch 3: [42000 / 60000] (70 %)  Loss: 1.125910\n",
            "Epoch 3: [48000 / 60000] (80 %)  Loss: 0.565360\n",
            "Epoch 3: [54000 / 60000] (90 %)  Loss: 0.759883\n",
            "Epoch 4: [    0 / 60000] (0 %)  Loss: 0.529256\n",
            "Epoch 4: [ 6000 / 60000] (10 %)  Loss: 0.442903\n",
            "Epoch 4: [12000 / 60000] (20 %)  Loss: 0.951091\n",
            "Epoch 4: [18000 / 60000] (30 %)  Loss: 0.475120\n",
            "Epoch 4: [24000 / 60000] (40 %)  Loss: 0.509273\n",
            "Epoch 4: [30000 / 60000] (50 %)  Loss: 0.697653\n",
            "Epoch 4: [36000 / 60000] (60 %)  Loss: 0.647938\n",
            "Epoch 4: [42000 / 60000] (70 %)  Loss: 0.842451\n",
            "Epoch 4: [48000 / 60000] (80 %)  Loss: 0.460528\n",
            "Epoch 4: [54000 / 60000] (90 %)  Loss: 0.568906\n",
            "Epoch 5: [    0 / 60000] (0 %)  Loss: 0.502282\n",
            "Epoch 5: [ 6000 / 60000] (10 %)  Loss: 0.297105\n",
            "Epoch 5: [12000 / 60000] (20 %)  Loss: 0.728512\n",
            "Epoch 5: [18000 / 60000] (30 %)  Loss: 0.423753\n",
            "Epoch 5: [24000 / 60000] (40 %)  Loss: 0.534833\n",
            "Epoch 5: [30000 / 60000] (50 %)  Loss: 0.556276\n",
            "Epoch 5: [36000 / 60000] (60 %)  Loss: 0.567770\n",
            "Epoch 5: [42000 / 60000] (70 %)  Loss: 0.982257\n",
            "Epoch 5: [48000 / 60000] (80 %)  Loss: 0.399503\n",
            "Epoch 5: [54000 / 60000] (90 %)  Loss: 0.554151\n"
          ]
        }
      ],
      "source": [
        "epochs = 5\n",
        "lr=0.1\n",
        "\n",
        "# 建立 DataLoader\n",
        "train_loader = DataLoader(train_ds, batch_size=600)\n",
        "\n",
        "# 設定優化器(optimizer)\n",
        "optimizer = torch.optim.Adam(model.parameters(), lr=lr)\n",
        "\n",
        "# 設定損失函數(loss)\n",
        "criterion = nn.CrossEntropyLoss()\n",
        "\n",
        "model.train()\n",
        "loss_list = []\n",
        "for epoch in range(1, epochs + 1):\n",
        "    for batch_idx, (data, target) in enumerate(train_loader):\n",
        "        data, target = data.to(device), target.to(device)\n",
        "\n",
        "        optimizer.zero_grad()\n",
        "        output = model(data)\n",
        "        # 計算損失(loss)\n",
        "        loss = criterion(output, target)\n",
        "        loss.backward()\n",
        "        optimizer.step()\n",
        "\n",
        "        if batch_idx % 10 == 0:\n",
        "            loss_list.append(loss.item())\n",
        "            batch = batch_idx * len(data)\n",
        "            data_count = len(train_loader.dataset)\n",
        "            percentage = (100. * batch_idx / len(train_loader))\n",
        "            print(f'Epoch {epoch}: [{batch:5d} / {data_count}] ({percentage:.0f} %)' +\n",
        "                  f'  Loss: {loss.item():.6f}')"
      ]
    },
    {
      "cell_type": "code",
      "execution_count": null,
      "metadata": {
        "scrolled": false,
        "colab": {
          "base_uri": "https://localhost:8080/",
          "height": 447
        },
        "id": "wM0xuWEryRF_",
        "outputId": "768d0060-9bb3-43de-d071-b1e011bdd46d"
      },
      "outputs": [
        {
          "output_type": "execute_result",
          "data": {
            "text/plain": [
              "[<matplotlib.lines.Line2D at 0x7b3c56cc18a0>]"
            ]
          },
          "metadata": {},
          "execution_count": 6
        },
        {
          "output_type": "display_data",
          "data": {
            "text/plain": [
              "<Figure size 640x480 with 1 Axes>"
            ],
            "image/png": "[encoded data removed]"
          },
          "metadata": {}
        }
      ],
      "source": [
        "# 對訓練過程的損失繪圖\n",
        "import matplotlib.pyplot as plt\n",
        "\n",
        "plt.plot(loss_list, 'r')"
      ]
    },
    {
      "cell_type": "markdown",
      "metadata": {
        "id": "8o-_GvtEyRF_"
      },
      "source": [
        "## 步驟7：評分(Score Model)"
      ]
    },
    {
      "cell_type": "code",
      "execution_count": null,
      "metadata": {
        "scrolled": true,
        "colab": {
          "base_uri": "https://localhost:8080/"
        },
        "id": "XagIbq7nyRGA",
        "outputId": "8f1f1dad-457f-4506-f59c-d74b1af4e935"
      },
      "outputs": [
        {
          "output_type": "stream",
          "name": "stdout",
          "text": [
            "準確率: 8503/10000 (85%)\n",
            "\n"
          ]
        }
      ],
      "source": [
        "# 建立 DataLoader\n",
        "test_loader = DataLoader(test_ds, batch_size=600)\n",
        "\n",
        "model.eval()\n",
        "test_loss = 0\n",
        "correct = 0\n",
        "with torch.no_grad():\n",
        "    for data, target in test_loader:\n",
        "        data, target = data.to(device), target.to(device)\n",
        "        output = model(data)\n",
        "\n",
        "        # sum up batch loss\n",
        "        test_loss += criterion(output, target).item()\n",
        "\n",
        "        # 預測\n",
        "        pred = output.argmax(dim=1, keepdim=True)\n",
        "\n",
        "        # 正確筆數\n",
        "        correct += pred.eq(target.view_as(pred)).sum().item()\n",
        "\n",
        "# 顯示測試結果\n",
        "batch = batch_idx * len(data)\n",
        "data_count = len(test_loader.dataset)\n",
        "percentage = 100. * correct / data_count\n",
        "print(f'準確率: {correct}/{data_count}' +\n",
        "      f' ({percentage:.0f}%)\\n')"
      ]
    },
    {
      "cell_type": "code",
      "execution_count": null,
      "metadata": {
        "colab": {
          "base_uri": "https://localhost:8080/"
        },
        "id": "bN9hp7tdyRGA",
        "outputId": "fb16c0c3-329b-4e71-f734-a84f9f459777"
      },
      "outputs": [
        {
          "output_type": "stream",
          "name": "stdout",
          "text": [
            "actual    : [7 2 1 0 4 1 4 9 5 9 0 6 9 0 1 5 9 7 3 4]\n",
            "prediction:  7 5 1 0 4 1 4 9 6 9 0 6 9 0 1 5 9 7 3 4\n"
          ]
        }
      ],
      "source": [
        "# 實際預測 20 筆資料\n",
        "predictions = []\n",
        "with torch.no_grad():\n",
        "    for i in range(20):\n",
        "        data, target = test_ds[i][0], test_ds[i][1]\n",
        "        data = data.reshape(1, *data.shape).to(device)\n",
        "        output = torch.argmax(model(data), axis=-1)\n",
        "        predictions.append(str(output.item()))\n",
        "\n",
        "# 比對\n",
        "print('actual    :', test_ds.targets[0:20].numpy())\n",
        "print('prediction: ', ' '.join(predictions[0:20]))"
      ]
    },
    {
      "cell_type": "markdown",
      "metadata": {
        "id": "mRk3OlYAyRGA"
      },
      "source": [
        "## 步驟8：評估，暫不進行"
      ]
    },
    {
      "cell_type": "markdown",
      "metadata": {
        "id": "Mu8OAMZgyRGA"
      },
      "source": [
        "## 步驟9：模型佈署"
      ]
    },
    {
      "cell_type": "markdown",
      "metadata": {
        "id": "TNlcApClyRGA"
      },
      "source": [
        "## 步驟10：新資料預測"
      ]
    },
    {
      "cell_type": "code",
      "execution_count": null,
      "metadata": {
        "scrolled": true,
        "id": "sKZYa5jVyRGA",
        "outputId": "75b27ff0-2f77-4da6-ff4e-e865b491cb56"
      },
      "outputs": [
        {
          "name": "stdout",
          "output_type": "stream",
          "text": [
            "actual/prediction: 0 5\n",
            "actual/prediction: 1 1\n",
            "actual/prediction: 2 5\n",
            "actual/prediction: 3 7\n",
            "actual/prediction: 4 4\n",
            "actual/prediction: 5 5\n",
            "actual/prediction: 6 6\n",
            "actual/prediction: 7 7\n",
            "actual/prediction: 8 5\n",
            "actual/prediction: 9 8\n"
          ]
        }
      ],
      "source": [
        "# 使用小畫家，繪製 0~9，實際測試看看\n",
        "from skimage import io\n",
        "from skimage.transform import resize\n",
        "import numpy as np\n",
        "\n",
        "# 讀取影像並轉為單色\n",
        "for i in range(10):\n",
        "    uploaded_file = f'./myDigits/{i}.png'\n",
        "    image1 = io.imread(uploaded_file, as_gray=True)\n",
        "\n",
        "    # 縮為 (28, 28) 大小的影像\n",
        "    image_resized = resize(image1, (28, 28), anti_aliasing=True)\n",
        "    X1 = image_resized.reshape(1,28, 28) #/ 255.0\n",
        "\n",
        "    # 反轉顏色，顏色0為白色，與 RGB 色碼不同，它的 0 為黑色\n",
        "    X1 = torch.FloatTensor(1-X1).to(device)\n",
        "\n",
        "    # 預測\n",
        "    predictions = torch.softmax(model(X1), dim=1)\n",
        "    # print(np.around(predictions.cpu().detach().numpy(), 2))\n",
        "    print(f'actual/prediction: {i} {np.argmax(predictions.detach().cpu().numpy())}')"
      ]
    },
    {
      "cell_type": "code",
      "execution_count": null,
      "metadata": {
        "id": "hSIJXFvyyRGA"
      },
      "outputs": [],
      "source": []
    }
  ],
  "metadata": {
    "kernelspec": {
      "display_name": "Python 3 (ipykernel)",
      "language": "python",
      "name": "python3"
    },
    "language_info": {
      "codemirror_mode": {
        "name": "ipython",
        "version": 3
      },
      "file_extension": ".py",
      "mimetype": "text/x-python",
      "name": "python",
      "nbconvert_exporter": "python",
      "pygments_lexer": "ipython3",
      "version": "3.11.5"
    },
    "colab": {
      "provenance": [],
      "include_colab_link": true
    }
  },
  "nbformat": 4,
  "nbformat_minor": 0
}