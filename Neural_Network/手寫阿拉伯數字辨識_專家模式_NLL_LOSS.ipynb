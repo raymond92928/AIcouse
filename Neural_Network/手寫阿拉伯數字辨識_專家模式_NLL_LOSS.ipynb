{
  "cells": [
    {
      "cell_type": "markdown",
      "metadata": {
        "id": "view-in-github",
        "colab_type": "text"
      },
      "source": [
        "<a href=\"https://colab.research.google.com/github/raymond92928/AIcouse/blob/main/Neural_Network/%E6%89%8B%E5%AF%AB%E9%98%BF%E6%8B%89%E4%BC%AF%E6%95%B8%E5%AD%97%E8%BE%A8%E8%AD%98_%E5%B0%88%E5%AE%B6%E6%A8%A1%E5%BC%8F_NLL_LOSS.ipynb\" target=\"_parent\"><img src=\"https://colab.research.google.com/assets/colab-badge.svg\" alt=\"Open In Colab\"/></a>"
      ]
    },
    {
      "cell_type": "markdown",
      "metadata": {
        "id": "hAgxpMa40Xsq"
      },
      "source": [
        "# 手寫阿拉伯數字辨識 專家模式"
      ]
    },
    {
      "cell_type": "markdown",
      "metadata": {
        "id": "m7YrfvE00Xsr"
      },
      "source": [
        "## 載入套件"
      ]
    },
    {
      "cell_type": "code",
      "execution_count": null,
      "metadata": {
        "id": "HO5Ic8Aq0Xss"
      },
      "outputs": [],
      "source": [
        "import os\n",
        "\n",
        "import torch\n",
        "from torch import nn\n",
        "from torch.nn import functional as F\n",
        "from torch.utils.data import DataLoader, random_split\n",
        "from torchvision import transforms\n",
        "from torchvision.datasets import MNIST"
      ]
    },
    {
      "cell_type": "markdown",
      "metadata": {
        "id": "SMH1pvZk0Xst"
      },
      "source": [
        "## 設定參數"
      ]
    },
    {
      "cell_type": "code",
      "execution_count": null,
      "metadata": {
        "colab": {
          "base_uri": "https://localhost:8080/",
          "height": 35
        },
        "id": "KyGpraGc0Xst",
        "outputId": "42b4bb79-450e-4e14-9adc-2591f23b7fe3"
      },
      "outputs": [
        {
          "output_type": "execute_result",
          "data": {
            "text/plain": [
              "'cpu'"
            ],
            "application/vnd.google.colaboratory.intrinsic+json": {
              "type": "string"
            }
          },
          "metadata": {},
          "execution_count": 2
        }
      ],
      "source": [
        "# 設定參數\n",
        "PATH_DATASETS = \"\" # 預設路徑\n",
        "BATCH_SIZE = 1024  # 批量\n",
        "device = torch.device(\"cuda\" if torch.cuda.is_available() else \"cpu\")\n",
        "\"cuda\" if torch.cuda.is_available() else \"cpu\""
      ]
    },
    {
      "cell_type": "markdown",
      "metadata": {
        "id": "emO5KHnw0Xst"
      },
      "source": [
        "## 步驟1：載入 MNIST 手寫阿拉伯數字資料"
      ]
    },
    {
      "cell_type": "code",
      "execution_count": null,
      "metadata": {
        "colab": {
          "base_uri": "https://localhost:8080/"
        },
        "id": "L_orBC7Y0Xsu",
        "outputId": "1f99edb0-c235-4725-c82e-2e24657bb684"
      },
      "outputs": [
        {
          "output_type": "stream",
          "name": "stdout",
          "text": [
            "Downloading http://yann.lecun.com/exdb/mnist/train-images-idx3-ubyte.gz\n",
            "Downloading http://yann.lecun.com/exdb/mnist/train-images-idx3-ubyte.gz to MNIST/raw/train-images-idx3-ubyte.gz\n"
          ]
        },
        {
          "output_type": "stream",
          "name": "stderr",
          "text": [
            "100%|██████████| 9912422/9912422 [00:00<00:00, 123174518.92it/s]\n"
          ]
        },
        {
          "output_type": "stream",
          "name": "stdout",
          "text": [
            "Extracting MNIST/raw/train-images-idx3-ubyte.gz to MNIST/raw\n",
            "\n",
            "Downloading http://yann.lecun.com/exdb/mnist/train-labels-idx1-ubyte.gz\n",
            "Downloading http://yann.lecun.com/exdb/mnist/train-labels-idx1-ubyte.gz to MNIST/raw/train-labels-idx1-ubyte.gz\n"
          ]
        },
        {
          "output_type": "stream",
          "name": "stderr",
          "text": [
            "100%|██████████| 28881/28881 [00:00<00:00, 111031800.02it/s]\n"
          ]
        },
        {
          "output_type": "stream",
          "name": "stdout",
          "text": [
            "Extracting MNIST/raw/train-labels-idx1-ubyte.gz to MNIST/raw\n",
            "\n",
            "Downloading http://yann.lecun.com/exdb/mnist/t10k-images-idx3-ubyte.gz\n",
            "Downloading http://yann.lecun.com/exdb/mnist/t10k-images-idx3-ubyte.gz to MNIST/raw/t10k-images-idx3-ubyte.gz\n"
          ]
        },
        {
          "output_type": "stream",
          "name": "stderr",
          "text": [
            "100%|██████████| 1648877/1648877 [00:00<00:00, 44810907.42it/s]\n"
          ]
        },
        {
          "output_type": "stream",
          "name": "stdout",
          "text": [
            "Extracting MNIST/raw/t10k-images-idx3-ubyte.gz to MNIST/raw\n",
            "\n",
            "Downloading http://yann.lecun.com/exdb/mnist/t10k-labels-idx1-ubyte.gz\n",
            "Downloading http://yann.lecun.com/exdb/mnist/t10k-labels-idx1-ubyte.gz to MNIST/raw/t10k-labels-idx1-ubyte.gz\n"
          ]
        },
        {
          "output_type": "stream",
          "name": "stderr",
          "text": [
            "100%|██████████| 4542/4542 [00:00<00:00, 15035934.31it/s]\n"
          ]
        },
        {
          "output_type": "stream",
          "name": "stdout",
          "text": [
            "Extracting MNIST/raw/t10k-labels-idx1-ubyte.gz to MNIST/raw\n",
            "\n",
            "torch.Size([60000, 28, 28]) torch.Size([10000, 28, 28])\n"
          ]
        }
      ],
      "source": [
        "import tensorflow as tf\n",
        "mnist = tf.keras.datasets.mnist\n",
        "\n",
        "# 下載 MNIST 手寫阿拉伯數字 訓練資料\n",
        "train_ds = MNIST(PATH_DATASETS, train=True, download=True,\n",
        "                 transform=transforms.ToTensor())\n",
        "\n",
        "# 下載測試資料\n",
        "test_ds = MNIST(PATH_DATASETS, train=False, download=True,\n",
        "                 transform=transforms.ToTensor())\n",
        "\n",
        "# 訓練/測試資料的維度\n",
        "print(train_ds.data.shape, test_ds.data.shape)"
      ]
    },
    {
      "cell_type": "markdown",
      "metadata": {
        "id": "zQuR43mT0Xsu"
      },
      "source": [
        "## 步驟2：資料清理，此步驟無需進行"
      ]
    },
    {
      "cell_type": "markdown",
      "metadata": {
        "id": "hNO4QU3Q0Xsu"
      },
      "source": [
        "## 步驟3：特徵工程，此步驟無需進行"
      ]
    },
    {
      "cell_type": "markdown",
      "metadata": {
        "id": "4jiFH0sv0Xsu"
      },
      "source": [
        "## 步驟4：資料分割，此步驟無需進行，載入MNIST資料時，已經切割好了"
      ]
    },
    {
      "cell_type": "markdown",
      "metadata": {
        "id": "zGg9zpk70Xsu"
      },
      "source": [
        "## 步驟5：建立模型結構"
      ]
    },
    {
      "cell_type": "code",
      "execution_count": null,
      "metadata": {
        "id": "HYriFKNS0Xsu"
      },
      "outputs": [],
      "source": [
        "# 建立模型\n",
        "class Net(nn.Module):\n",
        "    def __init__(self):\n",
        "        super().__init__()\n",
        "        self.fc1 = torch.nn.Linear(28 * 28, 256) # 完全連接層\n",
        "        self.dropout1 = nn.Dropout(0.2)\n",
        "        self.fc2 = torch.nn.Linear(256, 10) # 完全連接層\n",
        "        self.dropout2 = nn.Dropout(0.2)\n",
        "\n",
        "    def forward(self, x):\n",
        "        # 完全連接層 + dropout + 完全連接層 + dropout + log_softmax\n",
        "        x = torch.flatten(x, 1)\n",
        "        x = self.fc1(x)\n",
        "        x = self.dropout1(x)\n",
        "        x = self.fc2(x)\n",
        "        x = self.dropout2(x)\n",
        "        output = F.log_softmax(x, dim=1)\n",
        "        return output\n",
        "\n",
        "# 建立模型物件\n",
        "model = Net().to(device)"
      ]
    },
    {
      "cell_type": "markdown",
      "metadata": {
        "id": "1fkOHSAW0Xsv"
      },
      "source": [
        "## 步驟6：結合訓練資料及模型，進行模型訓練"
      ]
    },
    {
      "cell_type": "code",
      "execution_count": null,
      "metadata": {
        "scrolled": false,
        "colab": {
          "base_uri": "https://localhost:8080/"
        },
        "id": "bOfC9w-x0Xsv",
        "outputId": "ff89d0bd-7953-41f6-c042-61a8c68ed00e"
      },
      "outputs": [
        {
          "output_type": "stream",
          "name": "stdout",
          "text": [
            "Epoch 1: [    0 / 60000] (0 %)  Loss: 2.308171\n",
            "Epoch 1: [ 6000 / 60000] (10 %)  Loss: 42.366795\n",
            "Epoch 1: [12000 / 60000] (20 %)  Loss: 28.629597\n",
            "Epoch 1: [18000 / 60000] (30 %)  Loss: 9.725064\n",
            "Epoch 1: [24000 / 60000] (40 %)  Loss: 10.378245\n",
            "Epoch 1: [30000 / 60000] (50 %)  Loss: 7.504351\n",
            "Epoch 1: [36000 / 60000] (60 %)  Loss: 6.458796\n",
            "Epoch 1: [42000 / 60000] (70 %)  Loss: 7.623268\n",
            "Epoch 1: [48000 / 60000] (80 %)  Loss: 3.390394\n",
            "Epoch 1: [54000 / 60000] (90 %)  Loss: 3.168298\n",
            "Epoch 2: [    0 / 60000] (0 %)  Loss: 3.194160\n",
            "Epoch 2: [ 6000 / 60000] (10 %)  Loss: 1.890625\n",
            "Epoch 2: [12000 / 60000] (20 %)  Loss: 2.376853\n",
            "Epoch 2: [18000 / 60000] (30 %)  Loss: 2.519787\n",
            "Epoch 2: [24000 / 60000] (40 %)  Loss: 2.155840\n",
            "Epoch 2: [30000 / 60000] (50 %)  Loss: 2.473734\n",
            "Epoch 2: [36000 / 60000] (60 %)  Loss: 1.838770\n",
            "Epoch 2: [42000 / 60000] (70 %)  Loss: 2.885223\n",
            "Epoch 2: [48000 / 60000] (80 %)  Loss: 1.888168\n",
            "Epoch 2: [54000 / 60000] (90 %)  Loss: 1.282561\n",
            "Epoch 3: [    0 / 60000] (0 %)  Loss: 1.409693\n",
            "Epoch 3: [ 6000 / 60000] (10 %)  Loss: 1.069812\n",
            "Epoch 3: [12000 / 60000] (20 %)  Loss: 1.651455\n",
            "Epoch 3: [18000 / 60000] (30 %)  Loss: 1.018670\n",
            "Epoch 3: [24000 / 60000] (40 %)  Loss: 0.862021\n",
            "Epoch 3: [30000 / 60000] (50 %)  Loss: 1.106973\n",
            "Epoch 3: [36000 / 60000] (60 %)  Loss: 1.247444\n",
            "Epoch 3: [42000 / 60000] (70 %)  Loss: 1.705329\n",
            "Epoch 3: [48000 / 60000] (80 %)  Loss: 1.174557\n",
            "Epoch 3: [54000 / 60000] (90 %)  Loss: 1.050032\n",
            "Epoch 4: [    0 / 60000] (0 %)  Loss: 1.235602\n",
            "Epoch 4: [ 6000 / 60000] (10 %)  Loss: 0.752533\n",
            "Epoch 4: [12000 / 60000] (20 %)  Loss: 1.431507\n",
            "Epoch 4: [18000 / 60000] (30 %)  Loss: 0.972076\n",
            "Epoch 4: [24000 / 60000] (40 %)  Loss: 1.046827\n",
            "Epoch 4: [30000 / 60000] (50 %)  Loss: 0.877437\n",
            "Epoch 4: [36000 / 60000] (60 %)  Loss: 0.989594\n",
            "Epoch 4: [42000 / 60000] (70 %)  Loss: 1.321929\n",
            "Epoch 4: [48000 / 60000] (80 %)  Loss: 0.762965\n",
            "Epoch 4: [54000 / 60000] (90 %)  Loss: 0.885223\n",
            "Epoch 5: [    0 / 60000] (0 %)  Loss: 0.989240\n",
            "Epoch 5: [ 6000 / 60000] (10 %)  Loss: 0.686648\n",
            "Epoch 5: [12000 / 60000] (20 %)  Loss: 1.472735\n",
            "Epoch 5: [18000 / 60000] (30 %)  Loss: 0.877640\n",
            "Epoch 5: [24000 / 60000] (40 %)  Loss: 1.446338\n",
            "Epoch 5: [30000 / 60000] (50 %)  Loss: 0.905308\n",
            "Epoch 5: [36000 / 60000] (60 %)  Loss: 0.854384\n",
            "Epoch 5: [42000 / 60000] (70 %)  Loss: 1.478114\n",
            "Epoch 5: [48000 / 60000] (80 %)  Loss: 0.891736\n",
            "Epoch 5: [54000 / 60000] (90 %)  Loss: 0.897781\n"
          ]
        }
      ],
      "source": [
        "epochs = 5\n",
        "lr=0.1\n",
        "\n",
        "# 建立 DataLoader\n",
        "train_loader = DataLoader(train_ds, batch_size=600)\n",
        "\n",
        "# 設定優化器(optimizer)\n",
        "optimizer = torch.optim.Adam(model.parameters(), lr=lr)\n",
        "\n",
        "model.train()\n",
        "loss_list = []\n",
        "for epoch in range(1, epochs + 1):\n",
        "    for batch_idx, (data, target) in enumerate(train_loader):\n",
        "        data, target = data.to(device), target.to(device)\n",
        "\n",
        "        optimizer.zero_grad()\n",
        "        output = model(data)\n",
        "        # 計算損失(loss)\n",
        "        loss = F.nll_loss(output, target)\n",
        "        loss.backward()\n",
        "        optimizer.step()\n",
        "\n",
        "        if batch_idx % 10 == 0:\n",
        "            loss_list.append(loss.item())\n",
        "            batch = batch_idx * len(data)\n",
        "            data_count = len(train_loader.dataset)\n",
        "            percentage = (100. * batch_idx / len(train_loader))\n",
        "            print(f'Epoch {epoch}: [{batch:5d} / {data_count}] ({percentage:.0f} %)' +\n",
        "                  f'  Loss: {loss.item():.6f}')"
      ]
    },
    {
      "cell_type": "code",
      "execution_count": null,
      "metadata": {
        "scrolled": false,
        "colab": {
          "base_uri": "https://localhost:8080/",
          "height": 447
        },
        "id": "4_A3x9_60Xsv",
        "outputId": "ddb21084-c6b2-4e68-cbb1-56b56663cad7"
      },
      "outputs": [
        {
          "output_type": "execute_result",
          "data": {
            "text/plain": [
              "[<matplotlib.lines.Line2D at 0x7b0c46b66b60>]"
            ]
          },
          "metadata": {},
          "execution_count": 6
        },
        {
          "output_type": "display_data",
          "data": {
            "text/plain": [
              "<Figure size 640x480 with 1 Axes>"
            ],
            "image/png": "[encoded data removed]"
          },
          "metadata": {}
        }
      ],
      "source": [
        "# 對訓練過程的損失繪圖\n",
        "import matplotlib.pyplot as plt\n",
        "\n",
        "plt.plot(loss_list, 'r')"
      ]
    },
    {
      "cell_type": "markdown",
      "metadata": {
        "id": "GQol5SXK0Xsv"
      },
      "source": [
        "## 步驟7：評分(Score Model)"
      ]
    },
    {
      "cell_type": "code",
      "execution_count": null,
      "metadata": {
        "scrolled": true,
        "colab": {
          "base_uri": "https://localhost:8080/"
        },
        "id": "jPizSsVS0Xsv",
        "outputId": "9724ca9c-f255-4e49-c274-0762179a51b3"
      },
      "outputs": [
        {
          "output_type": "stream",
          "name": "stdout",
          "text": [
            "平均損失: 0.7172, 準確率: 8637/10000 (86%)\n",
            "\n"
          ]
        }
      ],
      "source": [
        "# 建立 DataLoader\n",
        "test_loader = DataLoader(test_ds, batch_size=600)\n",
        "\n",
        "model.eval()\n",
        "test_loss = 0\n",
        "correct = 0\n",
        "with torch.no_grad():\n",
        "    for data, target in test_loader:\n",
        "        data, target = data.to(device), target.to(device)\n",
        "        output = model(data)\n",
        "\n",
        "        # sum up batch loss\n",
        "        test_loss += F.nll_loss(output, target, reduction='sum').item()\n",
        "\n",
        "        # 預測\n",
        "        pred = output.argmax(dim=1, keepdim=True)\n",
        "\n",
        "        # 正確筆數\n",
        "        correct += pred.eq(target.view_as(pred)).sum().item()\n",
        "\n",
        "# 顯示測試結果\n",
        "batch = batch_idx * len(data)\n",
        "data_count = len(test_loader.dataset)\n",
        "percentage = 100. * correct / data_count\n",
        "print(f'準確率: {correct}/{data_count}' +\n",
        "      f' ({percentage:.0f}%)\\n')"
      ]
    },
    {
      "cell_type": "code",
      "execution_count": null,
      "metadata": {
        "colab": {
          "base_uri": "https://localhost:8080/"
        },
        "id": "_6JO6teC0Xsv",
        "outputId": "8b241f1d-6825-451d-ad42-f5db059f42ad"
      },
      "outputs": [
        {
          "output_type": "stream",
          "name": "stdout",
          "text": [
            "actual    : [7 2 1 0 4 1 4 9 5 9 0 6 9 0 1 5 9 7 3 4]\n",
            "prediction:  7 2 1 0 4 1 4 1 5 9 0 6 9 0 1 5 9 7 3 4\n"
          ]
        }
      ],
      "source": [
        "# 實際預測 20 筆資料\n",
        "predictions = []\n",
        "with torch.no_grad():\n",
        "    for i in range(20):\n",
        "        data, target = test_ds[i][0], test_ds[i][1]\n",
        "        data = data.reshape(1, *data.shape).to(device)\n",
        "        output = torch.argmax(model(data), axis=-1)\n",
        "        predictions.append(str(output.item()))\n",
        "\n",
        "# 比對\n",
        "print('actual    :', test_ds.targets[0:20].numpy())\n",
        "print('prediction: ', ' '.join(predictions[0:20]))"
      ]
    },
    {
      "cell_type": "markdown",
      "metadata": {
        "id": "Lyd4ZlLW0Xsw"
      },
      "source": [
        "## 步驟8：評估，暫不進行"
      ]
    },
    {
      "cell_type": "markdown",
      "metadata": {
        "id": "0sWpWNBi0Xsw"
      },
      "source": [
        "## 步驟9：模型佈署"
      ]
    },
    {
      "cell_type": "markdown",
      "metadata": {
        "id": "CPIi8D0U0Xsw"
      },
      "source": [
        "## 步驟10：新資料預測"
      ]
    },
    {
      "cell_type": "code",
      "execution_count": null,
      "metadata": {
        "scrolled": true,
        "id": "elwLz-mm0Xsw",
        "outputId": "852fbf3a-6d81-40aa-dbc7-212466d8137a"
      },
      "outputs": [
        {
          "name": "stdout",
          "output_type": "stream",
          "text": [
            "actual/prediction: 0 5\n",
            "actual/prediction: 1 1\n",
            "actual/prediction: 2 2\n",
            "actual/prediction: 3 7\n",
            "actual/prediction: 4 4\n",
            "actual/prediction: 5 5\n",
            "actual/prediction: 6 6\n",
            "actual/prediction: 7 7\n",
            "actual/prediction: 8 8\n",
            "actual/prediction: 9 2\n"
          ]
        }
      ],
      "source": [
        "# 使用小畫家，繪製 0~9，實際測試看看\n",
        "from skimage import io\n",
        "from skimage.transform import resize\n",
        "import numpy as np\n",
        "\n",
        "# 讀取影像並轉為單色\n",
        "for i in range(10):\n",
        "    uploaded_file = f'./myDigits/{i}.png'\n",
        "    image1 = io.imread(uploaded_file, as_gray=True)\n",
        "\n",
        "    # 縮為 (28, 28) 大小的影像\n",
        "    image_resized = resize(image1, (28, 28), anti_aliasing=True)\n",
        "    X1 = image_resized.reshape(1,28, 28) #/ 255.0\n",
        "\n",
        "    # 反轉顏色，顏色0為白色，與 RGB 色碼不同，它的 0 為黑色\n",
        "    X1 = torch.FloatTensor(1-X1).to(device)\n",
        "\n",
        "    # 預測\n",
        "    predictions = torch.softmax(model(X1), dim=1)\n",
        "    # print(np.around(predictions.cpu().detach().numpy(), 2))\n",
        "    print(f'actual/prediction: {i} {np.argmax(predictions.detach().cpu().numpy())}')"
      ]
    },
    {
      "cell_type": "code",
      "execution_count": null,
      "metadata": {
        "id": "IlFYUkiH0Xsw"
      },
      "outputs": [],
      "source": []
    }
  ],
  "metadata": {
    "kernelspec": {
      "display_name": "Python 3",
      "language": "python",
      "name": "python3"
    },
    "language_info": {
      "codemirror_mode": {
        "name": "ipython",
        "version": 3
      },
      "file_extension": ".py",
      "mimetype": "text/x-python",
      "name": "python",
      "nbconvert_exporter": "python",
      "pygments_lexer": "ipython3",
      "version": "3.8.8"
    },
    "colab": {
      "provenance": [],
      "include_colab_link": true
    }
  },
  "nbformat": 4,
  "nbformat_minor": 0
}