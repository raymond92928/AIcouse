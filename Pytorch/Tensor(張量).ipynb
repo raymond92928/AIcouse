{
  "cells": [
    {
      "cell_type": "markdown",
      "metadata": {
        "id": "view-in-github",
        "colab_type": "text"
      },
      "source": [
        "<a href=\"https://colab.research.google.com/github/raymond92928/S5BAI/blob/main/Pytorch/Tensor(%E5%BC%B5%E9%87%8F).ipynb\" target=\"_parent\"><img src=\"https://colab.research.google.com/assets/colab-badge.svg\" alt=\"Open In Colab\"/></a>"
      ]
    },
    {
      "cell_type": "markdown",
      "id": "27ac150b",
      "metadata": {
        "id": "27ac150b"
      },
      "source": [
        "# Colab information"
      ]
    },
    {
      "cell_type": "code",
      "source": [
        "!nvidia-smi"
      ],
      "metadata": {
        "id": "RgjJvXZF1456"
      },
      "id": "RgjJvXZF1456",
      "execution_count": null,
      "outputs": []
    },
    {
      "cell_type": "code",
      "source": [
        "!cat /proc/cpuinfo"
      ],
      "metadata": {
        "id": "CvjyZ7Hw17FM"
      },
      "id": "CvjyZ7Hw17FM",
      "execution_count": null,
      "outputs": []
    },
    {
      "cell_type": "code",
      "source": [
        "import sys\n",
        "sys.version # python version"
      ],
      "metadata": {
        "id": "d10pmBDI185a"
      },
      "id": "d10pmBDI185a",
      "execution_count": null,
      "outputs": []
    },
    {
      "cell_type": "code",
      "execution_count": null,
      "id": "67451ad0",
      "metadata": {
        "id": "67451ad0"
      },
      "outputs": [],
      "source": [
        "# check torch version\n",
        "import torch\n",
        "print(torch.__version__)"
      ]
    },
    {
      "cell_type": "code",
      "execution_count": null,
      "id": "15f3e763",
      "metadata": {
        "id": "15f3e763"
      },
      "outputs": [],
      "source": [
        "#check cuda was installed or not\n",
        "USE_CUDA = torch.cuda.is_available()\n",
        "device = torch.device(\"cuda\" if USE_CUDA else \"cpu\")\n",
        "print(device)"
      ]
    },
    {
      "cell_type": "markdown",
      "id": "6e8b6a28",
      "metadata": {
        "id": "6e8b6a28"
      },
      "source": [
        "# Tensor basic\n",
        "## [all tensor types](https://pytorch.org/docs/stable/tensors.html)"
      ]
    },
    {
      "cell_type": "code",
      "execution_count": null,
      "id": "cc0b3ec8",
      "metadata": {
        "id": "cc0b3ec8"
      },
      "outputs": [],
      "source": [
        "import torch\n",
        "\n",
        "a1 = torch.Tensor([1, 2])\n",
        "print(a1, a1.type())\n",
        "a2 = torch.tensor([1, 2])\n",
        "print(a2, a2.type())\n",
        "\n",
        "a3 = torch.tensor([1.0, 2.0])\n",
        "print(a3, a3.type())\n",
        "\n",
        "a4 = torch.tensor([1, 2], dtype = torch.float)\n",
        "print(a4, a4.type())"
      ]
    },
    {
      "cell_type": "code",
      "execution_count": null,
      "id": "b878d21b",
      "metadata": {
        "id": "b878d21b"
      },
      "outputs": [],
      "source": [
        "b1 = torch.zeros(2,3)\n",
        "print(b1)"
      ]
    },
    {
      "cell_type": "code",
      "execution_count": null,
      "id": "a6292f3a",
      "metadata": {
        "id": "a6292f3a"
      },
      "outputs": [],
      "source": [
        "b2 = torch.ones(2,3)\n",
        "print(b2)"
      ]
    },
    {
      "cell_type": "code",
      "execution_count": null,
      "id": "13f4edb0",
      "metadata": {
        "id": "13f4edb0"
      },
      "outputs": [],
      "source": [
        "# torch.manual_seed(23) # random seed\n",
        "b3 = torch.rand(2, 3) # random in [0, 1)\n",
        "print(b3)"
      ]
    },
    {
      "cell_type": "code",
      "execution_count": null,
      "id": "210da900",
      "metadata": {
        "id": "210da900"
      },
      "outputs": [],
      "source": [
        "b4 = torch.randn(3, 3) # standard normal distribution\n",
        "print(b4)"
      ]
    },
    {
      "cell_type": "code",
      "execution_count": null,
      "id": "f240bba2",
      "metadata": {
        "id": "f240bba2"
      },
      "outputs": [],
      "source": [
        "b2.zero_() # Fills self tensor with zeros\n",
        "print(b2)"
      ]
    },
    {
      "cell_type": "code",
      "execution_count": null,
      "id": "060db739",
      "metadata": {
        "id": "060db739"
      },
      "outputs": [],
      "source": [
        "c1 = torch.tensor([2])\n",
        "c = c1.item() # change tensor to scalar\n",
        "print(c)"
      ]
    },
    {
      "cell_type": "code",
      "execution_count": null,
      "id": "1a0b1f4c",
      "metadata": {
        "id": "1a0b1f4c"
      },
      "outputs": [],
      "source": [
        "d1 = torch.ones(2, 3)\n",
        "d1_np = d1.numpy() # tensor to numpy\n",
        "print(d1.dtype)\n",
        "print(d1_np.dtype)"
      ]
    },
    {
      "cell_type": "code",
      "execution_count": null,
      "id": "c96d6012",
      "metadata": {
        "scrolled": true,
        "id": "c96d6012"
      },
      "outputs": [],
      "source": [
        "import numpy as np\n",
        "d2_np = np.array([1, 2, 3])\n",
        "d2 = torch.from_numpy(d2_np)\n",
        "print(d2.dtype)"
      ]
    },
    {
      "cell_type": "code",
      "execution_count": null,
      "id": "180715ac",
      "metadata": {
        "id": "180715ac"
      },
      "outputs": [],
      "source": [
        "d1 = torch.rand(2,3)\n",
        "print(d1)\n",
        "d2 = d1.tolist()\n",
        "print(d2)"
      ]
    },
    {
      "cell_type": "markdown",
      "id": "cef316ed",
      "metadata": {
        "id": "cef316ed"
      },
      "source": [
        "## Shape"
      ]
    },
    {
      "cell_type": "code",
      "execution_count": null,
      "id": "071880be",
      "metadata": {
        "id": "071880be"
      },
      "outputs": [],
      "source": [
        "x1 = torch.tensor([[1, 2], [3, 4], [5, 6], [7, 8]])\n",
        "print(x1.shape)"
      ]
    },
    {
      "cell_type": "markdown",
      "id": "502a6a57",
      "metadata": {
        "id": "502a6a57"
      },
      "source": [
        "## index (same as numpy)"
      ]
    },
    {
      "cell_type": "code",
      "execution_count": null,
      "id": "a26cff99",
      "metadata": {
        "id": "a26cff99"
      },
      "outputs": [],
      "source": [
        "x1 = torch.tensor([[1, 2], [3, 4], [5, 6], [7, 8]])\n",
        "print(x1[1, 1])\n",
        "print(x1[1, 1].item())\n",
        "print(x1[:2, 1])\n",
        "print(x1[x1 < 5])"
      ]
    },
    {
      "cell_type": "code",
      "execution_count": null,
      "id": "38441aba",
      "metadata": {
        "id": "38441aba"
      },
      "outputs": [],
      "source": [
        "x1 = torch.tensor([[1, 2], [3, 4], [5, 6], [7, 8]])\n",
        "print(x1.T) # transpose"
      ]
    },
    {
      "cell_type": "markdown",
      "id": "7809ffdc",
      "metadata": {
        "id": "7809ffdc"
      },
      "source": [
        "## Concatenates and Removes a tensor dimension"
      ]
    },
    {
      "cell_type": "code",
      "execution_count": null,
      "id": "73d58203",
      "metadata": {
        "id": "73d58203"
      },
      "outputs": [],
      "source": [
        "y1 = torch.tensor([[1, 2], [3, 4]])\n",
        "y2 = torch.tensor([[5, 6], [7, 8]])\n",
        "\n",
        "y3 = torch.cat([y1, y2], dim = 0)\n",
        "print(y3, y3.shape)\n",
        "\n",
        "y4 = torch.cat([y1, y2], dim = 1)\n",
        "print(y4, y4.shape)"
      ]
    },
    {
      "cell_type": "code",
      "execution_count": null,
      "id": "70093a10",
      "metadata": {
        "id": "70093a10"
      },
      "outputs": [],
      "source": [
        "y5 = torch.stack((y1, y2))\n",
        "print(y5, y5.shape)"
      ]
    },
    {
      "cell_type": "code",
      "execution_count": null,
      "id": "96eb90f3",
      "metadata": {
        "id": "96eb90f3"
      },
      "outputs": [],
      "source": [
        "y6 = torch.unbind(y3)\n",
        "print(y6)"
      ]
    },
    {
      "cell_type": "markdown",
      "id": "5165664a",
      "metadata": {
        "id": "5165664a"
      },
      "source": [
        "## compare"
      ]
    },
    {
      "cell_type": "code",
      "execution_count": null,
      "id": "0aaab0cf",
      "metadata": {
        "id": "0aaab0cf"
      },
      "outputs": [],
      "source": [
        "v1 = torch.arange(8)\n",
        "print(v1)\n",
        "\n",
        "v2 = v1.view(2,4)\n",
        "print(v2)\n",
        "\n",
        "r = torch.max(v2, dim =1)\n",
        "print(r)"
      ]
    },
    {
      "cell_type": "code",
      "execution_count": null,
      "id": "bbd24b73",
      "metadata": {
        "id": "bbd24b73"
      },
      "outputs": [],
      "source": [
        "r = torch.topk(v2, 2, dim = 1)\n",
        "print(r)"
      ]
    },
    {
      "cell_type": "code",
      "execution_count": null,
      "id": "287dde14",
      "metadata": {
        "id": "287dde14"
      },
      "outputs": [],
      "source": [
        "v3 = torch.rand(2,3)\n",
        "print(v3)\n",
        "\n",
        "print(torch.argmax(v3, dim =0))\n",
        "print(torch.argmax(v3, dim =1))"
      ]
    },
    {
      "cell_type": "markdown",
      "id": "522db5c8",
      "metadata": {
        "id": "522db5c8"
      },
      "source": [
        "# Tensor in CPU and GPU"
      ]
    },
    {
      "cell_type": "code",
      "execution_count": null,
      "id": "24fae764",
      "metadata": {
        "id": "24fae764"
      },
      "outputs": [],
      "source": [
        "USE_CUDA = torch.cuda.is_available()\n",
        "device = torch.device(\"cuda\" if USE_CUDA else \"cpu\")\n",
        "print(device)"
      ]
    },
    {
      "cell_type": "code",
      "execution_count": null,
      "id": "c1aa63ae",
      "metadata": {
        "id": "c1aa63ae"
      },
      "outputs": [],
      "source": [
        "x = torch.tensor([[1, 2, 3], [4, 5, 6]], device = device)\n",
        "y = torch.tensor([[7, 8, 9], [0, 1, 2]], device = device)\n",
        "z = x + y\n",
        "print(z)"
      ]
    },
    {
      "cell_type": "code",
      "execution_count": null,
      "id": "50d79f29",
      "metadata": {
        "id": "50d79f29"
      },
      "outputs": [],
      "source": [
        "x = x.to(\"cpu\") # change memory from gpu to cpu\n",
        "y = y.to(\"cpu\")\n",
        "z = x + y\n",
        "print(z)"
      ]
    },
    {
      "cell_type": "code",
      "execution_count": null,
      "id": "ef267644",
      "metadata": {
        "id": "ef267644"
      },
      "outputs": [],
      "source": [
        "x = x.to(\"cuda\") # change menory from cpu to  gpu\n",
        "y = y.to(\"cuda\")\n",
        "z = x + y\n",
        "print(z)"
      ]
    }
  ],
  "metadata": {
    "kernelspec": {
      "display_name": "Python 3 (ipykernel)",
      "language": "python",
      "name": "python3"
    },
    "language_info": {
      "codemirror_mode": {
        "name": "ipython",
        "version": 3
      },
      "file_extension": ".py",
      "mimetype": "text/x-python",
      "name": "python",
      "nbconvert_exporter": "python",
      "pygments_lexer": "ipython3",
      "version": "3.9.15"
    },
    "colab": {
      "provenance": [],
      "gpuType": "T4",
      "include_colab_link": true
    },
    "accelerator": "GPU",
    "gpuClass": "standard"
  },
  "nbformat": 4,
  "nbformat_minor": 5
}