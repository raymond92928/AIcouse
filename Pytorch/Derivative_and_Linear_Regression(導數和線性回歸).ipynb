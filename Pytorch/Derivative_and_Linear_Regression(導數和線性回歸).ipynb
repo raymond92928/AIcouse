{
  "cells": [
    {
      "cell_type": "markdown",
      "metadata": {
        "id": "view-in-github",
        "colab_type": "text"
      },
      "source": [
        "<a href=\"https://colab.research.google.com/github/raymond92928/S5BAI/blob/main/Pytorch/Derivative_and_Linear_Regression(%E5%B0%8E%E6%95%B8%E5%92%8C%E7%B7%9A%E6%80%A7%E5%9B%9E%E6%AD%B8).ipynb\" target=\"_parent\"><img src=\"https://colab.research.google.com/assets/colab-badge.svg\" alt=\"Open In Colab\"/></a>"
      ]
    },
    {
      "cell_type": "markdown",
      "id": "fc00ee3b",
      "metadata": {
        "id": "fc00ee3b"
      },
      "source": [
        "# Derivative"
      ]
    },
    {
      "cell_type": "markdown",
      "id": "cf99991d",
      "metadata": {
        "id": "cf99991d"
      },
      "source": [
        "$$ y=x^2\\\\\n",
        "\\frac{dy}{dx}=2x$$"
      ]
    },
    {
      "cell_type": "code",
      "execution_count": 1,
      "id": "080e13ca",
      "metadata": {
        "id": "080e13ca",
        "outputId": "f8c06390-8687-4167-ca02-f4bff5aaf720",
        "colab": {
          "base_uri": "https://localhost:8080/"
        }
      },
      "outputs": [
        {
          "output_type": "stream",
          "name": "stdout",
          "text": [
            "The dervative at x = 2:  tensor([4.])\n"
          ]
        }
      ],
      "source": [
        "import torch\n",
        "\n",
        "# Create tensor x\n",
        "x = torch.tensor([2.], requires_grad = True)\n",
        "\n",
        "# Create a tensor y according to y = x^2\n",
        "y = x ** 2\n",
        "\n",
        "# take the derivative\n",
        "y.backward()\n",
        "\n",
        "# print out the derivative at x=2\n",
        "print(\"The dervative at x = 2: \", x.grad)"
      ]
    },
    {
      "cell_type": "markdown",
      "id": "93e5f89d",
      "metadata": {
        "id": "93e5f89d"
      },
      "source": [
        "# Partial Derivative"
      ]
    },
    {
      "cell_type": "markdown",
      "id": "cdfc90ee",
      "metadata": {
        "id": "cdfc90ee"
      },
      "source": [
        "$$f(z,y,z) = z*a = z*(x+y) \\\\\n",
        "\\frac{\\partial f}{\\partial {z}}=x+y \\\\\n",
        "\\frac{\\partial f}{\\partial {x}} = \\frac{\\partial f}{\\partial {a}}\\frac{\\partial a}{\\partial {x}}=z \\\\\n",
        "\\frac{\\partial f}{\\partial {y}} = \\frac{\\partial f}{\\partial {a}}\\frac{\\partial a}{\\partial {y}}=z\n",
        "$$"
      ]
    },
    {
      "cell_type": "code",
      "execution_count": 2,
      "id": "cc1a2703",
      "metadata": {
        "id": "cc1a2703",
        "outputId": "fcaaf1bd-d6bf-47da-81e6-67f9b08ea77b",
        "colab": {
          "base_uri": "https://localhost:8080/"
        }
      },
      "outputs": [
        {
          "output_type": "stream",
          "name": "stdout",
          "text": [
            "tensor([-1.]) tensor([2.]) tensor([2.])\n"
          ]
        }
      ],
      "source": [
        "import torch\n",
        "\n",
        "# Create tensor x, y, z\n",
        "x = torch.tensor([1.], requires_grad = True)\n",
        "y = torch.tensor([-2.], requires_grad = True)\n",
        "z = torch.tensor([2.], requires_grad = True)\n",
        "\n",
        "# definition function f\n",
        "a = x+y\n",
        "f = z*a\n",
        "\n",
        "# take the derivative\n",
        "f.backward()\n",
        "\n",
        "# print out the derivative at x=1, y=-2, z = 2\n",
        "print(z.grad, x.grad, y.grad)"
      ]
    },
    {
      "cell_type": "markdown",
      "id": "0027f69c",
      "metadata": {
        "id": "0027f69c"
      },
      "source": [
        "# Linear Regression"
      ]
    },
    {
      "cell_type": "code",
      "execution_count": 3,
      "id": "6cb061b2",
      "metadata": {
        "id": "6cb061b2"
      },
      "outputs": [],
      "source": [
        "import matplotlib.pyplot as plt\n",
        "import numpy as np\n",
        "import pandas as pd\n",
        "from sklearn.linear_model import LinearRegression"
      ]
    },
    {
      "cell_type": "code",
      "execution_count": 4,
      "id": "b09348d8",
      "metadata": {
        "id": "b09348d8",
        "outputId": "9595415a-baad-42a3-cf85-4988aff78622",
        "colab": {
          "base_uri": "https://localhost:8080/",
          "height": 449
        }
      },
      "outputs": [
        {
          "output_type": "display_data",
          "data": {
            "text/plain": [
              "<Figure size 640x480 with 1 Axes>"
            ],
            "image/png": "[encoded data removed]"
          },
          "metadata": {}
        }
      ],
      "source": [
        "X = np.array([5, 7, 8, 7, 2, 17, 2, 9, 4, 11, 12, 9, 6])\n",
        "y = np.array([99, 86, 87, 88, 101, 73, 103, 87, 94, 78, 77, 85, 86])\n",
        "plt.scatter(X, y)\n",
        "plt.xlabel(\"X\")\n",
        "plt.ylabel(\"y\")\n",
        "plt.show()"
      ]
    },
    {
      "cell_type": "code",
      "execution_count": 5,
      "id": "f1256bf6",
      "metadata": {
        "id": "f1256bf6",
        "outputId": "5d58db54-ccd1-4bec-af17-9cf6b7c85c27",
        "colab": {
          "base_uri": "https://localhost:8080/"
        }
      },
      "outputs": [
        {
          "output_type": "stream",
          "name": "stdout",
          "text": [
            "(13, 1) (13,)\n"
          ]
        }
      ],
      "source": [
        "X_train = np.reshape(X, (-1, 1))\n",
        "y_train = y\n",
        "print(X_train.shape, y_train.shape)"
      ]
    },
    {
      "cell_type": "code",
      "execution_count": 6,
      "id": "e07cb68c",
      "metadata": {
        "id": "e07cb68c",
        "outputId": "9230549b-cc0e-42f3-f092-dbcedfacf627",
        "colab": {
          "base_uri": "https://localhost:8080/",
          "height": 74
        }
      },
      "outputs": [
        {
          "output_type": "execute_result",
          "data": {
            "text/plain": [
              "LinearRegression()"
            ],
            "text/html": [
              "<style>#sk-container-id-1 {color: black;background-color: white;}#sk-container-id-1 pre{padding: 0;}#sk-container-id-1 div.sk-toggleable {background-color: white;}#sk-container-id-1 label.sk-toggleable__label {cursor: pointer;display: block;width: 100%;margin-bottom: 0;padding: 0.3em;box-sizing: border-box;text-align: center;}#sk-container-id-1 label.sk-toggleable__label-arrow:before {content: \"▸\";float: left;margin-right: 0.25em;color: #696969;}#sk-container-id-1 label.sk-toggleable__label-arrow:hover:before {color: black;}#sk-container-id-1 div.sk-estimator:hover label.sk-toggleable__label-arrow:before {color: black;}#sk-container-id-1 div.sk-toggleable__content {max-height: 0;max-width: 0;overflow: hidden;text-align: left;background-color: #f0f8ff;}#sk-container-id-1 div.sk-toggleable__content pre {margin: 0.2em;color: black;border-radius: 0.25em;background-color: #f0f8ff;}#sk-container-id-1 input.sk-toggleable__control:checked~div.sk-toggleable__content {max-height: 200px;max-width: 100%;overflow: auto;}#sk-container-id-1 input.sk-toggleable__control:checked~label.sk-toggleable__label-arrow:before {content: \"▾\";}#sk-container-id-1 div.sk-estimator input.sk-toggleable__control:checked~label.sk-toggleable__label {background-color: #d4ebff;}#sk-container-id-1 div.sk-label input.sk-toggleable__control:checked~label.sk-toggleable__label {background-color: #d4ebff;}#sk-container-id-1 input.sk-hidden--visually {border: 0;clip: rect(1px 1px 1px 1px);clip: rect(1px, 1px, 1px, 1px);height: 1px;margin: -1px;overflow: hidden;padding: 0;position: absolute;width: 1px;}#sk-container-id-1 div.sk-estimator {font-family: monospace;background-color: #f0f8ff;border: 1px dotted black;border-radius: 0.25em;box-sizing: border-box;margin-bottom: 0.5em;}#sk-container-id-1 div.sk-estimator:hover {background-color: #d4ebff;}#sk-container-id-1 div.sk-parallel-item::after {content: \"\";width: 100%;border-bottom: 1px solid gray;flex-grow: 1;}#sk-container-id-1 div.sk-label:hover label.sk-toggleable__label {background-color: #d4ebff;}#sk-container-id-1 div.sk-serial::before {content: \"\";position: absolute;border-left: 1px solid gray;box-sizing: border-box;top: 0;bottom: 0;left: 50%;z-index: 0;}#sk-container-id-1 div.sk-serial {display: flex;flex-direction: column;align-items: center;background-color: white;padding-right: 0.2em;padding-left: 0.2em;position: relative;}#sk-container-id-1 div.sk-item {position: relative;z-index: 1;}#sk-container-id-1 div.sk-parallel {display: flex;align-items: stretch;justify-content: center;background-color: white;position: relative;}#sk-container-id-1 div.sk-item::before, #sk-container-id-1 div.sk-parallel-item::before {content: \"\";position: absolute;border-left: 1px solid gray;box-sizing: border-box;top: 0;bottom: 0;left: 50%;z-index: -1;}#sk-container-id-1 div.sk-parallel-item {display: flex;flex-direction: column;z-index: 1;position: relative;background-color: white;}#sk-container-id-1 div.sk-parallel-item:first-child::after {align-self: flex-end;width: 50%;}#sk-container-id-1 div.sk-parallel-item:last-child::after {align-self: flex-start;width: 50%;}#sk-container-id-1 div.sk-parallel-item:only-child::after {width: 0;}#sk-container-id-1 div.sk-dashed-wrapped {border: 1px dashed gray;margin: 0 0.4em 0.5em 0.4em;box-sizing: border-box;padding-bottom: 0.4em;background-color: white;}#sk-container-id-1 div.sk-label label {font-family: monospace;font-weight: bold;display: inline-block;line-height: 1.2em;}#sk-container-id-1 div.sk-label-container {text-align: center;}#sk-container-id-1 div.sk-container {/* jupyter's `normalize.less` sets `[hidden] { display: none; }` but bootstrap.min.css set `[hidden] { display: none !important; }` so we also need the `!important` here to be able to override the default hidden behavior on the sphinx rendered scikit-learn.org. See: https://github.com/scikit-learn/scikit-learn/issues/21755 */display: inline-block !important;position: relative;}#sk-container-id-1 div.sk-text-repr-fallback {display: none;}</style><div id=\"sk-container-id-1\" class=\"sk-top-container\"><div class=\"sk-text-repr-fallback\"><pre>LinearRegression()</pre><b>In a Jupyter environment, please rerun this cell to show the HTML representation or trust the notebook. <br />On GitHub, the HTML representation is unable to render, please try loading this page with nbviewer.org.</b></div><div class=\"sk-container\" hidden><div class=\"sk-item\"><div class=\"sk-estimator sk-toggleable\"><input class=\"sk-toggleable__control sk-hidden--visually\" id=\"sk-estimator-id-1\" type=\"checkbox\" checked><label for=\"sk-estimator-id-1\" class=\"sk-toggleable__label sk-toggleable__label-arrow\">LinearRegression</label><div class=\"sk-toggleable__content\"><pre>LinearRegression()</pre></div></div></div></div></div>"
            ]
          },
          "metadata": {},
          "execution_count": 6
        }
      ],
      "source": [
        "model = LinearRegression()\n",
        "model.fit(X_train, y_train)"
      ]
    },
    {
      "cell_type": "code",
      "execution_count": 7,
      "id": "ed26093a",
      "metadata": {
        "id": "ed26093a",
        "outputId": "48d866f9-28d1-4d66-e363-30ed1fe3521c",
        "colab": {
          "base_uri": "https://localhost:8080/"
        }
      },
      "outputs": [
        {
          "output_type": "stream",
          "name": "stdout",
          "text": [
            "103.73509933774834 [-2.06622517]\n"
          ]
        }
      ],
      "source": [
        "w0 = model.intercept_ # bias\n",
        "w1 = model.coef_ # coefficient\n",
        "print(w0, w1)"
      ]
    },
    {
      "cell_type": "markdown",
      "id": "d87ca603",
      "metadata": {
        "id": "d87ca603"
      },
      "source": [
        "$ y = w_0 + w_1 * x_1$"
      ]
    },
    {
      "cell_type": "code",
      "execution_count": 8,
      "id": "9ecfafa9",
      "metadata": {
        "id": "9ecfafa9",
        "outputId": "f77b6bb0-2f22-4e91-ae18-9f02ce74115a",
        "colab": {
          "base_uri": "https://localhost:8080/",
          "height": 449
        }
      },
      "outputs": [
        {
          "output_type": "display_data",
          "data": {
            "text/plain": [
              "<Figure size 640x480 with 1 Axes>"
            ],
            "image/png": "[encoded data removed]"
          },
          "metadata": {}
        }
      ],
      "source": [
        "def myfunc(x):\n",
        "    return w1*x + w0\n",
        "\n",
        "mymodel = list(map(myfunc, X))\n",
        "\n",
        "plt.scatter(X,y)\n",
        "plt.plot(X, mymodel)\n",
        "plt.xlabel(\"X\")\n",
        "plt.ylabel(\"y\")\n",
        "plt.show()"
      ]
    },
    {
      "cell_type": "code",
      "execution_count": 9,
      "id": "5754889e",
      "metadata": {
        "id": "5754889e",
        "outputId": "6d4bacd8-5d17-413c-82c8-02aa4ffe0176",
        "colab": {
          "base_uri": "https://localhost:8080/"
        }
      },
      "outputs": [
        {
          "output_type": "stream",
          "name": "stdout",
          "text": [
            "[83.07284768]\n"
          ]
        }
      ],
      "source": [
        "y_pred = myfunc(10)\n",
        "print(y_pred)"
      ]
    },
    {
      "cell_type": "markdown",
      "id": "86d2c5d1",
      "metadata": {
        "id": "86d2c5d1"
      },
      "source": [
        "# Multiple linear regression"
      ]
    },
    {
      "cell_type": "markdown",
      "id": "cec9503e",
      "metadata": {
        "id": "cec9503e"
      },
      "source": [
        "> ## $y=\\alpha+\\beta_1 x_1 + \\beta_2 x_2 + \\cdots + \\beta_n x_n$ <br>\n",
        "> ## $\\mathbf{Y} = \\mathbf{X}\\beta$<br>\n",
        ">$\n",
        "\\begin{bmatrix}\n",
        "    Y_1 \\\\ Y_2\\\\ \\vdots \\\\ Y_m\n",
        "\\end{bmatrix} = \n",
        "\\begin{bmatrix}\n",
        "    1 & X_{11} & \\cdots & X_{1n} \\\\ 1 & X_{21} & \\cdots & X_{2n}\\\\ \\vdots & \\vdots & \\vdots & \\vdots\\\\ 1 & X_{m1} & \\cdots & X_{mn}\n",
        "\\end{bmatrix} \\times\n",
        "\\begin{bmatrix}\n",
        "   \\alpha \\\\ \\beta_1 \\\\ \\beta_2 \\\\ \\vdots \\\\ \\beta_n\n",
        "\\end{bmatrix}\n",
        " $\n"
      ]
    },
    {
      "cell_type": "markdown",
      "id": "6a3a7839",
      "metadata": {
        "id": "6a3a7839"
      },
      "source": [
        "# Cost function(loss function) $y-f(x)$\n",
        ">Goal: Choose $\\alpha$, $\\beta$ so that $y-f(x)$ is miniminzed.\n",
        "## Residual sum of squares(RSS)\n",
        "># $SS_{res}=\\sum^n_{i=1}(y_i-f(x_i))^2$"
      ]
    },
    {
      "cell_type": "markdown",
      "id": "c7beeed8",
      "metadata": {
        "id": "c7beeed8"
      },
      "source": [
        "Update the coefficient\n",
        "$$ \\beta(t+1) = \\beta(t) - \\alpha \\nabla L(\\beta)\\\\\n",
        "\\nabla L(\\beta) = \n",
        "\\begin{bmatrix}\n",
        "\\frac{\\partial f}{\\partial {\\beta_1}} \\\\\n",
        "\\frac{\\partial f}{\\partial {\\beta_2}} \\\\\n",
        "\\vdots \\\\\n",
        "\\frac{\\partial f}{\\partial {\\beta_n}}\n",
        "\\end{bmatrix}$$\n",
        "$\\alpha$ is learn rate"
      ]
    },
    {
      "cell_type": "markdown",
      "id": "903a167f",
      "metadata": {
        "id": "903a167f"
      },
      "source": [
        "# tensor computation"
      ]
    },
    {
      "cell_type": "code",
      "execution_count": 10,
      "id": "1628d651",
      "metadata": {
        "id": "1628d651",
        "outputId": "fe0a97de-bf6c-403b-b53a-80fa9b767b18",
        "colab": {
          "base_uri": "https://localhost:8080/"
        }
      },
      "outputs": [
        {
          "output_type": "stream",
          "name": "stdout",
          "text": [
            "tensor([[2., 3., 4.],\n",
            "        [6., 7., 8.]])\n",
            "tensor([[2., 3., 4.],\n",
            "        [6., 7., 8.]])\n"
          ]
        }
      ],
      "source": [
        "import torch\n",
        "x = torch.Tensor([[1, 2, 3], [4, 5, 6]])\n",
        "y = torch.Tensor([[1, 1, 1], [2, 2, 2]])\n",
        "\n",
        "print(x + y)\n",
        "print(torch.add(x, y))"
      ]
    },
    {
      "cell_type": "code",
      "execution_count": 11,
      "id": "76e86155",
      "metadata": {
        "id": "76e86155",
        "outputId": "c83ab6d4-861d-4efd-d9ea-5d87615db5c0",
        "colab": {
          "base_uri": "https://localhost:8080/"
        }
      },
      "outputs": [
        {
          "output_type": "stream",
          "name": "stdout",
          "text": [
            "tensor([[0.5000, 0.6667, 0.7500],\n",
            "        [0.8000, 0.8333, 0.8571],\n",
            "        [0.8750, 0.8889, 0.9000]])\n",
            "tensor([[ 1.,  4.,  9.],\n",
            "        [16., 25., 36.],\n",
            "        [49., 64., 81.]])\n"
          ]
        }
      ],
      "source": [
        "v = torch.Tensor([[1, 2, 3], [4, 5, 6], [7, 8, 9]])\n",
        "print(torch.div(v, v+1))\n",
        "print(torch.mul(v, v))"
      ]
    },
    {
      "cell_type": "code",
      "execution_count": 12,
      "id": "6c4c8526",
      "metadata": {
        "id": "6c4c8526",
        "outputId": "7ef21315-5485-4e10-a044-98f2543e8496",
        "colab": {
          "base_uri": "https://localhost:8080/"
        }
      },
      "outputs": [
        {
          "output_type": "stream",
          "name": "stdout",
          "text": [
            "tensor([[ 0.,  1.,  3.],\n",
            "        [ 3.,  7., 12.],\n",
            "        [ 6., 13., 21.]])\n",
            "tensor([3., 4., 5.])\n"
          ]
        }
      ],
      "source": [
        "v = torch.Tensor([[0, 1, 2], [3, 4, 5], [6, 7, 8]])\n",
        "print(torch.cumsum(v, dim = 1))\n",
        "print(torch.mean(v, 0))"
      ]
    },
    {
      "cell_type": "code",
      "execution_count": 13,
      "id": "07445949",
      "metadata": {
        "id": "07445949",
        "outputId": "44fb623e-be68-4d0f-ecc9-8a5b535d69f4",
        "colab": {
          "base_uri": "https://localhost:8080/"
        }
      },
      "outputs": [
        {
          "output_type": "stream",
          "name": "stdout",
          "text": [
            "tensor(14.)\n",
            "tensor([20., 52.])\n"
          ]
        }
      ],
      "source": [
        "x2 = torch.Tensor([4, 2])\n",
        "y2 = torch.Tensor([3, 1])\n",
        "print(torch.dot(x2, y2))\n",
        "\n",
        "mat = torch.Tensor([[1, 2, 3, 4], [5, 6, 7, 8]])\n",
        "vec = torch.Tensor([2, 2, 2, 2])\n",
        "print(torch.mv(mat, vec))"
      ]
    },
    {
      "cell_type": "code",
      "execution_count": 14,
      "id": "ee861c8e",
      "metadata": {
        "id": "ee861c8e",
        "outputId": "221106a8-fe47-427e-f5aa-7c5881e786a8",
        "colab": {
          "base_uri": "https://localhost:8080/"
        }
      },
      "outputs": [
        {
          "output_type": "stream",
          "name": "stdout",
          "text": [
            "tensor([[ 8.,  8.,  8.,  8.],\n",
            "        [26., 26., 26., 26.]])\n"
          ]
        }
      ],
      "source": [
        "mat1 = torch.Tensor([[0, 1, 2], [3, 4, 5]])\n",
        "mat2 = torch.Tensor([[1, 1, 1, 1], [2, 2, 2, 2], [3, 3, 3, 3]])\n",
        "print(torch.mm(mat1, mat2))"
      ]
    },
    {
      "cell_type": "markdown",
      "id": "7ca57974",
      "metadata": {
        "id": "7ca57974"
      },
      "source": [
        "# Example"
      ]
    },
    {
      "cell_type": "markdown",
      "id": "1741de49",
      "metadata": {
        "id": "1741de49"
      },
      "source": [
        "$$\n",
        "y = 1+3*x_1+5*x_2\\\\\n",
        "X = [1,x_1,x_2]\\\\\n",
        "w = [1, 3, 5]^T\n",
        "$$"
      ]
    },
    {
      "cell_type": "markdown",
      "id": "dd500fd0",
      "metadata": {
        "id": "dd500fd0"
      },
      "source": [
        "We'll generate random data X, and get the y by the function above. Then we try to find the w"
      ]
    },
    {
      "cell_type": "code",
      "execution_count": 15,
      "id": "657c7609",
      "metadata": {
        "id": "657c7609",
        "outputId": "e4c8e8cf-adb6-4bc9-927b-83b8b89d002e",
        "colab": {
          "base_uri": "https://localhost:8080/"
        }
      },
      "outputs": [
        {
          "output_type": "stream",
          "name": "stdout",
          "text": [
            "torch.Size([100, 3]) torch.Size([100])\n"
          ]
        }
      ],
      "source": [
        "import torch\n",
        "import matplotlib.pyplot as plt\n",
        "\n",
        "torch.manual_seed(0) # set random seed\n",
        "\n",
        "w=torch.tensor([1,3,5]).float()\n",
        "\n",
        "X=torch.cat([torch.ones(100,1),torch.randn(100,2)], dim=1)  # X=[1, x1, x2]\n",
        "y=torch.mv(X, w) + torch.randn(100)*0.3\n",
        "print(X.shape, y.shape)"
      ]
    },
    {
      "cell_type": "code",
      "execution_count": 16,
      "id": "3ed164aa",
      "metadata": {
        "id": "3ed164aa"
      },
      "outputs": [],
      "source": [
        "w_pred=torch.randn(3, requires_grad=True) # random number in w\n",
        "lr = 0.01"
      ]
    },
    {
      "cell_type": "code",
      "execution_count": 17,
      "id": "0eebba1c",
      "metadata": {
        "id": "0eebba1c",
        "outputId": "ea4a019e-ce67-47a6-860b-514495810b5f",
        "colab": {
          "base_uri": "https://localhost:8080/"
        }
      },
      "outputs": [
        {
          "output_type": "stream",
          "name": "stdout",
          "text": [
            "epoch:0, Loss: 27.845\n",
            "epoch:50, Loss: 2.886\n",
            "epoch:100, Loss: 0.387\n",
            "epoch:150, Loss: 0.121\n",
            "epoch:200, Loss: 0.089\n"
          ]
        }
      ],
      "source": [
        "losses=[]\n",
        "epochs=200\n",
        "for epoch in range(epochs+1):\n",
        "    w_pred.grad=None   # clear the gradient data\n",
        "    y_pred=torch.mv(X,w_pred)\n",
        "    loss=torch.mean((y-y_pred)**2)  \n",
        "    loss.backward()\n",
        "\n",
        "    w_pred.data=w_pred.data - lr*w_pred.grad.data  # update gradient\n",
        "    losses.append(loss.item())   # save loss data\n",
        "\n",
        "    if (epoch) % 50 ==0:\n",
        "        print(f\"epoch:{epoch}, Loss: {loss.item():.3f}\")"
      ]
    },
    {
      "cell_type": "code",
      "execution_count": 18,
      "id": "f10952d8",
      "metadata": {
        "id": "f10952d8",
        "outputId": "f17dd7a2-9b7f-4ee1-915d-4271e2771a2a",
        "colab": {
          "base_uri": "https://localhost:8080/",
          "height": 449
        }
      },
      "outputs": [
        {
          "output_type": "display_data",
          "data": {
            "text/plain": [
              "<Figure size 640x480 with 1 Axes>"
            ],
            "image/png": "[encoded data removed]"
          },
          "metadata": {}
        }
      ],
      "source": [
        "plt.plot(losses)\n",
        "plt.xlabel(\"epoch\")\n",
        "plt.ylabel(\"losses\")\n",
        "plt.show()"
      ]
    },
    {
      "cell_type": "code",
      "execution_count": 18,
      "id": "6f0f0b25",
      "metadata": {
        "id": "6f0f0b25"
      },
      "outputs": [],
      "source": []
    }
  ],
  "metadata": {
    "kernelspec": {
      "display_name": "Python 3 (ipykernel)",
      "language": "python",
      "name": "python3"
    },
    "language_info": {
      "codemirror_mode": {
        "name": "ipython",
        "version": 3
      },
      "file_extension": ".py",
      "mimetype": "text/x-python",
      "name": "python",
      "nbconvert_exporter": "python",
      "pygments_lexer": "ipython3",
      "version": "3.9.15"
    },
    "colab": {
      "provenance": [],
      "toc_visible": true,
      "gpuType": "T4",
      "include_colab_link": true
    },
    "accelerator": "GPU",
    "gpuClass": "standard"
  },
  "nbformat": 4,
  "nbformat_minor": 5
}