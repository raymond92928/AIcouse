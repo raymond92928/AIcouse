{
  "cells": [
    {
      "cell_type": "markdown",
      "metadata": {
        "id": "view-in-github",
        "colab_type": "text"
      },
      "source": [
        "<a href=\"https://colab.research.google.com/github/raymond92928/S5BAI/blob/main/Pytorch/Data_Processing_%E6%95%B8%E6%93%9A%E8%99%95%E7%90%86.ipynb\" target=\"_parent\"><img src=\"https://colab.research.google.com/assets/colab-badge.svg\" alt=\"Open In Colab\"/></a>"
      ]
    },
    {
      "cell_type": "markdown",
      "id": "af0dbec4",
      "metadata": {
        "id": "af0dbec4"
      },
      "source": [
        "# Handle outliers 處理異常值"
      ]
    },
    {
      "cell_type": "code",
      "execution_count": null,
      "id": "89b7a4d8",
      "metadata": {
        "id": "89b7a4d8"
      },
      "outputs": [],
      "source": [
        "import numpy as np\n",
        "import pandas as pd"
      ]
    },
    {
      "cell_type": "code",
      "execution_count": null,
      "id": "e41cab3f",
      "metadata": {
        "id": "e41cab3f",
        "outputId": "07e57e61-65c6-4c13-c10b-372a7ba1b51e"
      },
      "outputs": [
        {
          "name": "stdout",
          "output_type": "stream",
          "text": [
            "(20, 3)\n"
          ]
        }
      ],
      "source": [
        "scores={\n",
        "    'Python': [90, 50, 70, 300, 80, 60, 62, 55, 76, 88, 90, 50, 70, 30, 80, 60, 62, 55, 76, 88],\n",
        "    'Java': [300, 70, 90, 50, 40, 60, 77, 66, 50, 89, 30, 70, 90, 50, 40, 60, 77, 66, 50, 89],\n",
        "    'PHP': [33, 220, 75, 85, 82, 90, 95, 56, 68, 65, 33, 22, 75, 85, 82, 90, 95, 56, 68, 65]\n",
        "}\n",
        "\n",
        "df =pd.DataFrame(scores)\n",
        "print(df.shape)"
      ]
    },
    {
      "cell_type": "code",
      "execution_count": null,
      "id": "b131ed5e",
      "metadata": {
        "id": "b131ed5e",
        "outputId": "5ef454c3-d6dc-49f1-b1db-57dc061c5dc8"
      },
      "outputs": [
        {
          "name": "stdout",
          "output_type": "stream",
          "text": [
            "{'Python': '0.050', 'Java': '0.050', 'PHP': '0.050'}\n"
          ]
        }
      ],
      "source": [
        "outliers = {}\n",
        "for i in range(df.shape[1]):\n",
        "    min_t = df[df.columns[i]].mean() - (3*df[df.columns[i]].std()) # minimum threshold\n",
        "    max_t = df[df.columns[i]].mean() + (3*df[df.columns[i]].std()) # maximum threshold\n",
        "    \n",
        "    count = 0\n",
        "    \n",
        "    for j in range(df.shape[0]):\n",
        "        data = df.iloc[j, i]\n",
        "        if data < min_t or data > max_t:\n",
        "            count += 1\n",
        "            \n",
        "    percentage = count / df.shape[0]\n",
        "    \n",
        "    outliers[df.columns[i]] = \"%.3f\" %percentage\n",
        "    \n",
        "print(outliers)"
      ]
    },
    {
      "cell_type": "code",
      "execution_count": null,
      "id": "023180cb",
      "metadata": {
        "id": "023180cb",
        "outputId": "77dd5dfb-f7b4-465a-a0b8-c46737ffb5ad"
      },
      "outputs": [
        {
          "name": "stdout",
          "output_type": "stream",
          "text": [
            "    Python  Java   PHP\n",
            "0     90.0   NaN  33.0\n",
            "1     50.0  70.0   NaN\n",
            "2     70.0  90.0  75.0\n",
            "3      NaN  50.0  85.0\n",
            "4     80.0  40.0  82.0\n",
            "5     60.0  60.0  90.0\n",
            "6     62.0  77.0  95.0\n",
            "7     55.0  66.0  56.0\n",
            "8     76.0  50.0  68.0\n",
            "9     88.0  89.0  65.0\n",
            "10    90.0  30.0  33.0\n",
            "11    50.0  70.0  22.0\n",
            "12    70.0  90.0  75.0\n",
            "13    30.0  50.0  85.0\n",
            "14    80.0  40.0  82.0\n",
            "15    60.0  60.0  90.0\n",
            "16    62.0  77.0  95.0\n",
            "17    55.0  66.0  56.0\n",
            "18    76.0  50.0  68.0\n",
            "19    88.0  89.0  65.0\n"
          ]
        }
      ],
      "source": [
        "for i in range(df.shape[1]):\n",
        "    min_t = df[df.columns[i]].mean() - (3*df[df.columns[i]].std())\n",
        "    max_t = df[df.columns[i]].mean() + (3*df[df.columns[i]].std())\n",
        "\n",
        "    for j in range(df.shape[0]):\n",
        "        data = df.iloc[j, i]\n",
        "        if data < min_t or data > max_t:\n",
        "            df.iloc[j, i] = np.NaN # change outliers to NaN\n",
        "    \n",
        "print(df)"
      ]
    },
    {
      "cell_type": "markdown",
      "id": "efc63f2b",
      "metadata": {
        "id": "efc63f2b"
      },
      "source": [
        "# Handle missing values 處理缺失值"
      ]
    },
    {
      "cell_type": "code",
      "execution_count": null,
      "id": "ddc538ee",
      "metadata": {
        "id": "ddc538ee"
      },
      "outputs": [],
      "source": [
        "import numpy as np\n",
        "import pandas as pd"
      ]
    },
    {
      "cell_type": "code",
      "execution_count": null,
      "id": "41f5f127",
      "metadata": {
        "id": "41f5f127",
        "outputId": "30e21d86-1b83-485f-e0d8-b89dea3d13be"
      },
      "outputs": [
        {
          "name": "stdout",
          "output_type": "stream",
          "text": [
            "(10, 3)\n"
          ]
        }
      ],
      "source": [
        "scores={\n",
        "    'Python': [90, 50, 70, np.NaN, 80, 60, np.NaN, 55, 76, 88],\n",
        "    'Java': [np.NaN, 70, 90, 50, 40, np.NaN, 77, 66, np.NaN, 89],\n",
        "    'PHP': [33, np.NaN, 75, 85, 82, 90, 95, 56, 68, np.NaN]\n",
        "}\n",
        "\n",
        "\n",
        "df =pd.DataFrame(scores)\n",
        "print(df.shape)"
      ]
    },
    {
      "cell_type": "code",
      "execution_count": null,
      "id": "fd895407",
      "metadata": {
        "id": "fd895407",
        "outputId": "6804a672-f64a-463c-e900-88087fec91ae"
      },
      "outputs": [
        {
          "name": "stdout",
          "output_type": "stream",
          "text": [
            "Python    2\n",
            "Java      3\n",
            "PHP       2\n",
            "dtype: int64\n"
          ]
        }
      ],
      "source": [
        "print(df.isnull().sum())"
      ]
    },
    {
      "cell_type": "code",
      "execution_count": null,
      "id": "808ce18f",
      "metadata": {
        "id": "808ce18f",
        "outputId": "bdcd9a42-d315-4891-ce2e-6ccfd1979dd7"
      },
      "outputs": [
        {
          "name": "stdout",
          "output_type": "stream",
          "text": [
            "7\n"
          ]
        }
      ],
      "source": [
        "print(df.isnull().sum().sum())"
      ]
    },
    {
      "cell_type": "code",
      "execution_count": null,
      "id": "1ebe8672",
      "metadata": {
        "id": "1ebe8672",
        "outputId": "c987a526-8cc2-4761-f0c8-781cc9657d58"
      },
      "outputs": [
        {
          "name": "stdout",
          "output_type": "stream",
          "text": [
            "   Python  Java   PHP\n",
            "2    70.0  90.0  75.0\n",
            "4    80.0  40.0  82.0\n",
            "7    55.0  66.0  56.0\n"
          ]
        }
      ],
      "source": [
        "df_orig = df.copy()\n",
        "df2 = df.dropna() # drop the row/column include NaN\n",
        "print(df2)"
      ]
    },
    {
      "cell_type": "code",
      "execution_count": null,
      "id": "6c9d9df6",
      "metadata": {
        "id": "6c9d9df6",
        "outputId": "3cfae871-863a-4a50-a618-7791ff668581"
      },
      "outputs": [
        {
          "name": "stdout",
          "output_type": "stream",
          "text": [
            "   Python  Java   PHP\n",
            "0    90.0   NaN  33.0\n",
            "1    50.0  70.0  33.0\n",
            "2    70.0  90.0  75.0\n",
            "3    70.0  50.0  85.0\n",
            "4    80.0  40.0  82.0\n",
            "5    60.0  40.0  90.0\n",
            "6    60.0  77.0  95.0\n",
            "7    55.0  66.0  56.0\n",
            "8    76.0  66.0  68.0\n",
            "9    88.0  89.0  68.0\n"
          ]
        }
      ],
      "source": [
        "df3 = df.fillna(method = 'ffill') # propagate last valid observation forward to next valid\n",
        "print(df3)"
      ]
    },
    {
      "cell_type": "code",
      "execution_count": null,
      "id": "130ae0c9",
      "metadata": {
        "id": "130ae0c9",
        "outputId": "19cdc746-7dfb-4120-b3e3-960c8c015c5b"
      },
      "outputs": [
        {
          "name": "stdout",
          "output_type": "stream",
          "text": [
            "   Python  Java   PHP\n",
            "0    90.0  70.0  33.0\n",
            "1    50.0  70.0  75.0\n",
            "2    70.0  90.0  75.0\n",
            "3    80.0  50.0  85.0\n",
            "4    80.0  40.0  82.0\n",
            "5    60.0  77.0  90.0\n",
            "6    55.0  77.0  95.0\n",
            "7    55.0  66.0  56.0\n",
            "8    76.0  89.0  68.0\n",
            "9    88.0  89.0   NaN\n"
          ]
        }
      ],
      "source": [
        "df4 = df.fillna(method = 'bfill') # use next valid observation to fill gap\n",
        "print(df4)"
      ]
    },
    {
      "cell_type": "code",
      "execution_count": null,
      "id": "529ad807",
      "metadata": {
        "id": "529ad807",
        "outputId": "0461e7fc-91c6-41f5-9364-021cf1395b56"
      },
      "outputs": [
        {
          "name": "stdout",
          "output_type": "stream",
          "text": [
            "71 69 73\n"
          ]
        }
      ],
      "source": [
        "python_avg = df.Python.mean().round().astype(int)\n",
        "java_avg = df.Java.mean().round().astype(int)\n",
        "php_avg = df.PHP.mean().round().astype(int)\n",
        "\n",
        "print(python_avg, java_avg, php_avg)"
      ]
    },
    {
      "cell_type": "code",
      "execution_count": null,
      "id": "c90efd64",
      "metadata": {
        "id": "c90efd64",
        "outputId": "93c2d1bc-27d6-4929-f7fa-d44ac36ee504"
      },
      "outputs": [
        {
          "name": "stdout",
          "output_type": "stream",
          "text": [
            "   Python  Java   PHP\n",
            "0    90.0  69.0  33.0\n",
            "1    50.0  70.0  73.0\n",
            "2    70.0  90.0  75.0\n",
            "3    71.0  50.0  85.0\n",
            "4    80.0  40.0  82.0\n",
            "5    60.0  69.0  90.0\n",
            "6    71.0  77.0  95.0\n",
            "7    55.0  66.0  56.0\n",
            "8    76.0  69.0  68.0\n",
            "9    88.0  89.0  73.0\n"
          ]
        }
      ],
      "source": [
        "df.Python.fillna(value = python_avg, inplace = True)\n",
        "df.Java.fillna(value = java_avg, inplace = True)\n",
        "df.PHP.fillna(value = php_avg, inplace = True)\n",
        "\n",
        "print(df)"
      ]
    },
    {
      "cell_type": "markdown",
      "id": "be6ec0cc",
      "metadata": {
        "id": "be6ec0cc"
      },
      "source": [
        "# 數據縮放"
      ]
    },
    {
      "cell_type": "markdown",
      "id": "d1dda2de",
      "metadata": {
        "id": "d1dda2de"
      },
      "source": [
        "## Normalizatoin 正規化"
      ]
    },
    {
      "cell_type": "markdown",
      "id": "004e85b5",
      "metadata": {
        "id": "004e85b5"
      },
      "source": [
        "$$\n",
        "x_{norm} = \\frac{x_i-\\min{(x)}}{\\max{(x)}-\\min{(x)}}\n",
        "$$"
      ]
    },
    {
      "cell_type": "code",
      "execution_count": null,
      "id": "142f0a8d",
      "metadata": {
        "id": "142f0a8d",
        "outputId": "8f972fc3-8479-4180-9873-f8e36d771f2b"
      },
      "outputs": [
        {
          "name": "stdout",
          "output_type": "stream",
          "text": [
            "   Python  Java       PHP\n",
            "0   1.000  0.58  0.000000\n",
            "1   0.000  0.60  0.645161\n",
            "2   0.500  1.00  0.677419\n",
            "3   0.525  0.20  0.838710\n",
            "4   0.750  0.00  0.790323\n",
            "5   0.250  0.58  0.919355\n",
            "6   0.525  0.74  1.000000\n",
            "7   0.125  0.52  0.370968\n",
            "8   0.650  0.58  0.564516\n",
            "9   0.950  0.98  0.645161\n"
          ]
        }
      ],
      "source": [
        "df_orig = df\n",
        "df = (df - df.min())/(df.max() - df.min())\n",
        "print(df)"
      ]
    },
    {
      "cell_type": "markdown",
      "id": "d0ef2b46",
      "metadata": {
        "id": "d0ef2b46"
      },
      "source": [
        "## Starnardization 標準化"
      ]
    },
    {
      "cell_type": "markdown",
      "id": "803ea4f2",
      "metadata": {
        "id": "803ea4f2"
      },
      "source": [
        "$$\n",
        "x_{stand} = \\frac{x_i - \\text{mean}(x)}{\\text{std}(x)}\n",
        "$$"
      ]
    },
    {
      "cell_type": "code",
      "execution_count": null,
      "id": "6c19d674",
      "metadata": {
        "id": "6c19d674",
        "outputId": "cc03c018-684d-40c8-cd60-77baf70a3bfa"
      },
      "outputs": [
        {
          "name": "stdout",
          "output_type": "stream",
          "text": [
            "     Python      Java       PHP\n",
            "0  1.428751  0.006520 -2.222222\n",
            "1 -1.595061  0.071724  0.000000\n",
            "2 -0.083155  1.375794  0.111111\n",
            "3 -0.007560 -1.232347  0.666667\n",
            "4  0.672798 -1.884382  0.500000\n",
            "5 -0.839108  0.006520  0.944444\n",
            "6 -0.007560  0.528149  1.222222\n",
            "7 -1.217084 -0.189090 -0.944444\n",
            "8  0.370417  0.006520 -0.277778\n",
            "9  1.277560  1.310591  0.000000\n"
          ]
        }
      ],
      "source": [
        "df = df_orig\n",
        "df = (df-df.mean())/(df.std())\n",
        "print(df)"
      ]
    },
    {
      "cell_type": "markdown",
      "id": "fcd4af57",
      "metadata": {
        "id": "fcd4af57"
      },
      "source": [
        "# split dataset折分數據集\n",
        "In particular, three data sets are commonly used in different stages of the creation of the model: training (訓練集), validation (驗證集), and test sets (測試集)."
      ]
    },
    {
      "cell_type": "markdown",
      "id": "125839e8",
      "metadata": {
        "id": "125839e8"
      },
      "source": [
        "## split by index"
      ]
    },
    {
      "cell_type": "code",
      "execution_count": null,
      "id": "15b5f5e1",
      "metadata": {
        "id": "15b5f5e1",
        "outputId": "85fbbedc-416d-4185-dee4-0f5f3bdd78ac"
      },
      "outputs": [
        {
          "name": "stdout",
          "output_type": "stream",
          "text": [
            "   Python  Java   PHP\n",
            "2    70.0  90.0  75.0\n",
            "8    76.0  69.0  68.0\n",
            "4    80.0  40.0  82.0\n",
            "9    88.0  89.0  73.0\n",
            "1    50.0  70.0  73.0\n",
            "6    71.0  77.0  95.0\n",
            "7    55.0  66.0  56.0\n",
            "3    71.0  50.0  85.0\n",
            "0    90.0  69.0  33.0\n",
            "5    60.0  69.0  90.0\n"
          ]
        }
      ],
      "source": [
        "df = df_orig\n",
        "x_shuffle = df.sample(frac = 1, random_state = 0) # frac = 1 mean used all data\n",
        "print(x_shuffle)"
      ]
    },
    {
      "cell_type": "code",
      "execution_count": null,
      "id": "6bc15a82",
      "metadata": {
        "id": "6bc15a82",
        "outputId": "5992d560-c6a6-4147-9acf-9a50d0569c54"
      },
      "outputs": [
        {
          "name": "stdout",
          "output_type": "stream",
          "text": [
            "6 8\n"
          ]
        }
      ],
      "source": [
        "train_end = int(len(x_shuffle) * 0.6)\n",
        "dev_end = int(len(x_shuffle) * 0.8)\n",
        "print(train_end, dev_end)"
      ]
    },
    {
      "cell_type": "code",
      "execution_count": null,
      "id": "0173b1f0",
      "metadata": {
        "id": "0173b1f0",
        "outputId": "42f486fc-f096-4cca-8180-a5196687a50a"
      },
      "outputs": [
        {
          "name": "stdout",
          "output_type": "stream",
          "text": [
            "(6, 3) (2, 3) (2, 3)\n"
          ]
        }
      ],
      "source": [
        "x_train = x_shuffle.iloc[:train_end, :]\n",
        "x_dev = x_shuffle.iloc[train_end:dev_end, :]\n",
        "x_test = x_shuffle.iloc[dev_end:, :]\n",
        "print(x_train.shape, x_dev.shape, x_test.shape)"
      ]
    },
    {
      "cell_type": "code",
      "execution_count": null,
      "id": "88958c9f",
      "metadata": {
        "id": "88958c9f",
        "outputId": "a63cec91-c413-4283-cdcd-76b12d0a8d18"
      },
      "outputs": [
        {
          "name": "stdout",
          "output_type": "stream",
          "text": [
            "   Python  Java   PHP\n",
            "7    55.0  66.0  56.0\n",
            "3    71.0  50.0  85.0\n"
          ]
        }
      ],
      "source": [
        "print(x_dev)"
      ]
    },
    {
      "cell_type": "markdown",
      "id": "c54ea162",
      "metadata": {
        "id": "c54ea162"
      },
      "source": [
        "## train_test_split()"
      ]
    },
    {
      "cell_type": "code",
      "execution_count": null,
      "id": "02d429b1",
      "metadata": {
        "id": "02d429b1"
      },
      "outputs": [],
      "source": [
        "from sklearn.model_selection import train_test_split"
      ]
    },
    {
      "cell_type": "code",
      "execution_count": null,
      "id": "3da567d7",
      "metadata": {
        "id": "3da567d7",
        "outputId": "bb42f92d-ae4f-46d0-8f44-d0946a0b265a"
      },
      "outputs": [
        {
          "name": "stdout",
          "output_type": "stream",
          "text": [
            "(8, 3) (2, 3)\n"
          ]
        }
      ],
      "source": [
        "x_new, x_test2 = train_test_split(df, test_size = 0.2, random_state = 0)\n",
        "print(x_new.shape, x_test2.shape)"
      ]
    },
    {
      "cell_type": "code",
      "execution_count": null,
      "id": "5ba4e787",
      "metadata": {
        "id": "5ba4e787",
        "outputId": "3c491ba3-4963-4974-bbfd-26e1078542d0"
      },
      "outputs": [
        {
          "name": "stdout",
          "output_type": "stream",
          "text": [
            "   Python  Java   PHP\n",
            "9    88.0  89.0  73.0\n",
            "5    60.0  69.0  90.0\n",
            "6    71.0  77.0  95.0\n",
            "4    80.0  40.0  82.0\n",
            "3    71.0  50.0  85.0\n",
            "7    55.0  66.0  56.0\n"
          ]
        }
      ],
      "source": [
        "x_train2, x_dev2 = train_test_split(x_new, test_size = 0.25, random_state = 0)\n",
        "print(x_train2)"
      ]
    },
    {
      "cell_type": "markdown",
      "id": "90578613",
      "metadata": {
        "id": "90578613"
      },
      "source": [
        "# Exercises\n",
        "Predict the release year of a song"
      ]
    },
    {
      "cell_type": "code",
      "execution_count": null,
      "id": "15744d4c",
      "metadata": {
        "id": "15744d4c",
        "outputId": "cb189057-5f4f-4531-f09e-20370e55b32a"
      },
      "outputs": [
        {
          "data": {
            "text/plain": [
              "<torch._C.Generator at 0x200009bfe70>"
            ]
          },
          "execution_count": 1,
          "metadata": {},
          "output_type": "execute_result"
        }
      ],
      "source": [
        "import pandas as pd\n",
        "from sklearn.model_selection import train_test_split\n",
        "import torch\n",
        "import torch.nn as nn\n",
        "\n",
        "torch.manual_seed(0)"
      ]
    },
    {
      "cell_type": "code",
      "execution_count": null,
      "id": "574f8c1f",
      "metadata": {
        "id": "574f8c1f",
        "outputId": "0829699d-241e-4fbd-ab82-6cb09f9594a2"
      },
      "outputs": [
        {
          "name": "stdout",
          "output_type": "stream",
          "text": [
            "     0         1         2         3         4         5         6         7   \\\n",
            "0  2001  49.94357  21.47114  73.07750   8.74861 -17.40628 -13.09905 -25.01202   \n",
            "1  2001  48.73215  18.42930  70.32679  12.94636 -10.32437 -24.83777   8.76630   \n",
            "2  2001  50.95714  31.85602  55.81851  13.41693  -6.57898 -18.54940  -3.27872   \n",
            "3  2001  48.24750  -1.89837  36.29772   2.58776   0.97170 -26.21683   5.05097   \n",
            "4  2001  50.97020  42.20998  67.09964   8.46791 -15.85279 -16.81409 -12.48207   \n",
            "\n",
            "         8         9   ...        81         82        83        84        85  \\\n",
            "0 -12.23257   7.83089  ...  13.01620  -54.40548  58.99367  15.37344   1.11144   \n",
            "1  -0.92019  18.76548  ...   5.66812  -19.68073  33.04964  42.87836  -9.90378   \n",
            "2  -2.35035  16.07017  ...   3.03800   26.05866 -50.92779  10.93792  -0.07568   \n",
            "3 -10.34124   3.55005  ...  34.57337 -171.70734 -16.96705 -46.67617 -12.51516   \n",
            "4  -9.37636  12.63699  ...   9.92661  -55.95724  64.92712 -17.72522  -1.49237   \n",
            "\n",
            "         86         87        88         89        90  \n",
            "0 -23.08793   68.40795  -1.82223  -27.46348   2.26327  \n",
            "1 -32.22788   70.49388  12.04941   58.43453  26.92061  \n",
            "2  43.20130 -115.00698  -0.05859   39.67068  -0.66345  \n",
            "3  82.58061  -72.08993   9.90558  199.62971  18.85382  \n",
            "4  -7.50035   51.76631   7.88713   55.66926  28.74903  \n",
            "\n",
            "[5 rows x 91 columns]\n",
            "(50000, 91)\n"
          ]
        }
      ],
      "source": [
        "data=pd.read_csv('data/YearPredictionMSD.csv',nrows=50000,header=None)\n",
        "print(data.head())\n",
        "print(data.shape)"
      ]
    },
    {
      "cell_type": "code",
      "execution_count": null,
      "id": "106ffa1c",
      "metadata": {
        "id": "106ffa1c",
        "outputId": "7f1488a4-2dcf-4129-d8b9-a4266c914105"
      },
      "outputs": [
        {
          "name": "stdout",
          "output_type": "stream",
          "text": [
            "[]\n"
          ]
        }
      ],
      "source": [
        "cols=data.columns # numbers of columns of data\n",
        "num_cols=data._get_numeric_data().columns # numbers of columns of numeric data\n",
        "print(list(set(cols)-set(num_cols)))"
      ]
    },
    {
      "cell_type": "code",
      "execution_count": null,
      "id": "78d81c53",
      "metadata": {
        "id": "78d81c53",
        "outputId": "eb1880e6-dfb0-445b-f52d-24ca560c2e23"
      },
      "outputs": [
        {
          "name": "stdout",
          "output_type": "stream",
          "text": [
            "0\n"
          ]
        }
      ],
      "source": [
        "print(data.isnull().sum().sum()) # check NaN"
      ]
    },
    {
      "cell_type": "code",
      "execution_count": null,
      "id": "4cc01eeb",
      "metadata": {
        "id": "4cc01eeb",
        "outputId": "629f715b-6695-49fa-fcc5-47cdd8c2a40e"
      },
      "outputs": [
        {
          "name": "stdout",
          "output_type": "stream",
          "text": [
            "[]\n"
          ]
        }
      ],
      "source": [
        "outliers=[]\n",
        "for i in range(data.shape[1]):    \n",
        "    min_t=data[data.columns[i]].mean()-(3*data[data.columns[i]].std())\n",
        "    max_t=data[data.columns[i]].mean()+(3*data[data.columns[i]].std())\n",
        "    count=0\n",
        "    for j in data[data.columns[i]]:\n",
        "        if j<min_t or j>max_t:\n",
        "            count += 1\n",
        "    percentage=count/data.shape[0]\n",
        "    #print(i, percentage)\n",
        "    if percentage > 0.05:\n",
        "        outliers.append(i)    \n",
        "\n",
        "print(outliers)"
      ]
    },
    {
      "cell_type": "code",
      "execution_count": null,
      "id": "7e460896",
      "metadata": {
        "id": "7e460896",
        "outputId": "099bc81a-a8c7-46db-adea-5ef9c51c24ab"
      },
      "outputs": [
        {
          "name": "stdout",
          "output_type": "stream",
          "text": [
            "         1         2         3         4         5         6         7   \\\n",
            "0  1.082657  0.382437  1.841985  0.459652 -0.480074 -0.282606 -1.590785   \n",
            "1  0.880874  0.321953  1.763666  0.717085 -0.165507 -1.188896  0.777905   \n",
            "2  1.251484  0.588929  1.350579  0.745944  0.000857 -0.703401 -0.066747   \n",
            "3  0.800148 -0.082240  0.794774  0.081829  0.336246 -1.295366  0.517369   \n",
            "4  1.253660  0.794806  1.671781  0.442438 -0.411071 -0.569426 -0.712128   \n",
            "\n",
            "         8         9         10  ...        81        82        83        84  \\\n",
            "0 -1.300854  0.378336 -0.683719  ... -0.086005  0.099339  0.148291 -0.255625   \n",
            "1  0.122576  1.420531  0.401198  ... -0.316635  0.301448 -0.063611  0.031855   \n",
            "2 -0.057380  1.163637 -0.090081  ... -0.399185  0.567666 -0.749508 -0.301984   \n",
            "3 -1.062869 -0.029679 -1.282306  ...  0.590596 -0.583396 -0.472129 -0.904164   \n",
            "4 -0.941459  0.836414 -0.160630  ... -0.182976  0.090307  0.196753 -0.601570   \n",
            "\n",
            "         85        86        87        88        89        90  \n",
            "0  0.040944 -0.362616  0.524542 -0.467668 -0.247579  0.036872  \n",
            "1 -0.655124 -0.443921  0.536517  0.573191  0.209887  1.155171  \n",
            "2 -0.034072  0.227059 -0.528413 -0.335333  0.109957 -0.095865  \n",
            "3 -0.820141  0.577357 -0.282033  0.412329  0.961849  0.789313  \n",
            "4 -0.123595 -0.223957  0.429005  0.260874  0.195160  1.238096  \n",
            "\n",
            "[5 rows x 90 columns]\n"
          ]
        }
      ],
      "source": [
        "x=data.iloc[:,1:]\n",
        "y=data.iloc[:,0]\n",
        "x=(x-x.mean())/x.std() # Starnardization\n",
        "print(x.head())"
      ]
    },
    {
      "cell_type": "code",
      "execution_count": null,
      "id": "528956ff",
      "metadata": {
        "id": "528956ff",
        "outputId": "0fd503a1-0c8b-4254-a3dd-3ee00675aff3"
      },
      "outputs": [
        {
          "name": "stdout",
          "output_type": "stream",
          "text": [
            "(30000, 90) (10000, 90) (10000, 90)\n"
          ]
        }
      ],
      "source": [
        "# split to two sets，x_new : x_test = 80:20\n",
        "x_new, x_test, y_new, y_test=train_test_split(x, y, test_size=0.2, random_state=0)\n",
        "\n",
        "# split to two sets again, x_train : x_dev = 75:25\n",
        "x_train, x_dev, y_train, y_dev=train_test_split(x_new, y_new, test_size=0.25, random_state=0)\n",
        "\n",
        "print(x_train.shape, x_dev.shape, x_test.shape)"
      ]
    },
    {
      "cell_type": "code",
      "execution_count": null,
      "id": "f1952476",
      "metadata": {
        "id": "f1952476",
        "outputId": "ddada4e5-abc3-441a-dbad-a679b91ae959"
      },
      "outputs": [
        {
          "name": "stdout",
          "output_type": "stream",
          "text": [
            "torch.Size([30000, 90]) torch.Size([30000, 1])\n"
          ]
        }
      ],
      "source": [
        "x_train_torch=torch.tensor(x_train.values).float()\n",
        "y_train_torch=torch.tensor(y_train.values).float().unsqueeze(1)\n",
        "x_dev_torch=torch.tensor(x_dev.values).float()\n",
        "y_dev_torch=torch.tensor(y_dev.values).float().unsqueeze(1)\n",
        "x_test_torch=torch.tensor(x_test.values).float()\n",
        "y_test_torch=torch.tensor(y_test.values).float().unsqueeze(1)\n",
        "\n",
        "print(x_train_torch.shape, y_train_torch.shape)\n"
      ]
    },
    {
      "cell_type": "code",
      "execution_count": null,
      "id": "78c31a26",
      "metadata": {
        "id": "78c31a26"
      },
      "outputs": [],
      "source": [
        "model=nn.Sequential(\n",
        "    nn.Linear(x_train.shape[1],200),\n",
        "    nn.ReLU(),\n",
        "    nn.Linear(200,50),\n",
        "    nn.ReLU(),    \n",
        "    nn.Linear(50,1)\n",
        ")"
      ]
    },
    {
      "cell_type": "code",
      "execution_count": null,
      "id": "ce356738",
      "metadata": {
        "id": "ce356738"
      },
      "outputs": [],
      "source": [
        "device=\"cuda\"\n",
        "model=model.to(device)\n",
        "x_train_torch=x_train_torch.to(device)\n",
        "y_train_torch=y_train_torch.to(device)\n",
        "x_dev_torch=x_dev_torch.to(device)\n",
        "y_dev_torch=y_dev_torch.to(device)"
      ]
    },
    {
      "cell_type": "code",
      "execution_count": null,
      "id": "96badead",
      "metadata": {
        "id": "96badead"
      },
      "outputs": [],
      "source": [
        "myloss=torch.nn.MSELoss()\n",
        "optimizer=torch.optim.Adam(model.parameters(),lr=0.01)"
      ]
    },
    {
      "cell_type": "code",
      "execution_count": null,
      "id": "62959143",
      "metadata": {
        "id": "62959143",
        "outputId": "c19de2f7-8689-422f-e5d0-d10ca549d948"
      },
      "outputs": [
        {
          "name": "stdout",
          "output_type": "stream",
          "text": [
            "epoch=0,  train_loss:3994187.250,valid_loss:3991035.500\n",
            "epoch=400,  train_loss:8711.881,valid_loss:12555.356\n",
            "epoch=800,  train_loss:279.475,valid_loss:782.625\n",
            "epoch=1200,  train_loss:113.952,valid_loss:384.486\n",
            "epoch=1600,  train_loss:90.559,valid_loss:293.810\n",
            "epoch=2000,  train_loss:83.806,valid_loss:259.099\n",
            "epoch=2400,  train_loss:94.531,valid_loss:247.058\n",
            "epoch=2800,  train_loss:84.640,valid_loss:238.893\n",
            "epoch=3200,  train_loss:90.362,valid_loss:266.793\n",
            "epoch=3600,  train_loss:96.531,valid_loss:232.401\n",
            "epoch=4000,  train_loss:80.850,valid_loss:236.639\n"
          ]
        }
      ],
      "source": [
        "epochs=5001\n",
        "for epoch in range(epochs):\n",
        "    model.train()\n",
        "    y_pred=model(x_train_torch)      \n",
        "    train_loss=myloss(y_pred,y_train_torch)\n",
        "    optimizer.zero_grad()\n",
        "    train_loss.backward()\n",
        "    optimizer.step()   \n",
        "    \n",
        "    if (epoch%400==0):        \n",
        "        with torch.no_grad():\n",
        "            model.eval()\n",
        "            y_pred2=model(x_dev_torch)            \n",
        "            valid_loss=myloss(y_pred2,y_dev_torch)\n",
        "            \n",
        "        print(f\"epoch={epoch},  train_loss:{train_loss.item():.3f},valid_loss:{valid_loss.item():.3f}\")\n",
        "        \n",
        "        if train_loss.item() < 81:\n",
        "            break\n"
      ]
    },
    {
      "cell_type": "code",
      "execution_count": null,
      "id": "59face5c",
      "metadata": {
        "id": "59face5c",
        "outputId": "d2b0bbe1-6712-4c37-d9cf-47c5965ba69d"
      },
      "outputs": [
        {
          "name": "stdout",
          "output_type": "stream",
          "text": [
            "test_loss: 356.272\n"
          ]
        }
      ],
      "source": [
        "model=model.to(\"cpu\")\n",
        "pred=model(x_test_torch)\n",
        "test_loss=myloss(pred,y_test_torch)\n",
        "print(f\"test_loss: {test_loss.item():.3f}\")"
      ]
    },
    {
      "cell_type": "code",
      "execution_count": null,
      "id": "08fd17c4",
      "metadata": {
        "id": "08fd17c4",
        "outputId": "3592373c-5eaa-4f00-b38f-d73d72eb1fe2"
      },
      "outputs": [
        {
          "name": "stdout",
          "output_type": "stream",
          "text": [
            "truth:2006, pred:2011\n",
            "truth:2003, pred:1998\n",
            "truth:2002, pred:2001\n",
            "truth:2005, pred:2100\n",
            "truth:2007, pred:2001\n",
            "truth:2008, pred:1999\n",
            "truth:2001, pred:2004\n",
            "truth:2006, pred:2004\n",
            "truth:2008, pred:2006\n",
            "truth:1966, pred:1988\n"
          ]
        }
      ],
      "source": [
        "for i in range(100,110):\n",
        "    print(f\"truth:{y_test_torch[i].item():.0f}, pred:{pred[i].item():.0f}\")"
      ]
    },
    {
      "cell_type": "code",
      "execution_count": null,
      "id": "ed4f38e7",
      "metadata": {
        "id": "ed4f38e7"
      },
      "outputs": [],
      "source": []
    }
  ],
  "metadata": {
    "kernelspec": {
      "display_name": "Python 3 (ipykernel)",
      "language": "python",
      "name": "python3"
    },
    "language_info": {
      "codemirror_mode": {
        "name": "ipython",
        "version": 3
      },
      "file_extension": ".py",
      "mimetype": "text/x-python",
      "name": "python",
      "nbconvert_exporter": "python",
      "pygments_lexer": "ipython3",
      "version": "3.9.15"
    },
    "colab": {
      "provenance": [],
      "include_colab_link": true
    }
  },
  "nbformat": 4,
  "nbformat_minor": 5
}