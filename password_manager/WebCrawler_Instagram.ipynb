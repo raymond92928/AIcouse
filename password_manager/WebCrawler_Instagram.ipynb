{
 "cells": [
  {
   "cell_type": "markdown",
   "id": "d8a32e0b",
   "metadata": {},
   "source": [
    "Manage your password"
   ]
  },
  {
   "cell_type": "code",
   "execution_count": null,
   "id": "929cdb6b",
   "metadata": {},
   "outputs": [],
   "source": [
    "import password_manager as pm"
   ]
  },
  {
   "cell_type": "code",
   "execution_count": null,
   "id": "eedca0ae",
   "metadata": {},
   "outputs": [],
   "source": [
    "pm.main()"
   ]
  },
  {
   "cell_type": "code",
   "execution_count": null,
   "id": "ec91b197",
   "metadata": {},
   "outputs": [],
   "source": [
    "def load_ig_key():\n",
    "    a = pm.PasswordManager()\n",
    "    a.load_key()\n",
    "    a.load_password_file()\n",
    "    key = a.get_password('instagram')\n",
    "    return key"
   ]
  },
  {
   "cell_type": "code",
   "execution_count": null,
   "id": "0b3190cc",
   "metadata": {},
   "outputs": [],
   "source": [
    "load_ig_key()"
   ]
  },
  {
   "cell_type": "markdown",
   "id": "80008f4c",
   "metadata": {},
   "source": [
    "Download selenium by \"conda install selenium\"\n",
    "\n",
    "Download chromedriver, noted that the version must be the same as you google chrome"
   ]
  },
  {
   "cell_type": "code",
   "execution_count": null,
   "id": "5615ac75",
   "metadata": {},
   "outputs": [],
   "source": [
    "# selenium library\n",
    "import time\n",
    "from selenium import webdriver\n",
    "from selenium.webdriver.common.by import By\n",
    "from selenium.webdriver.support.ui import WebDriverWait\n",
    "from selenium.webdriver.support import expected_conditions as EC\n",
    "from selenium.webdriver.common.keys import Keys\n",
    "import os\n",
    "import wget\n",
    "\n",
    "my_username = \"your_id\"\n",
    "my_password = load_ig_key()\n"
   ]
  },
  {
   "cell_type": "markdown",
   "id": "2cad1823",
   "metadata": {},
   "source": [
    "Open the website"
   ]
  },
  {
   "cell_type": "code",
   "execution_count": null,
   "id": "d0b13724",
   "metadata": {},
   "outputs": [],
   "source": []
  },
  {
   "cell_type": "markdown",
   "id": "c8ebaff1",
   "metadata": {},
   "source": [
    "Find the username and password by NAME"
   ]
  },
  {
   "cell_type": "code",
   "execution_count": null,
   "id": "96d59067",
   "metadata": {},
   "outputs": [],
   "source": []
  },
  {
   "cell_type": "markdown",
   "id": "db218551",
   "metadata": {},
   "source": [
    "Find the Search bar by class name"
   ]
  },
  {
   "cell_type": "code",
   "execution_count": null,
   "id": "50e4935c",
   "metadata": {},
   "outputs": [],
   "source": []
  },
  {
   "cell_type": "code",
   "execution_count": null,
   "id": "f9e2ceae",
   "metadata": {},
   "outputs": [],
   "source": []
  },
  {
   "cell_type": "markdown",
   "id": "4c8541a9",
   "metadata": {},
   "source": [
    "Wait the image is loaded and scroll down twice to load more image"
   ]
  },
  {
   "cell_type": "code",
   "execution_count": null,
   "id": "b6200237",
   "metadata": {},
   "outputs": [],
   "source": []
  },
  {
   "cell_type": "markdown",
   "id": "eb5c05ce",
   "metadata": {},
   "source": [
    "Create a folder named <b>keyword</b>"
   ]
  },
  {
   "cell_type": "code",
   "execution_count": null,
   "id": "44357781",
   "metadata": {},
   "outputs": [],
   "source": []
  },
  {
   "cell_type": "markdown",
   "id": "082dfc14",
   "metadata": {},
   "source": [
    "Download the images one by one"
   ]
  },
  {
   "cell_type": "code",
   "execution_count": null,
   "id": "7c48b125",
   "metadata": {},
   "outputs": [],
   "source": []
  },
  {
   "cell_type": "markdown",
   "id": "438aa203",
   "metadata": {},
   "source": [
    "close the driver at the end"
   ]
  },
  {
   "cell_type": "code",
   "execution_count": null,
   "id": "00610ac1",
   "metadata": {},
   "outputs": [],
   "source": [
    "driver.quit()"
   ]
  },
  {
   "cell_type": "code",
   "execution_count": null,
   "id": "5af154bf",
   "metadata": {},
   "outputs": [],
   "source": []
  }
 ],
 "metadata": {
  "kernelspec": {
   "display_name": "Python 3 (ipykernel)",
   "language": "python",
   "name": "python3"
  },
  "language_info": {
   "codemirror_mode": {
    "name": "ipython",
    "version": 3
   },
   "file_extension": ".py",
   "mimetype": "text/x-python",
   "name": "python",
   "nbconvert_exporter": "python",
   "pygments_lexer": "ipython3",
   "version": "3.9.15"
  }
 },
 "nbformat": 4,
 "nbformat_minor": 5
}
