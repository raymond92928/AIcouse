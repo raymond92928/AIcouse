{
 "cells": [
  {
   "cell_type": "code",
   "execution_count": 1,
   "id": "e548539a",
   "metadata": {},
   "outputs": [],
   "source": [
    "import docx"
   ]
  },
  {
   "cell_type": "code",
   "execution_count": 2,
   "id": "00063d5f",
   "metadata": {},
   "outputs": [],
   "source": [
    "doc = docx.Document()\n",
    "doc.save(\"word文件.docx\")"
   ]
  },
  {
   "cell_type": "code",
   "execution_count": 3,
   "id": "5b4d6597",
   "metadata": {},
   "outputs": [],
   "source": [
    "doc = docx.Document(\"word文件.docx\")\n",
    "doc.add_heading(\"Python程式設計\", level=1)\n",
    "doc.add_heading(\"生活應用實務\", level=2)\n",
    "doc.save(\"word文件1.docx\")"
   ]
  },
  {
   "cell_type": "code",
   "execution_count": 4,
   "id": "471a9431",
   "metadata": {},
   "outputs": [],
   "source": [
    "doc = docx.Document(\"word文件1.docx\")\n",
    "para = doc.paragraphs[1]\n",
    "para.insert_paragraph_before(\"Python是一種直譯語言。\")\n",
    "para1 = doc.add_paragraph(\"Python程式是使用直譯器一行一行轉換成機器語言後，馬上執行程式碼。\")\n",
    "para1.add_run(\"WinPython\")\n",
    "para1.add_run(\", \")\n",
    "para1.add_run(\"Anaconda\")\n",
    "doc.save(\"word文件2.docx\")"
   ]
  },
  {
   "cell_type": "code",
   "execution_count": 8,
   "id": "53d1d761",
   "metadata": {},
   "outputs": [],
   "source": [
    "doc = docx.Document(\"word文件2.docx\")\n",
    "records = (\n",
    "    ('王小明', '853-12345678', 78),\n",
    "    ('陳小安', '853-23456789', 67),\n",
    "    ('李四', '853-34567890', 82) )\n",
    "table = doc.add_table(rows=1, cols=3)\n",
    "row = table.rows[0]\n",
    "row.cells[0].text = '姓名' \n",
    "row.cells[1].text = '電話'\n",
    "row.cells[2].text = '成績'\n",
    "for name, tel, score in records:\n",
    "    row_cells = table.add_row().cells\n",
    "    row_cells[0].text = name\n",
    "    row_cells[1].text = tel\n",
    "    row_cells[2].text = str(score)\n",
    "doc.save(\"word文件3.docx\")"
   ]
  },
  {
   "cell_type": "code",
   "execution_count": 11,
   "id": "bf810db8",
   "metadata": {},
   "outputs": [],
   "source": [
    "from docx.shared import Cm\n",
    "\n",
    "doc = docx.Document(\"word文件3.docx\")\n",
    "doc.add_picture(\"math.jpg\", width=Cm(6))\n",
    "doc.save(\"word文件4.docx\")"
   ]
  },
  {
   "cell_type": "code",
   "execution_count": 12,
   "id": "ce7bbc6b",
   "metadata": {},
   "outputs": [],
   "source": [
    "doc = docx.Document(\"word文件4.docx\")\n",
    "doc.add_page_break()\n",
    "doc.save(\"word文件5.docx\")"
   ]
  },
  {
   "cell_type": "code",
   "execution_count": 13,
   "id": "af6e0cba",
   "metadata": {},
   "outputs": [
    {
     "name": "stdout",
     "output_type": "stream",
     "text": [
      "段落數:  4\n"
     ]
    }
   ],
   "source": [
    "doc = docx.Document(\"Python開發環境.docx\")\n",
    "para = doc.paragraphs[1]\n",
    "para2 = doc.paragraphs[3]\n",
    "para.insert_paragraph_before(\"Python是一種直譯語言。\", style=\"Heading 3\")\n",
    "doc.add_paragraph(\"Python程式是使用直譯器執行程式碼。\", style=\"Subtitle\")\n",
    "para2.style = \"Quote\"\n",
    "doc.save(\"word文件6.docx\") "
   ]
  },
  {
   "cell_type": "code",
   "execution_count": 14,
   "id": "e73c8c7e",
   "metadata": {},
   "outputs": [
    {
     "name": "stdout",
     "output_type": "stream",
     "text": [
      "段落數:  6\n"
     ]
    }
   ],
   "source": [
    "doc = docx.Document(\"word文件6.docx\")\n",
    "print(\"段落數: \", len(doc.paragraphs))\n",
    "para2 = doc.paragraphs[1]\n",
    "para3 = doc.paragraphs[2]\n",
    "run = para2.add_run(\"-第一版\")\n",
    "run.bold = True\n",
    "para3.runs[0].italic = True\n",
    "doc.save(\"word文件7.docx\") "
   ]
  },
  {
   "cell_type": "code",
   "execution_count": 25,
   "id": "1685e49d",
   "metadata": {
    "scrolled": true
   },
   "outputs": [
    {
     "name": "stdout",
     "output_type": "stream",
     "text": [
      "Spyder\n",
      "是開放原始碼跨平台的\n",
      "Python\n",
      "整合開發環境（\n",
      "IDE\n",
      "），一套功能強大的互動開發環境，支援程式碼編輯、\n",
      "互動測試、偵錯、執行\n",
      "Python\n",
      "程式。\n"
     ]
    }
   ],
   "source": [
    "for i in para3.runs:\n",
    "    print(i.text)"
   ]
  },
  {
   "cell_type": "code",
   "execution_count": null,
   "id": "e40d3018",
   "metadata": {},
   "outputs": [],
   "source": []
  }
 ],
 "metadata": {
  "kernelspec": {
   "display_name": "Python 3 (ipykernel)",
   "language": "python",
   "name": "python3"
  },
  "language_info": {
   "codemirror_mode": {
    "name": "ipython",
    "version": 3
   },
   "file_extension": ".py",
   "mimetype": "text/x-python",
   "name": "python",
   "nbconvert_exporter": "python",
   "pygments_lexer": "ipython3",
   "version": "3.9.12"
  }
 },
 "nbformat": 4,
 "nbformat_minor": 5
}
