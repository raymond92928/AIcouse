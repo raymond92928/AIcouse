{
 "cells": [
  {
   "cell_type": "code",
   "execution_count": null,
   "id": "08c28c72",
   "metadata": {},
   "outputs": [],
   "source": [
    "import cv2\n",
    "# import numpy as np\n",
    "import os\n",
    "from PIL import Image\n",
    "import numpy as np"
   ]
  },
  {
   "cell_type": "code",
   "execution_count": null,
   "id": "9e24d127",
   "metadata": {},
   "outputs": [],
   "source": [
    "def train_face_recognizer():\n",
    "    # path = os.path.dirname(os.path.abspath(__file__)) \n",
    "    path = os.path.dirname(os.path.abspath(os.getcwd()))\n",
    "    \n",
    "    # Create the trainer folder if it does not exist\n",
    "    if not os.path.exists(path + \"/trainer\"):\n",
    "        os.makedirs(path + \"/trainer\")\n",
    "\n",
    "    # Create Local Binary Patterns Histograms for face recognization\n",
    "    recognizer = cv2.face.LBPHFaceRecognizer_create()\n",
    "\n",
    "    # Using prebuilt frontal face training model, for face detection\n",
    "    face_cascade = cv2.CascadeClassifier(cv2.data.haarcascades + \"haarcascade_frontalface_default.xml\")\n",
    "\n",
    "    # Create method to get the images and label data\n",
    "    def getImagesAndLabels(path):\n",
    "\n",
    "        # Get all file path\n",
    "        imagePaths = [os.path.join(path,f) for f in os.listdir(path)] \n",
    "        \n",
    "        # Initialize empty face sample\n",
    "        faceSamples=[]\n",
    "        \n",
    "        # Initialize empty id\n",
    "        ids = []\n",
    "\n",
    "        count = 0\n",
    "        numOfImages = len(imagePaths) + 1\n",
    "        # Loop all the file path\n",
    "        for imagePath in imagePaths:\n",
    "            count += 1\n",
    "\n",
    "            # Get the image and convert it to grayscale\n",
    "            PIL_img = Image.open(imagePath).convert('L')\n",
    "\n",
    "            # PIL image to numpy array\n",
    "            img_numpy = np.array(PIL_img,'uint8')\n",
    "\n",
    "            # Get the image id\n",
    "            id = int(os.path.split(imagePath)[-1].split(\".\")[1])\n",
    "            print(\"id:\", id, \"|\\t\", \"progress:\", round(count*100/numOfImages,2), \"%\")\n",
    "\n",
    "            # Get the face from the training images\n",
    "            faces = face_cascade.detectMultiScale(img_numpy)\n",
    "\n",
    "            # Loop for each face, append to their respective ID\n",
    "            for (x,y,w,h) in faces:\n",
    "\n",
    "                # Add the image to face samples\n",
    "                faceSamples.append(img_numpy[y:y+h,x:x+w])\n",
    "\n",
    "                # Add the ID to IDs\n",
    "                ids.append(id)\n",
    "\n",
    "        # Pass the face array and IDs array\n",
    "        return faceSamples,ids\n",
    "\n",
    "\n",
    "    # Get the faces and IDs\n",
    "    faces,ids = getImagesAndLabels(path+ '/dataset')\n",
    "\n",
    "    # Train the model using the faces and IDs\n",
    "    recognizer.train(faces, np.array(ids))\n",
    "\n",
    "    # Save the model into trainer.yml\n",
    "    recognizer.save(path + '/trainer/trainer.data')\n",
    "\n",
    "    print(\"progress: 100 %\")"
   ]
  },
  {
   "cell_type": "code",
   "execution_count": null,
   "id": "cf42b7a7",
   "metadata": {},
   "outputs": [],
   "source": [
    "train_face_recognizer()"
   ]
  },
  {
   "cell_type": "code",
   "execution_count": null,
   "id": "c4fcf34e",
   "metadata": {},
   "outputs": [],
   "source": []
  }
 ],
 "metadata": {
  "kernelspec": {
   "display_name": "Python 3 (ipykernel)",
   "language": "python",
   "name": "python3"
  },
  "language_info": {
   "codemirror_mode": {
    "name": "ipython",
    "version": 3
   },
   "file_extension": ".py",
   "mimetype": "text/x-python",
   "name": "python",
   "nbconvert_exporter": "python",
   "pygments_lexer": "ipython3",
   "version": "3.9.12"
  }
 },
 "nbformat": 4,
 "nbformat_minor": 5
}
