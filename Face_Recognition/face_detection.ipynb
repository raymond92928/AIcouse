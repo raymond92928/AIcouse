{
 "cells": [
  {
   "cell_type": "code",
   "execution_count": null,
   "id": "d2ae13ba",
   "metadata": {},
   "outputs": [],
   "source": [
    "import cv2"
   ]
  },
  {
   "cell_type": "markdown",
   "id": "38996e4a",
   "metadata": {},
   "source": [
    "# Cap a photo"
   ]
  },
  {
   "cell_type": "code",
   "execution_count": null,
   "id": "1f4fb650",
   "metadata": {},
   "outputs": [],
   "source": [
    "ESC = 27\n",
    "cap = cv2.VideoCapture(0)\n",
    "ratio = cap.get(cv2.CAP_PROP_FRAME_WIDTH) / cap.get(cv2.CAP_PROP_FRAME_HEIGHT)\n",
    "WIDTH = 600\n",
    "HEIGHT = int(WIDTH / ratio)\n",
    "\n",
    "cv2.namedWindow(\"frame\", cv2.WINDOW_AUTOSIZE)\n",
    "\n",
    "ret = True\n",
    "while ret:\n",
    "    ret, frame = cap.read()\n",
    "    frame = cv2.resize(frame, (WIDTH, HEIGHT))\n",
    "    frame = cv2.flip(frame, 1)\n",
    "    cv2.imshow(\"frame\", frame)\n",
    "    \n",
    "    if cv2.waitKey(1) == ESC:\n",
    "        break\n",
    "        \n",
    "cv2.destroyAllWindows()\n",
    "cap.release()\n",
    "cv2.imwrite(\"image.png\", frame)"
   ]
  },
  {
   "cell_type": "markdown",
   "id": "3baa666c",
   "metadata": {},
   "source": [
    "# Read the .png and check it"
   ]
  },
  {
   "cell_type": "code",
   "execution_count": null,
   "id": "37e037eb",
   "metadata": {},
   "outputs": [],
   "source": [
    "image = cv2.imread(\"image.jpeg\")\n",
    "image_show = image.copy()\n",
    "cv2.imshow(\"image\", image_show)\n",
    "cv2.waitKey(0)\n",
    "cv2.destroyAllWindows()"
   ]
  },
  {
   "cell_type": "markdown",
   "id": "eeb3e086",
   "metadata": {},
   "source": [
    "# Change it to GRAY"
   ]
  },
  {
   "cell_type": "code",
   "execution_count": null,
   "id": "3c7b3425",
   "metadata": {},
   "outputs": [],
   "source": [
    "gray = cv2.cvtColor(image, cv2.COLOR_BGR2GRAY)\n",
    "\n",
    "cv2.imshow(\"gray\", gray)\n",
    "cv2.waitKey(0)\n",
    "cv2.destroyAllWindows()"
   ]
  },
  {
   "cell_type": "markdown",
   "id": "1f07f7ee",
   "metadata": {},
   "source": [
    "Load the haarcascade\n",
    "\n",
    "| haarcascades | explanation |\n",
    "| :-: | :-: |\n",
    "| haarcascade_frontalface_default.xml | detection face  |\n",
    "| haarcascade_frontalface_alt2.xml | good for detection front |\n",
    "| haarcascade_profileface.xml | good for detection profile |\n",
    "| haarcascade_eye.xml | detection eyes |\n",
    "\n",
    "https://github.com/opencv/opencv/tree/master/data/haarcascades"
   ]
  },
  {
   "cell_type": "code",
   "execution_count": null,
   "id": "84f877a1",
   "metadata": {},
   "outputs": [],
   "source": [
    "face_cascade = cv2.CascadeClassifier(cv2.data.haarcascades + \"haarcascade_frontalface_default.xml\")"
   ]
  },
  {
   "cell_type": "code",
   "execution_count": null,
   "id": "b5ada142",
   "metadata": {},
   "outputs": [],
   "source": [
    "face = face_cascade.detectMultiScale(gray, 1.1, 3)"
   ]
  },
  {
   "cell_type": "code",
   "execution_count": null,
   "id": "fa60cbf2",
   "metadata": {},
   "outputs": [],
   "source": [
    "face #top left x, y ,width, height "
   ]
  },
  {
   "cell_type": "markdown",
   "id": "25444d1b",
   "metadata": {},
   "source": [
    "# Draw the rectangle around the face that had been detected"
   ]
  },
  {
   "cell_type": "code",
   "execution_count": null,
   "id": "ef3804a3",
   "metadata": {},
   "outputs": [],
   "source": [
    "for (x, y, w, h) in face:\n",
    "    cv2.rectangle(image_show, (x, y), (x+w, y+h), (0,255,255), 2)\n",
    "\n",
    "cv2.imshow(\"them\", image_show)\n",
    "cv2.waitKey(0)\n",
    "cv2.destroyAllWindows()"
   ]
  },
  {
   "cell_type": "markdown",
   "id": "1ac9f7aa",
   "metadata": {},
   "source": [
    "# Do the same steps to detect the eyes"
   ]
  },
  {
   "cell_type": "code",
   "execution_count": null,
   "id": "fe3bb442",
   "metadata": {},
   "outputs": [],
   "source": [
    "eye_cascade = cv2.CascadeClassifier(cv2.data.haarcascades + \"haarcascade_eye.xml\")"
   ]
  },
  {
   "cell_type": "code",
   "execution_count": null,
   "id": "840a2b79",
   "metadata": {},
   "outputs": [],
   "source": [
    "for (x, y, w, h) in face:\n",
    "    face_rect = gray[y:y+h, x:x+w]\n",
    "    eyes = eye_cascade.detectMultiScale(face_rect, 1.1, 3)\n",
    "    for (ex, ey, ew, eh) in eyes:\n",
    "        center = (x+ex+int(ew/2), y+ey+int(eh/2))\n",
    "        r = int((ew+eh)/4)\n",
    "        cv2.circle(image_show, center, r, (255,255,0), 2)\n",
    "        \n",
    "cv2.imshow(\"them\", image_show)\n",
    "cv2.waitKey(0)\n",
    "cv2.destroyAllWindows()  "
   ]
  },
  {
   "cell_type": "code",
   "execution_count": null,
   "id": "1eb08b6b",
   "metadata": {},
   "outputs": [],
   "source": []
  }
 ],
 "metadata": {
  "kernelspec": {
   "display_name": "Python 3 (ipykernel)",
   "language": "python",
   "name": "python3"
  },
  "language_info": {
   "codemirror_mode": {
    "name": "ipython",
    "version": 3
   },
   "file_extension": ".py",
   "mimetype": "text/x-python",
   "name": "python",
   "nbconvert_exporter": "python",
   "pygments_lexer": "ipython3",
   "version": "3.9.12"
  }
 },
 "nbformat": 4,
 "nbformat_minor": 5
}
