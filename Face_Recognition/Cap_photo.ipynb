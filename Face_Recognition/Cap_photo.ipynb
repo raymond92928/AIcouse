{
 "cells": [
  {
   "cell_type": "code",
   "execution_count": null,
   "id": "0255a1b7",
   "metadata": {},
   "outputs": [],
   "source": [
    "import cv2\n",
    "import os\n",
    "import traceback"
   ]
  },
  {
   "cell_type": "code",
   "execution_count": null,
   "id": "d6bce945",
   "metadata": {},
   "outputs": [],
   "source": [
    "def collect_face_data(face_id, numOfImages):\n",
    "    # path = os.path.dirname(os.path.abspath(__file__))\n",
    "    path = os.path.dirname(os.path.abspath(os.getcwd()))\n",
    "    \n",
    "    # Create the dataset folder if it does not exist\n",
    "    if not os.path.exists(path + \"/dataset\"):\n",
    "        os.makedirs(path + \"/dataset\")\n",
    "    \n",
    "    # Start capturing video \n",
    "    cap = cv2.VideoCapture(0)\n",
    "\n",
    "    # Detect object in video stream using Haarcascade Frontal Face\n",
    "    # face_detector = cv2.CascadeClassifier(path + '/haarcascade_frontalface_default.xml')\n",
    "    face_cascade = cv2.CascadeClassifier(cv2.data.haarcascades + \"haarcascade_frontalface_default.xml\")\n",
    "    \n",
    "    # Initialize sample face image\n",
    "    count = 0\n",
    "\n",
    "    # Start looping\n",
    "    while(True):\n",
    "        try:\n",
    "            # Capture video frame\n",
    "            _, image_frame = cap.read()\n",
    "\n",
    "            # Flip the image vertically\n",
    "            image_frame = cv2.flip(image_frame, 1)\n",
    "\n",
    "            # Convert frame to grayscale\n",
    "            gray = cv2.cvtColor(image_frame, cv2.COLOR_BGR2GRAY)\n",
    "\n",
    "            # Detect frames of different sizes, list of faces rectangles\n",
    "            faces = face_cascade.detectMultiScale(gray, 1.3, 5)\n",
    "\n",
    "            # Loops for each faces\n",
    "            for (x,y,w,h) in faces:\n",
    "\n",
    "                # Crop the image frame into rectangle\n",
    "                cv2.rectangle(image_frame, (x,y), (x+w,y+h), (255,0,0), 2)\n",
    "                \n",
    "                # Increment sample face image\n",
    "                count += 1\n",
    "                print(\"Captured\", count, \"images\")\n",
    "                # Save the captured image into the datasets folder\n",
    "                cv2.imwrite(path + \"/dataset/User.\" + str(face_id) + '.' + str(count) + \".jpg\", gray[y:y+h,x:x+w])\n",
    "                \n",
    "            # Display the video frame, with bounded rectangle on the person's face\n",
    "            cv2.imshow('frame', image_frame)\n",
    "\n",
    "            # To stop taking video, press 'q' for at least 100ms\n",
    "            if cv2.waitKey(1) & 0xFF == ord('q'):\n",
    "                break\n",
    "\n",
    "            # If image taken reach 100, stop taking video\n",
    "            elif count>=numOfImages:\n",
    "                break\n",
    "        except :\n",
    "            print(traceback.format_exc())\n",
    "            break\n",
    "\n",
    "    # Stop video\n",
    "    cap.release()\n",
    "\n",
    "    # Close all started windows\n",
    "    cv2.destroyAllWindows()"
   ]
  },
  {
   "cell_type": "code",
   "execution_count": null,
   "id": "e4a19867",
   "metadata": {},
   "outputs": [],
   "source": [
    "collect_face_data(1, 100)"
   ]
  },
  {
   "cell_type": "code",
   "execution_count": null,
   "id": "787668a2",
   "metadata": {},
   "outputs": [],
   "source": []
  }
 ],
 "metadata": {
  "kernelspec": {
   "display_name": "Python 3 (ipykernel)",
   "language": "python",
   "name": "python3"
  },
  "language_info": {
   "codemirror_mode": {
    "name": "ipython",
    "version": 3
   },
   "file_extension": ".py",
   "mimetype": "text/x-python",
   "name": "python",
   "nbconvert_exporter": "python",
   "pygments_lexer": "ipython3",
   "version": "3.9.12"
  }
 },
 "nbformat": 4,
 "nbformat_minor": 5
}
