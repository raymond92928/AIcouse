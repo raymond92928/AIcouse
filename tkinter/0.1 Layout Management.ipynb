{
 "cells": [
  {
   "cell_type": "code",
   "execution_count": null,
   "id": "5dd5c0d1",
   "metadata": {},
   "outputs": [],
   "source": [
    "import tkinter as tk\n",
    "\n",
    "win = tk.Tk()\n",
    "win.mainloop()"
   ]
  },
  {
   "cell_type": "markdown",
   "id": "be3a22dd",
   "metadata": {},
   "source": [
    "# Pack"
   ]
  },
  {
   "cell_type": "markdown",
   "id": "43dd92f8",
   "metadata": {},
   "source": [
    "## Some common command:\n",
    "\n",
    "1. side: Arrangement direction, \"top\"(default), \"bottom\", \"left\", right\"\n",
    "2. anchor: Position of the element, \"e\"(right), \"w\"(left), \"n\"(top), \"s\"(bottom), \"ne\", \"se\", nw\", sw\", \"center\"(default)\n",
    "3. padx: Set horizontal spacing of elements.\n",
    "4. pady: Set vertical spacing of elements.\n",
    "5. ipadx: Set the horizontal between text and bound.\n",
    "6. ipady: Set the vertical between text and bound.\n",
    "7. fill: Set the element fill or not, \"none\", \"x\", \"y\", \"both\"\n",
    "8. expand: Expand or not"
   ]
  },
  {
   "cell_type": "code",
   "execution_count": 1,
   "id": "b2cf6e6f",
   "metadata": {},
   "outputs": [],
   "source": [
    "import tkinter as tk\n",
    "win = tk.Tk()\n",
    "win.geometry(\"300x200+80+50\")\n",
    "win.configure(bg = \"blue\")\n",
    "lbl1 = tk.Label(win, text = \"label1\")\n",
    "lbl1.pack(side = \"left\", padx = 10)\n",
    "lbl2 = tk.Label(win, text = \"label2\")\n",
    "lbl2.pack(side = \"left\", padx = 10)\n",
    "lbl3 = tk.Label(win, text = \"label3\")\n",
    "lbl3.pack(side = \"left\", padx = 10)\n",
    "win.mainloop()"
   ]
  },
  {
   "cell_type": "code",
   "execution_count": 2,
   "id": "678e082f",
   "metadata": {},
   "outputs": [],
   "source": [
    "import tkinter as tk\n",
    "win = tk.Tk()\n",
    "win.geometry(\"300x200+80+50\")\n",
    "win.configure(bg = \"blue\")\n",
    "lbl1 = tk.Label(win, text = \"label1\")\n",
    "lbl1.pack(side = \"bottom\", pady = 20)\n",
    "lbl2 = tk.Label(win, text = \"label2\")\n",
    "lbl2.pack(side = \"bottom\", pady = 10, fill = \"x\")\n",
    "lbl3 = tk.Label(win, text = \"label3\")\n",
    "lbl3.pack(side = \"bottom\", pady = 20)\n",
    "win.mainloop()"
   ]
  },
  {
   "cell_type": "code",
   "execution_count": null,
   "id": "cc2c9b99",
   "metadata": {},
   "outputs": [],
   "source": []
  },
  {
   "cell_type": "markdown",
   "id": "ca8447c1",
   "metadata": {},
   "source": [
    "# Grid"
   ]
  },
  {
   "cell_type": "markdown",
   "id": "93cb91b2",
   "metadata": {},
   "source": [
    "# Some common command:\n",
    "\n",
    "1. row\n",
    "2. column\n",
    "3. rowspan\n",
    "4. columnspan\n",
    "5. padx\n",
    "6. pady\n",
    "7. sticky: \"e\"(right), \"w\"(left), \"n\"(top), \"s\"(bottom), \"ne\", \"se\", \"nw\", \"sw\", \"ns\", \"we\", \"nsw\", \"nse\", \"wen\", \"wes\", nswe\""
   ]
  },
  {
   "cell_type": "code",
   "execution_count": 4,
   "id": "90548840",
   "metadata": {},
   "outputs": [],
   "source": [
    "import tkinter as tk\n",
    "win = tk.Tk()\n",
    "win.geometry('400x400')\n",
    "win.title('Grid')\n",
    "for i in range(3):\n",
    "    win.rowconfigure(i, weight = 1)\n",
    "    win.columnconfigure(i, weight = 1)\n",
    "lbl1 = tk.Label(win, text = \"North\", font = (\"\", 40))\n",
    "lbl2 = tk.Label(win, text = \"East\", font = (\"\", 40), bg = \"yellow\")\n",
    "lbl3 = tk.Label(win, text = \"West\", font = (\"\", 40), bg = \"lightgreen\")\n",
    "lbl4 = tk.Label(win, text = \"Center\", font = (\"\", 40), bg = \"pink\")\n",
    "lbl5 = tk.Label(win, text = \"South\", font = (\"\", 40), bg = \"lightblue\")\n",
    "\n",
    "# lbl1.grid(row = 0, column = 0, columnspan = 2, sticky = \"we\")\n",
    "# lbl2.grid(row = 0, column = 2, rowspan = 2, sticky = \"ns\")\n",
    "# lbl3.grid(row = 1, column = 0, rowspan = 2, sticky = \"ns\")\n",
    "# lbl4.grid(row = 1, column = 1, sticky = \"nswe\")\n",
    "# lbl5.grid(row = 2, column = 1, columnspan = 2, sticky = \"we\")\n",
    "\n",
    "lbl1.grid(row = 0, column = 0, columnspan = 2, sticky = \"nswe\")\n",
    "lbl2.grid(row = 0, column = 2, rowspan = 2, sticky = \"nswe\")\n",
    "lbl3.grid(row = 1, column = 0, rowspan = 2, sticky = \"nswe\")\n",
    "lbl4.grid(row = 1, column = 1, sticky = \"nswe\")\n",
    "lbl5.grid(row = 2, column = 1, columnspan = 2, sticky = \"nswe\")\n",
    "win.mainloop()\n"
   ]
  },
  {
   "cell_type": "markdown",
   "id": "086a2d74",
   "metadata": {},
   "source": [
    "# Place\n",
    "## Some common command:\n",
    "1. x/y: The x/y-coordinate value of elements. \n",
    "2. width/height: The width, height of the elements.\n",
    "3. relx/rely: The relative position of the elements(Parameter between 0.0~1.0).\n",
    "4. relwidth/relheight: The relative size of the elements(Parameter between 0.0~1.0)."
   ]
  },
  {
   "cell_type": "code",
   "execution_count": 4,
   "id": "378cfee6",
   "metadata": {},
   "outputs": [],
   "source": [
    "import tkinter as tk\n",
    "win = tk.Tk()\n",
    "win.geometry(\"300x200\")\n",
    "win.configure(bg = \"white\")\n",
    "win.title(\"Place\")\n",
    "lbl1 = tk.Label(win, text = \"Raymond\", font = (\"Segoe UI Semibold\", 18), fg = \"white\", bg = \"black\")\n",
    "lbl2 = tk.Label(win, text = \"M\", font = (\"Segoe UI Semibold\", 16), fg = \"blue\", bg = \"lightblue\")\n",
    "lbl3 = tk.Label(win, text = \"180cm\", font = (\"Segoe UI Semibold\", 16), fg = \"green\", bg = \"lightgreen\")\n",
    "msg = \"I am a MathAI teacher at PuiChing, balabalabalabala\"\n",
    "lbl4 = tk.Label(win, text = msg, font = (\"Segoe UI Semibold\", 12), wraplength = 180)\n",
    "\n",
    "lbl1.place(x = 10, y = 5, width = 280, height = 40)\n",
    "lbl2.place(x = 10, y = 50, width = 90, height = 50)\n",
    "lbl3.place(x = 10, y = 105, width = 90, height = 50)\n",
    "lbl4.place(x = 110, y = 50, width = 180, height = 105)\n",
    "win.mainloop()"
   ]
  },
  {
   "cell_type": "code",
   "execution_count": null,
   "id": "0611ff56",
   "metadata": {},
   "outputs": [],
   "source": []
  }
 ],
 "metadata": {
  "kernelspec": {
   "display_name": "Python 3 (ipykernel)",
   "language": "python",
   "name": "python3"
  },
  "language_info": {
   "codemirror_mode": {
    "name": "ipython",
    "version": 3
   },
   "file_extension": ".py",
   "mimetype": "text/x-python",
   "name": "python",
   "nbconvert_exporter": "python",
   "pygments_lexer": "ipython3",
   "version": "3.9.12"
  }
 },
 "nbformat": 4,
 "nbformat_minor": 5
}
