{
 "cells": [
  {
   "cell_type": "markdown",
   "id": "f0b7dd75",
   "metadata": {},
   "source": [
    "Common messagebox styles and layouts include but are not limited to:\n",
    "- askokcancel: return (True, False)\n",
    "- askquestion: return (Yes, No)\n",
    "- askretrycancel: return (True, False)\n",
    "- askyesno: return (True, False)\n",
    "- askyesnocancel: return (True, False, None)\n",
    "- showinfo: return \"ok\"\n",
    "- showerror: return \"ok\"\n",
    "- showwarning: return \"ok\""
   ]
  },
  {
   "cell_type": "code",
   "execution_count": null,
   "id": "7f2f324d",
   "metadata": {},
   "outputs": [],
   "source": [
    "import tkinter as tk\n",
    "import tkinter.messagebox\n",
    "\n",
    "def fnEnd():\n",
    "    res = tk.messagebox.askokcancel(\"Warning\", \"Close the program?\")\n",
    "    if res == True:\n",
    "        window.destroy()\n",
    "        \n",
    "window = tk.Tk()\n",
    "window.geometry(\"400x150\")\n",
    "lblTitle = tk.Label(window, text = \"Press the botton to close the program\", font = (\"\", 16))\n",
    "btnEnd = tk.Button(window, text = \"End\", pady = 5, padx = 10, command = fnEnd)\n",
    "lblTitle.pack(pady = 20)\n",
    "btnEnd.pack(pady=10)\n",
    "window.mainloop()"
   ]
  },
  {
   "cell_type": "code",
   "execution_count": null,
   "id": "e79c76e5",
   "metadata": {},
   "outputs": [],
   "source": []
  }
 ],
 "metadata": {
  "kernelspec": {
   "display_name": "Python 3 (ipykernel)",
   "language": "python",
   "name": "python3"
  },
  "language_info": {
   "codemirror_mode": {
    "name": "ipython",
    "version": 3
   },
   "file_extension": ".py",
   "mimetype": "text/x-python",
   "name": "python",
   "nbconvert_exporter": "python",
   "pygments_lexer": "ipython3",
   "version": "3.9.7"
  }
 },
 "nbformat": 4,
 "nbformat_minor": 5
}
