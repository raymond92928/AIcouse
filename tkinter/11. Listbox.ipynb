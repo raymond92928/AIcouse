{
 "cells": [
  {
   "cell_type": "markdown",
   "id": "7ceee548",
   "metadata": {},
   "source": [
    "## Common option:\n",
    "\n",
    "- heigh:  \n",
    "- listvariable:\n",
    "- selectmode: 'browse'(single choice, change by using mouse or keyboard), 'single'(single choice, only using mouse),'multiple'(multiple choice), 'extended'(multiple choice, using mouse or Shift, Ctrl)\n",
    "- xscrollcommand: Scroll the listbox horizontally.\n",
    "- yscrollcommand: Scroll the listbox vertically."
   ]
  },
  {
   "cell_type": "markdown",
   "id": "9e528db9",
   "metadata": {},
   "source": [
    "## insert()"
   ]
  },
  {
   "cell_type": "code",
   "execution_count": null,
   "id": "992faef3",
   "metadata": {},
   "outputs": [],
   "source": [
    "import tkinter as tk\n",
    "win = tk.Tk()\n",
    "lstNum = tk.Listbox(win)\n",
    "lstNum.insert(0, 1) # insert at index 0\n",
    "lstNum.insert('end', 3) # insert at the end\n",
    "lstNum.insert(1, 2) # insert at index 1\n",
    "lstNum.pack()\n",
    "win.mainloop()"
   ]
  },
  {
   "cell_type": "code",
   "execution_count": null,
   "id": "4537879b",
   "metadata": {},
   "outputs": [],
   "source": [
    "import tkinter as tk\n",
    "win = tk.Tk()\n",
    "lstSport = tk.Listbox(win, selectmode = 'multiple')\n",
    "lstSport.pack()\n",
    "\n",
    "sports = ['baseball', 'football', 'table tennis'] # using list to insert\n",
    "for s in sports:\n",
    "    lstSport.insert('end', s)\n",
    "\n",
    "win.mainloop()"
   ]
  },
  {
   "cell_type": "code",
   "execution_count": null,
   "id": "60f0e4bd",
   "metadata": {},
   "outputs": [],
   "source": [
    "\n",
    "# using listvariableimport tkinter as tk\n",
    "win = tk.Tk()\n",
    "sports = tk.StringVar()\n",
    "sports.set('baseball football table\\ tennis')\n",
    "\n",
    "lstSport = tk.Listbox(win, selectmode = 'extended', listvariable = sports)\n",
    "lstSport.pack()\n",
    "\n",
    "win.mainloop()"
   ]
  },
  {
   "cell_type": "markdown",
   "id": "12d57496",
   "metadata": {},
   "source": [
    "## size(), get(), delete(), showinfo(), election_set(), selection_clear(), curselection()"
   ]
  },
  {
   "cell_type": "code",
   "execution_count": null,
   "id": "0b33120d",
   "metadata": {},
   "outputs": [],
   "source": [
    "import tkinter as tk\n",
    "from tkinter import messagebox\n",
    "\n",
    "def fnNo(e):\n",
    "    if lstSport.selection_includes(3) == True:\n",
    "        tk.messagebox.showinfo(\"Message\", \"I TELL YOU DO NOT CHOOSE IT!!\")\n",
    "        lstSport.selection_clear(3)\n",
    "    \n",
    "def fnTry():\n",
    "    # tk.messagebox.showinfo(\"Message\", lstSport.size()) # show the size of the Listbox\n",
    "    # tk.messagebox.showinfo(\"Message\", lstSport.get(0, 2)) # show the 0~2 index of element of the Listbox\n",
    "    # lstSport.delete(1, 2) # delete the 1~2 index of element of the Listbox\n",
    "    # tk.messagebox.showinfo(\"Message\", lstSport.selection_includes(1)) # return the select element is chose or not\n",
    "    # lstSport.selection_set(0, 'end') # choose all element\n",
    "    # lstSport.selection_clear(1) # cancel selection of index 1\n",
    "    indexs = lstSport.curselection()\n",
    "    for i in indexs:\n",
    "        print(sports[i])\n",
    "win = tk.Tk()\n",
    "\n",
    "lstSport = tk.Listbox(win, selectmode = 'extended', listvariable = sports)\n",
    "lstSport.pack()\n",
    "\n",
    "lstSport.bind(\"<<ListboxSelect>>\", fnNo) # <<ListboxSelect>> event\n",
    "\n",
    "sports = ['baseball', 'football', 'table tennis', 'don\\'t choose it'] # using list to insert\n",
    "for s in sports:\n",
    "    lstSport.insert('end', s)\n",
    "    \n",
    "btn = tk.Button(win, text = \"Try it!\", command = fnTry).pack()\n",
    "\n",
    "win.mainloop()"
   ]
  },
  {
   "cell_type": "markdown",
   "id": "b073411e",
   "metadata": {},
   "source": [
    "# Scrollbar\n",
    "## Common option:\n",
    "- command:\n",
    "- jump: 0(default, trigger command when rolling), 1(trigger command when release the mouse).\n",
    "- orient: 'horizontal' or ' vertical'."
   ]
  },
  {
   "cell_type": "code",
   "execution_count": 5,
   "id": "539ff799",
   "metadata": {},
   "outputs": [],
   "source": [
    "import tkinter as tk\n",
    "\n",
    "win = tk.Tk()\n",
    "win.geometry(\"200x200\")\n",
    "\n",
    "srlNum = tk.Scrollbar(win)\n",
    "lstNums = tk.Listbox(win, yscrollcommand = srlNum.set)\n",
    "for n in range(100):\n",
    "    lstNums.insert('end', n)\n",
    "lstNums.pack(side = 'left', fill = 'both', expand = True)\n",
    "srlNum.config(command = lstNums.yview)\n",
    "srlNum.pack(side = 'right', fill = 'y')\n",
    "\n",
    "win.mainloop()"
   ]
  },
  {
   "cell_type": "code",
   "execution_count": null,
   "id": "2826cb22",
   "metadata": {},
   "outputs": [],
   "source": []
  }
 ],
 "metadata": {
  "kernelspec": {
   "display_name": "Python 3 (ipykernel)",
   "language": "python",
   "name": "python3"
  },
  "language_info": {
   "codemirror_mode": {
    "name": "ipython",
    "version": 3
   },
   "file_extension": ".py",
   "mimetype": "text/x-python",
   "name": "python",
   "nbconvert_exporter": "python",
   "pygments_lexer": "ipython3",
   "version": "3.9.12"
  }
 },
 "nbformat": 4,
 "nbformat_minor": 5
}
