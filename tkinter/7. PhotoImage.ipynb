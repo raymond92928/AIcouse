{
 "cells": [
  {
   "cell_type": "markdown",
   "id": "87fa5058",
   "metadata": {},
   "source": [
    "## Common option:\n",
    "- blank: Delete the image.\n",
    "- width/height: Get the w/h of the image.\n",
    "- zoom: Increase the size of the image.\n",
    "- subsample: Decrease the size of the image."
   ]
  },
  {
   "cell_type": "code",
   "execution_count": 1,
   "id": "09523e2c",
   "metadata": {},
   "outputs": [],
   "source": [
    "import tkinter as tk\n",
    "def fnSet(img):\n",
    "    lblPhoto.config(image = img)\n",
    "    \n",
    "win = tk.Tk()\n",
    "win.title(\"Album\")\n",
    "win.geometry(\"500x400\")\n",
    "\n",
    "frmPhoto = tk.Frame(win, width = 400, height = 300, relief = 'ridge', borderwidth = 6, bg = 'white')\n",
    "frmPhoto.pack()\n",
    "frmPhoto.pack_propagate(0) # fix frame size\n",
    "\n",
    "imgPhoto1 = tk.PhotoImage(file = \"cone.png\")\n",
    "imgPhoto2 = tk.PhotoImage(file = \"sphere.png\")\n",
    "imgPhoto3 = tk.PhotoImage(file = \"Prism.png\")\n",
    "imgPhoto1_s = imgPhoto1.subsample(4,4)\n",
    "imgPhoto2_s = imgPhoto2.subsample(4,4)\n",
    "imgPhoto3_s = imgPhoto3.subsample(4,4)\n",
    "# lblPhoto = tk.Label(win, image = imgPhoto1)\n",
    "lblPhoto = tk.Label(frmPhoto, image = imgPhoto1)\n",
    "lblPhoto.pack()\n",
    "lfrmSet = tk.LabelFrame(win, text = \"choose the image\", relief = \"raised\", borderwidth = 2)\n",
    "lfrmSet.pack()\n",
    "\n",
    "btn1 = tk.Button(lfrmSet, image = imgPhoto1_s, command = lambda:fnSet(imgPhoto1))\n",
    "btn2 = tk.Button(lfrmSet, image = imgPhoto2_s, command = lambda:fnSet(imgPhoto2))\n",
    "btn3 = tk.Button(lfrmSet, image = imgPhoto3_s, command = lambda:fnSet(imgPhoto3))\n",
    "btn1.pack(side = \"left\", padx = 5)\n",
    "btn2.pack(side = \"left\", padx = 5)\n",
    "btn3.pack(side = \"left\", padx = 5)\n",
    "win.mainloop()"
   ]
  },
  {
   "cell_type": "code",
   "execution_count": null,
   "id": "26eeb5f3",
   "metadata": {},
   "outputs": [],
   "source": []
  }
 ],
 "metadata": {
  "kernelspec": {
   "display_name": "Python 3 (ipykernel)",
   "language": "python",
   "name": "python3"
  },
  "language_info": {
   "codemirror_mode": {
    "name": "ipython",
    "version": 3
   },
   "file_extension": ".py",
   "mimetype": "text/x-python",
   "name": "python",
   "nbconvert_exporter": "python",
   "pygments_lexer": "ipython3",
   "version": "3.9.12"
  }
 },
 "nbformat": 4,
 "nbformat_minor": 5
}
