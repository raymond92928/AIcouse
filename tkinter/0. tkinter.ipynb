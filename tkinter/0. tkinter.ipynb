{
 "cells": [
  {
   "cell_type": "code",
   "execution_count": null,
   "id": "5dd5c0d1",
   "metadata": {},
   "outputs": [],
   "source": [
    "import tkinter as tk\n",
    "\n",
    "win = tk.Tk()\n",
    "win.mainloop()"
   ]
  },
  {
   "cell_type": "markdown",
   "id": "43dd92f8",
   "metadata": {},
   "source": [
    "# Some common command:\n",
    "\n",
    "1. title() - It is title, default \"tk\"\n",
    "2. geometry() - Set the window size and position, <b>win.geometry(WIDTHxHEIGHT+X+Y).\n",
    "3. mainloop() - Keep runing the window untile close it.\n",
    "4. maxsize() - Set the maximum size of the window, <b>win.maxsize(WIDTH, HEIGHT).\n",
    "5. minsize() - Set the minimum size of the window, <b>win.minsize(WIDTH, HEIGHT).\n",
    "6. resizeable - Set the window is resizeable, <b>win.resizeable(<bool>WIDTHSIZE, <bool>HEIGHTSIZE).\n",
    "7. iconbitmap() - Set the icon, use .ico file.\n",
    "8. state() - Set the window maximum, <b> win.state(\"zoomed\").\n",
    "9. iconify() - Set the window minimize.\n",
    "10. winfo_screenwidth() - Get the screen width, <b> screenWidth = win.winfo_screenwidth()\n",
    "11. winfo_screenheight() - Get the screen height, <b> screenHEigth = win.winfo_screenheigth()"
   ]
  },
  {
   "cell_type": "code",
   "execution_count": 2,
   "id": "b2cf6e6f",
   "metadata": {},
   "outputs": [],
   "source": [
    "import tkinter as tk\n",
    "win = tk.Tk()\n",
    "win.geometry(\"300x200+80+50\")\n",
    "win.title(\"My first GUI(graphical user interface)\")\n",
    "win.resizable(True, True)\n",
    "win.iconbitmap(\"math.ico\")\n",
    "win.maxsize(500, 400)\n",
    "win.minsize(100, 200)\n",
    "win.configure(bg = \"yellow\")\n",
    "win.mainloop()"
   ]
  },
  {
   "cell_type": "markdown",
   "id": "ca8447c1",
   "metadata": {},
   "source": [
    "# Check all font that you can use"
   ]
  },
  {
   "cell_type": "code",
   "execution_count": null,
   "id": "51060fb9",
   "metadata": {},
   "outputs": [],
   "source": [
    "import tkinter as tk\n",
    "import tkinter.font as tkFont\n",
    "\n",
    "window = tk.Tk()\n",
    "tk.font.families(root=None)"
   ]
  },
  {
   "cell_type": "code",
   "execution_count": null,
   "id": "255407a6",
   "metadata": {},
   "outputs": [],
   "source": []
  }
 ],
 "metadata": {
  "kernelspec": {
   "display_name": "Python 3 (ipykernel)",
   "language": "python",
   "name": "python3"
  },
  "language_info": {
   "codemirror_mode": {
    "name": "ipython",
    "version": 3
   },
   "file_extension": ".py",
   "mimetype": "text/x-python",
   "name": "python",
   "nbconvert_exporter": "python",
   "pygments_lexer": "ipython3",
   "version": "3.9.7"
  }
 },
 "nbformat": 4,
 "nbformat_minor": 5
}
