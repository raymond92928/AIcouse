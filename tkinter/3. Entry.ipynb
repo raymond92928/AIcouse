{
 "cells": [
  {
   "cell_type": "markdown",
   "id": "bf79ce89",
   "metadata": {},
   "source": [
    "## Common option:\n",
    "- state: \"normal\"(default, can input text), \"disabled\"(only show text)\n",
    "- textvariable: Set the variable of the text\n",
    "- show: change the display text, for example: show = \"*\", then the text will display as \"*\""
   ]
  },
  {
   "cell_type": "code",
   "execution_count": null,
   "id": "f29fd810",
   "metadata": {},
   "outputs": [],
   "source": [
    "import tkinter as tk\n",
    "win = tk.Tk()\n",
    "entPW = tk.Entry(win, show = \"#\")\n",
    "entPW.pack()\n",
    "win.mainloop()"
   ]
  },
  {
   "cell_type": "code",
   "execution_count": null,
   "id": "415f906f",
   "metadata": {},
   "outputs": [],
   "source": [
    "import tkinter as tk\n",
    "import tkinter.messagebox\n",
    "def fnBmi():\n",
    "    height = userH.get()\n",
    "    weight = userW.get()\n",
    "    bmi = round(weight/pow(height, 2), 2)\n",
    "    msg = \"\"\n",
    "    if bmi < 18.5:\n",
    "        msg = 'too thin!'\n",
    "    elif bmi >= 24:\n",
    "        msg = \"too fat!\"\n",
    "    else:\n",
    "        msg = \"GOOD!\"\n",
    "    tk.messagebox.askokcancel(\"Attention\", f\"Your BMI is : {bmi}, {msg}\")\n",
    "    \n",
    "win = tk.Tk()\n",
    "win.title(\"BMI calculator\")\n",
    "win.geometry(\"240x200\")\n",
    "win.configure(bg = \"white\")\n",
    "\n",
    "lblTitle = tk.Label(win, text = \"BMI calculator\", font = (\"\",16), fg = \"white\", bg = \"blue\")\n",
    "\n",
    "lblheight = tk.Label(win, text = \"height(m)\")\n",
    "\n",
    "userH = tk.DoubleVar() # declare userH is float\n",
    "entH = tk.Entry(win, textvariable = userH)\n",
    "userH.set(1.8)\n",
    "\n",
    "lblweight = tk.Label(win, text = \"weight(kg)\")\n",
    "\n",
    "userW = tk.IntVar() # declare userH is float\n",
    "entW = tk.Entry(win, textvariable = userW)\n",
    "\n",
    "btnCal = tk.Button(win, text = \" Calculating \", command = fnBmi)\n",
    "\n",
    "lblTitle.pack(pady = 10, fill = \"x\")\n",
    "lblheight.pack(pady = 5, anchor = \"w\", fill = \"x\")\n",
    "entH.pack()\n",
    "lblweight.pack(pady = 5, anchor = \"w\", fill = \"x\")\n",
    "entW.pack()\n",
    "btnCal.pack(pady = 5)\n",
    "\n",
    "win.mainloop()"
   ]
  },
  {
   "cell_type": "code",
   "execution_count": null,
   "id": "c5af10ba",
   "metadata": {},
   "outputs": [],
   "source": []
  },
  {
   "cell_type": "code",
   "execution_count": null,
   "id": "caa9a82f",
   "metadata": {},
   "outputs": [],
   "source": []
  }
 ],
 "metadata": {
  "kernelspec": {
   "display_name": "Python 3 (ipykernel)",
   "language": "python",
   "name": "python3"
  },
  "language_info": {
   "codemirror_mode": {
    "name": "ipython",
    "version": 3
   },
   "file_extension": ".py",
   "mimetype": "text/x-python",
   "name": "python",
   "nbconvert_exporter": "python",
   "pygments_lexer": "ipython3",
   "version": "3.9.7"
  }
 },
 "nbformat": 4,
 "nbformat_minor": 5
}
