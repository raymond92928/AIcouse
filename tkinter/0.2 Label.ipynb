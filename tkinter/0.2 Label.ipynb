{
 "cells": [
  {
   "cell_type": "code",
   "execution_count": null,
   "id": "e0d6f906",
   "metadata": {},
   "outputs": [],
   "source": [
    "import tkinter as tk\n",
    "win = tk.Tk()\n",
    "\n",
    "lblText = tk.Label(win, text = \"Python\")\n",
    "lblText.pack()\n",
    "\n",
    "win.mainloop()"
   ]
  },
  {
   "cell_type": "markdown",
   "id": "4fbb73e3",
   "metadata": {},
   "source": [
    "# Some common command:\n",
    "\n",
    "1. text.\n",
    "2. width/height - Width/height of element.\n",
    "3. bg/background - Color of the background.\n",
    "4. fg/foreground - Color of the text.\n",
    "5. padx - Horizontal spacing of the text.\n",
    "6. pady - Vertical spacing of the text.\n",
    "7. font - Setting text font.\n",
    "8. bitmap - Built-in bitmap, <img src=\"https://1.bp.blogspot.com/-Cbhjsz9f7Jc/UEDqNGhMgxI/AAAAAAAABN8/mUV_eXklZwg/s1600/bitmap_1.PNG\"/>.\n",
    "9. compound - Position of the element relative of the text, we have \"left\", \"right\", \"top\", \"bottom\", \"center\".\n",
    "10. anchor - Position of the text, we have \"e\"(right), \"w\"(left), \"n\"(top), \"s\"(bottom), \"center\", \"ne\", \"se\", \"nw\", \"sw\".\n",
    "11. wraplength - The width of the word wrap.\n",
    "12. justify - Align, we have \"left\", \"right\", \"center\".\n",
    "15. relief - <img src=\"https://i.stack.imgur.com/DduC2.png\"/>"
   ]
  },
  {
   "cell_type": "code",
   "execution_count": null,
   "id": "4c8df5c3",
   "metadata": {},
   "outputs": [],
   "source": [
    "import tkinter as tk\n",
    "win = tk.Tk()\n",
    "win.geometry(\"300x200\")\n",
    "win.configure(bg = \"white\")\n",
    "win.title(\"This is title\")\n",
    "tk.Label(win, text = \"Label\", fg = \"blue\", bg = \"lightblue\", bitmap = \"gray25\",\\\n",
    "        compound = \"left\", font = (\"Times\", 24, \"bold\")).pack()\n",
    "msg = (\"Label can show text, only text. balabalabala\")\n",
    "tk.Label(win, text = msg, width = 28, wraplength = 240, justify = \"left\",\\\n",
    "        pady = 10, font = (\"Times\", 14)).pack()\n",
    "win.mainloop()"
   ]
  },
  {
   "cell_type": "code",
   "execution_count": null,
   "id": "865eeb5b",
   "metadata": {},
   "outputs": [],
   "source": []
  }
 ],
 "metadata": {
  "kernelspec": {
   "display_name": "Python 3 (ipykernel)",
   "language": "python",
   "name": "python3"
  },
  "language_info": {
   "codemirror_mode": {
    "name": "ipython",
    "version": 3
   },
   "file_extension": ".py",
   "mimetype": "text/x-python",
   "name": "python",
   "nbconvert_exporter": "python",
   "pygments_lexer": "ipython3",
   "version": "3.9.12"
  }
 },
 "nbformat": 4,
 "nbformat_minor": 5
}
