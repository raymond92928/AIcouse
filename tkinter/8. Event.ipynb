{
 "cells": [
  {
   "cell_type": "markdown",
   "id": "cac6c48e",
   "metadata": {},
   "source": [
    "Mouse event:\n",
    "- \\<Button>: Click any button of mouse.\n",
    "- \\<Button-1>: Left click mouse.\n",
    "- \\<Button-2>: Middle click mouse.\n",
    "- \\<Button-3>: Right click mouse.\n",
    "- \\<Double-Button-1/2/3>: L/M/R double click mouse.\n",
    "- \\<ButtonRelease-1/2/3>: Release L/M/R mouse.\n",
    "- \\<Enter>: The mouse inside the element.\n",
    "- \\<Leave>: The mouse leave the element.\n",
    "- \\<Motion>: The mouse move inside the element.\n",
    "- \\<B1/2/3-Motion>: Hold L/M/R mouse and move."
   ]
  },
  {
   "cell_type": "code",
   "execution_count": null,
   "id": "ce6d99e7",
   "metadata": {},
   "outputs": [],
   "source": [
    "import tkinter as tk\n",
    "\n",
    "def fnEnter(e):\n",
    "    lblTest['bg'] = 'lightblue'\n",
    "    \n",
    "def fnMotion(e):\n",
    "    lblTest['text'] = \"Move it!\"\n",
    "    \n",
    "def fnLeave(e):\n",
    "    lblTest.config(text = 'Try it!', bg = 'gray')\n",
    "    \n",
    "def fnClick(e):\n",
    "    global mx, my\n",
    "    mx = e.x\n",
    "    my = e.y\n",
    "\n",
    "def fnB1Motion(e):\n",
    "    global mx, my\n",
    "    lblX = lblTest.winfo_rootx()- win.winfo_rootx()\n",
    "    lblY = lblTest.winfo_rooty()- win.winfo_rooty()\n",
    "    lblTest['text'] = \"Moving...\"\n",
    "    lblTest.place(x = lblX + (e.x - mx), y = lblY + (e.y - my)) # mx/y is the location when the mouse is clicked"
   ]
  },
  {
   "cell_type": "code",
   "execution_count": null,
   "id": "4e212a0f",
   "metadata": {},
   "outputs": [],
   "source": [
    "win = tk.Tk()\n",
    "win.title(\"Mouse event\")\n",
    "win.geometry('240x240')\n",
    "mx = 0\n",
    "my = 0\n",
    "lblTest = tk.Label(win, text = \"Try\", width = 8, height = 2, relief = 'groove', bg = 'gray')\n",
    "lblTest.place(x = 80, y = 100)\n",
    "lblTest.bind('<Enter>', fnEnter)\n",
    "lblTest.bind('<Leave>', fnLeave)\n",
    "lblTest.bind('<Motion>', fnMotion)\n",
    "lblTest.bind('<Button-1>', fnClick)\n",
    "lblTest.bind('<B1-Motion>', fnB1Motion)\n",
    "win.mainloop()"
   ]
  },
  {
   "cell_type": "markdown",
   "id": "28bfefb8",
   "metadata": {},
   "source": [
    "Keybroad event:\n",
    "- \\<Key>: Press any key.\n",
    "- \\<keysym>: Press designated key.\n",
    "- \\<Alt-keysym>: Press Alt + key.\n",
    "- \\<Control-keysym>: Press Ctrl + key.\n",
    "- \\<Shift-keysym>: Press Shift + key.\n",
    "- \\<KeyPress>: Press the key.\n",
    "- \\<KeyRelease>: Release the key.\n",
    "- \\<FocusIn>: When focus the element.\n",
    "- \\<FocusOut>: When not focus the element.\n"
   ]
  },
  {
   "cell_type": "markdown",
   "id": "1f5df43e",
   "metadata": {},
   "source": [
    "\n",
    "\n",
    "| keycode   | keysym                |\n",
    "|-----------|-----------------------|\n",
    "| 48 ~ 57   | 0 ~ 9                 |\n",
    "| 65 ~ 90   | a ~ z, A ~ Z          |\n",
    "| 112 ~ 123 | F1 ~ F12              |\n",
    "| 37 ~ 40   | Left, Up, Right, Down |\n",
    "| 8, 46     | BackSpace, Delete     |\n",
    "| 13, 32    | Return, space         |\n",
    "| 16        | Shift_L, Shift_R      |\n",
    "| 27        | Escape                |"
   ]
  },
  {
   "cell_type": "code",
   "execution_count": 1,
   "id": "d026b15f",
   "metadata": {},
   "outputs": [],
   "source": [
    "import tkinter as tk\n",
    "from tkinter import messagebox\n",
    "\n",
    "def fnID(e):\n",
    "    code = e.keycode\n",
    "    if(code == 8 or code == 46): # Press BackSpace or Delete\n",
    "        return\n",
    "    uid = userID.get()\n",
    "    if(e.char.islower() == False):\n",
    "        userID.set(uid.replace(e.char,\"\")) # reset the input to empty\n",
    "        tk.messagebox.showerror(\"Note!!\", \"Please input lower case letters\")\n",
    "        \n",
    "def fnCheck():\n",
    "    uid = userID.get()\n",
    "    if(uid == \"raymond\"):\n",
    "        tk.messagebox.showinfo(\"Welcome\",\"Hi, Raymond.\")\n",
    "        win.destroy()\n",
    "    else:\n",
    "        tk.messagebox.showinfo(\"No!\",\"Who are you?\")\n",
    "        userID.set(\"\")\n",
    "        entID.focus_set()\n",
    "        \n",
    "win = tk.Tk()\n",
    "win.title(\"login\")\n",
    "win.geometry(\"220x180\")\n",
    "tk.Label(win,text = \"Enter the username: \")\n",
    "userID = tk.StringVar()\n",
    "entID = tk.Entry(win, textvariable = userID)\n",
    "entID.pack(pady = 5)\n",
    "\n",
    "entID.bind(\"<KeyRelease>\", fnID)\n",
    "entID.focus_set()\n",
    "btnLogin = tk.Button(win, text = \"Login\", command = fnCheck)\n",
    "btnLogin.pack(pady = 15)\n",
    "\n",
    "win.mainloop()"
   ]
  },
  {
   "cell_type": "code",
   "execution_count": null,
   "id": "11288ffa",
   "metadata": {},
   "outputs": [],
   "source": []
  }
 ],
 "metadata": {
  "kernelspec": {
   "display_name": "Python 3 (ipykernel)",
   "language": "python",
   "name": "python3"
  },
  "language_info": {
   "codemirror_mode": {
    "name": "ipython",
    "version": 3
   },
   "file_extension": ".py",
   "mimetype": "text/x-python",
   "name": "python",
   "nbconvert_exporter": "python",
   "pygments_lexer": "ipython3",
   "version": "3.9.7"
  }
 },
 "nbformat": 4,
 "nbformat_minor": 5
}
