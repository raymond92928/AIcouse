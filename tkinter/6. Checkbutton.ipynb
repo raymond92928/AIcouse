{
 "cells": [
  {
   "cell_type": "markdown",
   "id": "44ed89b4",
   "metadata": {},
   "source": [
    "## Common option:\n",
    "- text: \n",
    "- variable: True or False\n",
    "- command: Specifies a Tcl command to associate with the button. This command is typically invoked when mouse button 1 is released over the button window."
   ]
  },
  {
   "cell_type": "code",
   "execution_count": 1,
   "id": "7bd0276b",
   "metadata": {},
   "outputs": [],
   "source": [
    "import tkinter as tk\n",
    "import tkinter.messagebox\n",
    "\n",
    "def fnOk():\n",
    "    show = ok.get()\n",
    "    if show:\n",
    "        lfrmSpot.pack(pady = 10)\n",
    "        for i in range(3):\n",
    "            check[i] = tk.BooleanVar()\n",
    "            tk.Checkbutton(lfrmSpot, text = spots[i], variable = check[i]).pack(anchor = \"w\")\n",
    "    else:\n",
    "        lfrmSpot.forget()\n",
    "        \n",
    "def fnMsg():\n",
    "    if ok.get() == True:\n",
    "        msg = \"You chose: \"\n",
    "        for i in range(3):\n",
    "            if check[i].get() == True:\n",
    "                msg += (spots[i] + \",\")\n",
    "        tk.messagebox.showinfo(\"Message\", msg[:len(msg)-1])\n",
    "    else:\n",
    "        tk.messagebox.showinfo(\"Message\", \"See you next time!\")\n",
    "    win.destroy()\n",
    "    \n",
    "    \n",
    "win = tk.Tk()\n",
    "win.title(\"Questionnaire\")\n",
    "win.geometry(\"220x180\")\n",
    "\n",
    "lfrmSpot = tk.LabelFrame(win, text = \"Check the place(Multiple choice).\")\n",
    "ok = tk.BooleanVar()\n",
    "chkOK = tk.Checkbutton(win, text = \"Join it!\", variable = ok, command = fnOk).pack()\n",
    "spots = [\"Macau\", \"HongKong\", \"China\"]\n",
    "check = {}\n",
    "btnSend = tk.Button(win, text = \" Submit \", command = fnMsg).pack(pady = 5)\n",
    "win.mainloop()"
   ]
  },
  {
   "cell_type": "code",
   "execution_count": null,
   "id": "74968d64",
   "metadata": {},
   "outputs": [],
   "source": []
  }
 ],
 "metadata": {
  "kernelspec": {
   "display_name": "Python 3 (ipykernel)",
   "language": "python",
   "name": "python3"
  },
  "language_info": {
   "codemirror_mode": {
    "name": "ipython",
    "version": 3
   },
   "file_extension": ".py",
   "mimetype": "text/x-python",
   "name": "python",
   "nbconvert_exporter": "python",
   "pygments_lexer": "ipython3",
   "version": "3.9.12"
  }
 },
 "nbformat": 4,
 "nbformat_minor": 5
}
