{
 "cells": [
  {
   "cell_type": "markdown",
   "id": "e59ece80",
   "metadata": {},
   "source": [
    "Common option:\n",
    "- variable: The control variable for this scale, if any. Control variables may be from class IntVar, DoubleVar (float), or StringVar.\n",
    "- command: \n",
    "- from_: A float or integer value that defines the start of the scale's range.\n",
    "- to: A float or integer value that defines the end of the scale's range.\n",
    "- resolution: The units that be able to change.\n",
    "- orient: Set orient=HORIZONTAL or orient=VERTICAL.\n",
    "- label: \n",
    "- tickinterval: To display periodic scale values.\n",
    "- showvalue: The current value of the scale is displayed in text form by the slider"
   ]
  },
  {
   "cell_type": "code",
   "execution_count": 1,
   "id": "8ed42f61",
   "metadata": {},
   "outputs": [],
   "source": [
    "import tkinter as tk\n",
    "\n",
    "def fnBg(e):\n",
    "    red = r.get()\n",
    "    color = \"#{:02x}0000\".format(red) # 0 mean 0x when here only 1 digit, 2 mean 2 digits, x mean hexadecimal.\n",
    "    frmColor.config(bg = color)\n",
    "    \n",
    "win = tk.Tk()\n",
    "win.title(\"Palette\")\n",
    "win.geometry(\"250x200\")\n",
    "frmColor = tk.Frame(win, width = 100, height = 180,\n",
    "                    relief = 'raised', borderwidth = 3, bg = \"red\")\n",
    "frmColor.pack(side = \"left\", padx = 10)\n",
    "frmRGB = tk.Frame(win, width = 200, height = 200)\n",
    "frmRGB.pack(side = \"left\")\n",
    "\n",
    "r = tk.IntVar()\n",
    "\n",
    "sclR = tk.Scale(frmRGB, label = \"Red: \", orient = \"horizontal\", variable = r,\n",
    "               from_ = 0, to = 255, command = fnBg)\n",
    "\n",
    "\n",
    "sclR.pack()\n",
    "\n",
    "r.set(255)\n",
    "\n",
    "win.mainloop()"
   ]
  },
  {
   "cell_type": "code",
   "execution_count": null,
   "id": "db3e6b64",
   "metadata": {},
   "outputs": [],
   "source": [
    "import tkinter as tk\n",
    "\n",
    "def fnBg(e):\n",
    "    red = r.get()\n",
    "    green = g.get()\n",
    "    blue = b.get()\n",
    "    color = \"#{:02x}{:02x}{:02x}\".format(red, green, blue) # 0 mean 0x when here only 1 digit, 2 mean 2 digits, x mean hexadecimal.\n",
    "    frmColor.config(bg = color)\n",
    "    \n",
    "win = tk.Tk()\n",
    "win.title(\"Palette\")\n",
    "win.geometry(\"250x200\")\n",
    "frmColor = tk.Frame(win, width = 100, height = 180,\n",
    "                    relief = 'raised', borderwidth = 3, bg = \"white\")\n",
    "frmColor.pack(side = \"left\", padx = 10)\n",
    "frmRGB = tk.Frame(win, width = 200, height = 200)\n",
    "frmRGB.pack(side = \"left\")\n",
    "\n",
    "r = tk.IntVar()\n",
    "g = tk.IntVar()\n",
    "b = tk.IntVar()\n",
    "\n",
    "sclR = tk.Scale(frmRGB, label = \"Red: \", orient = \"horizontal\", variable = r,\n",
    "               from_ = 0, to = 255, command = fnBg)\n",
    "sclG = tk.Scale(frmRGB, label = \"Green: \", orient = \"horizontal\", variable = g,\n",
    "               from_ = 0, to = 255, command = fnBg)\n",
    "sclB = tk.Scale(frmRGB, label = \"Blue: \", orient = \"horizontal\", variable = b,\n",
    "               from_ = 0, to = 255, command = fnBg)\n",
    "\n",
    "sclR.pack()\n",
    "sclG.pack()\n",
    "sclB.pack()\n",
    "\n",
    "r.set(255)\n",
    "g.set(255)\n",
    "b.set(255)\n",
    "\n",
    "win.mainloop()"
   ]
  },
  {
   "cell_type": "code",
   "execution_count": null,
   "id": "a5d6ab53",
   "metadata": {},
   "outputs": [],
   "source": []
  }
 ],
 "metadata": {
  "kernelspec": {
   "display_name": "Python 3 (ipykernel)",
   "language": "python",
   "name": "python3"
  },
  "language_info": {
   "codemirror_mode": {
    "name": "ipython",
    "version": 3
   },
   "file_extension": ".py",
   "mimetype": "text/x-python",
   "name": "python",
   "nbconvert_exporter": "python",
   "pygments_lexer": "ipython3",
   "version": "3.9.7"
  }
 },
 "nbformat": 4,
 "nbformat_minor": 5
}
