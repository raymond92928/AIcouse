{
 "cells": [
  {
   "cell_type": "markdown",
   "id": "4fbb73e3",
   "metadata": {},
   "source": [
    "Common option:\n",
    "- text.\n",
    "- variable: The control variable that this radiobutton shares with the other radiobuttons in the group. This can be either an IntVar or a StringVar.\n",
    "- value: When a radiobutton is turned on by the user, its control variable is set to its current value option.\n",
    "- command: A procedure to be called every time the user changes the state of this radiobutton."
   ]
  },
  {
   "cell_type": "markdown",
   "id": "4a696366",
   "metadata": {},
   "source": [
    "# Example 1"
   ]
  },
  {
   "cell_type": "code",
   "execution_count": null,
   "id": "29778514",
   "metadata": {},
   "outputs": [],
   "source": [
    "import tkinter as tk\n",
    "import tkinter.messagebox\n",
    "def fnPay():\n",
    "    # p = userP.get() # read radius\n",
    "    if (pay.get() == \"Credit\"):\n",
    "        tk.messagebox.showinfo(\"Note!\", f\"You chose credit card.\")\n",
    "    elif (pay.get() == \"Debit\"):\n",
    "        tk.messagebox.showinfo(\"Note!\", f\"You chose debit card.\")\n",
    "    else:\n",
    "        tk.messagebox.showinfo(\"Note!\", f\"You chose cash.\")\n",
    "        \n",
    "win = tk.Tk()\n",
    "win.title(\"Circle calculator\")\n",
    "win.geometry(\"200x100\")\n",
    "lfrmP = tk.LabelFrame(win, text = \"payment method\")\n",
    "lfrmP.pack(pady = 10)\n",
    "\n",
    "payWay = [\"Credit\", \"Debit\", \"Cash\"]\n",
    "pay = tk.StringVar()\n",
    "for p in payWay:\n",
    "    tk.Radiobutton(lfrmP, text = p, variable = pay, value = p, command = fnPay).pack(side = \"left\")\n",
    "pay.set(payWay[0])\n",
    "win.mainloop()"
   ]
  },
  {
   "cell_type": "markdown",
   "id": "5b4cc76f",
   "metadata": {},
   "source": [
    "# Example 2"
   ]
  },
  {
   "cell_type": "code",
   "execution_count": null,
   "id": "4c8df5c3",
   "metadata": {},
   "outputs": [],
   "source": [
    "import tkinter as tk\n",
    "import tkinter.messagebox\n",
    "def fnCal():\n",
    "    r = userR.get() # read radius\n",
    "    u = unit.get() # read unit\n",
    "    if (kind.get() == \"Circumference\"):\n",
    "        a = round(3.14*2*r, 2)\n",
    "        tk.messagebox.showinfo(\"Circumference\", f\"The circumference is {a} {u}\")\n",
    "    else:\n",
    "        a = round(3.14*r**2, 2)\n",
    "        tk.messagebox.showinfo(\"Area\", f\"The area is {a} {u}^2\")\n",
    "        \n",
    "win = tk.Tk()\n",
    "win.title(\"Circle calculator\")\n",
    "win.geometry(\"300x200\")\n",
    "lfrmR = tk.LabelFrame(win, text = \"input radius:\")\n",
    "lfrmR.pack(pady = 10)\n",
    "userR = tk.IntVar()\n",
    "userR.set(10)\n",
    "entR = tk.Entry(lfrmR, textvariable = userR).pack(pady = 3)\n",
    "lblMsg = tk.Label(lfrmR, text = \"Please input the radius and choose the subject\").pack(pady = 10)\n",
    "\n",
    "lfrmKind = tk.LabelFrame(win, text = \"Class\")\n",
    "lfrmKind.pack(side = \"left\", pady = 10, padx = 10, fill = \"x\", expand = 1)\n",
    "kinds = [\"Circumference\",\"Area\"]\n",
    "kind = tk.StringVar()\n",
    "for k in kinds:\n",
    "    tk.Radiobutton(lfrmKind, text = k, variable = kind, value = k, command = fnCal).pack(pady =3)\n",
    "    \n",
    "kind.set(\"Circumference\")\n",
    "\n",
    "lfrmUnit = tk.LabelFrame(win, text = \"unit\")\n",
    "lfrmUnit.pack(side = \"left\", pady = 10, padx = 10, fill = \"x\", expand = 1)\n",
    "units = [\"Centimeter\", \"Inch\"]\n",
    "unit = tk.StringVar()\n",
    "for u in units:\n",
    "    tk.Radiobutton(lfrmUnit, text = u, variable = unit, value = u, command = fnCal).pack(pady = 3)\n",
    "unit.set(units[0])\n",
    "win.mainloop()"
   ]
  },
  {
   "cell_type": "code",
   "execution_count": null,
   "id": "865eeb5b",
   "metadata": {},
   "outputs": [],
   "source": []
  },
  {
   "cell_type": "code",
   "execution_count": null,
   "id": "824b6aaa",
   "metadata": {},
   "outputs": [],
   "source": []
  }
 ],
 "metadata": {
  "kernelspec": {
   "display_name": "Python 3 (ipykernel)",
   "language": "python",
   "name": "python3"
  },
  "language_info": {
   "codemirror_mode": {
    "name": "ipython",
    "version": 3
   },
   "file_extension": ".py",
   "mimetype": "text/x-python",
   "name": "python",
   "nbconvert_exporter": "python",
   "pygments_lexer": "ipython3",
   "version": "3.9.7"
  }
 },
 "nbformat": 4,
 "nbformat_minor": 5
}
