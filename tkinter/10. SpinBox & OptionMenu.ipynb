{
 "cells": [
  {
   "cell_type": "markdown",
   "id": "542f4e63",
   "metadata": {},
   "source": [
    "# SpinBox"
   ]
  },
  {
   "cell_type": "markdown",
   "id": "e59ece80",
   "metadata": {},
   "source": [
    "## Common option:\n",
    "\n",
    "- command: \n",
    "- from_: A float or integer value that defines the start of the scale's range.\n",
    "- to: A float or integer value that defines the end of the scale's range.\n",
    "- increment: Each step when press up or down.\n",
    "- values: The values you can select, it can be list or tuple.\n",
    "- textvariable: "
   ]
  },
  {
   "cell_type": "code",
   "execution_count": null,
   "id": "8ed42f61",
   "metadata": {},
   "outputs": [],
   "source": [
    "import tkinter as tk\n",
    "\n",
    "win = tk.Tk()\n",
    "win.title(\"Palette\")\n",
    "win.geometry(\"200x200\")\n",
    "spnNum = tk.Spinbox(win, from_ = 0, to = 10, increment = 2)\n",
    "spnNum.pack()\n",
    "\n",
    "win.mainloop()"
   ]
  },
  {
   "cell_type": "code",
   "execution_count": null,
   "id": "db3e6b64",
   "metadata": {},
   "outputs": [],
   "source": [
    "import tkinter as tk\n",
    "\n",
    "win = tk.Tk()\n",
    "win.title(\"Palette\")\n",
    "win.geometry(\"200x200\")\n",
    "listNum = [\"one\", \"two\", \"three\"]\n",
    "spnNum = tk.Spinbox(win, values = listNum)\n",
    "spnNum.pack()\n",
    "\n",
    "win.mainloop()"
   ]
  },
  {
   "cell_type": "code",
   "execution_count": null,
   "id": "a5d6ab53",
   "metadata": {},
   "outputs": [],
   "source": [
    "import tkinter as tk\n",
    "from tkinter import messagebox\n",
    "\n",
    "def fnCheck():\n",
    "    choseNum = num.get()\n",
    "    tk.messagebox.showinfo(\"Warning\",\"Your chose \" + str(choseNum) + \".\")\n",
    "        \n",
    "win = tk.Tk()\n",
    "win.title(\"Palette\")\n",
    "win.geometry(\"200x200\")\n",
    "\n",
    "num = tk.IntVar()\n",
    "num.set(5)\n",
    "spnNum = tk.Spinbox(win, from_ = 0, to = 10, textvariable = num)\n",
    "spnNum.pack(pady = 5)\n",
    "\n",
    "btn = tk.Button(win, text = \"OK\", command = fnCheck)\n",
    "btn.pack(pady = 5)\n",
    "\n",
    "win.mainloop()"
   ]
  },
  {
   "cell_type": "markdown",
   "id": "8f93fe02",
   "metadata": {},
   "source": [
    "# OptionMenu \n",
    "## Common option:\n",
    "\n",
    "- command: \n"
   ]
  },
  {
   "cell_type": "code",
   "execution_count": null,
   "id": "fe84e75b",
   "metadata": {},
   "outputs": [],
   "source": [
    "import tkinter as tk\n",
    "\n",
    "win = tk.Tk()\n",
    "win.title(\"Palette\")\n",
    "win.geometry(\"200x200\")\n",
    "\n",
    "select = tk.StringVar()\n",
    "fruits = [\"Banana\", \"Pineapple\", \"Orange\"]\n",
    "opn = tk.OptionMenu(win, select, *fruits) # Note here have * before the list\n",
    "opn.pack()\n",
    "select.set(\"Choose one!\")\n",
    "\n",
    "win.mainloop()"
   ]
  },
  {
   "cell_type": "code",
   "execution_count": null,
   "id": "fc23d319",
   "metadata": {},
   "outputs": [],
   "source": []
  }
 ],
 "metadata": {
  "kernelspec": {
   "display_name": "Python 3 (ipykernel)",
   "language": "python",
   "name": "python3"
  },
  "language_info": {
   "codemirror_mode": {
    "name": "ipython",
    "version": 3
   },
   "file_extension": ".py",
   "mimetype": "text/x-python",
   "name": "python",
   "nbconvert_exporter": "python",
   "pygments_lexer": "ipython3",
   "version": "3.9.12"
  }
 },
 "nbformat": 4,
 "nbformat_minor": 5
}
