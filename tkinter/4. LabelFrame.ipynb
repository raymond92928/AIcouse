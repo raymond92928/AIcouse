{
 "cells": [
  {
   "cell_type": "markdown",
   "id": "d1ea07f1",
   "metadata": {},
   "source": [
    "Common option:\n",
    "- text:\n",
    "- height:\n",
    "- width:\n",
    "- labelAncher: the position of text, default as 'nw'\n",
    "- relief: <img src=\"https://anzeljg.github.io/rin2/book2/2405/docs/tkinter/img/relief.png\">\n",
    "- borderwidth: width of border"
   ]
  },
  {
   "cell_type": "code",
   "execution_count": null,
   "id": "faf28015",
   "metadata": {},
   "outputs": [],
   "source": [
    "import tkinter as tk\n",
    "\n",
    "def fnBlue():\n",
    "    frmColor.configure(bg='blue')\n",
    "    \n",
    "def fnRed():\n",
    "    frmColor.configure(bg='red')\n",
    "    \n",
    "def fnGreen():\n",
    "    frmColor.configure(bg='green')\n",
    "    \n",
    "win = tk.Tk()\n",
    "win.title(\"Color change\")\n",
    "win.geometry(\"240x200\")\n",
    "\n",
    "frmColor = tk.Frame(win, width = 200, height = 100, relief = 'ridge', borderwidth = 6, bg = 'white')\n",
    "frmColor.pack(pady = 5)\n",
    "\n",
    "lfrmBtns = tk.LabelFrame(win, text = \"Color\", relief = \"groove\")\n",
    "lfrmBtns.pack(pady = 20, fill = \"x\")\n",
    "\n",
    "btnBlue = tk.Button(lfrmBtns, text = \"Blue\", width = 8,\n",
    "                   command = fnBlue).pack(side = \"left\", padx = 5)\n",
    "btnRed = tk.Button(lfrmBtns, text = \"Red\", width = 8,\n",
    "                   command = fnRed).pack(side = \"left\", padx = 5)\n",
    "btnBlue = tk.Button(lfrmBtns, text = \"Green\", width = 8,\n",
    "                   command = fnGreen).pack(side = \"left\", padx = 5)\n",
    "win.mainloop()\n",
    "    "
   ]
  },
  {
   "cell_type": "code",
   "execution_count": null,
   "id": "b3c1155d",
   "metadata": {},
   "outputs": [],
   "source": []
  },
  {
   "cell_type": "code",
   "execution_count": null,
   "id": "887c0ae1",
   "metadata": {},
   "outputs": [],
   "source": []
  }
 ],
 "metadata": {
  "kernelspec": {
   "display_name": "Python 3 (ipykernel)",
   "language": "python",
   "name": "python3"
  },
  "language_info": {
   "codemirror_mode": {
    "name": "ipython",
    "version": 3
   },
   "file_extension": ".py",
   "mimetype": "text/x-python",
   "name": "python",
   "nbconvert_exporter": "python",
   "pygments_lexer": "ipython3",
   "version": "3.9.7"
  }
 },
 "nbformat": 4,
 "nbformat_minor": 5
}
