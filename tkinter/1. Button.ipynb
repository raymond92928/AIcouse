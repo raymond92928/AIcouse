{
 "cells": [
  {
   "cell_type": "code",
   "execution_count": null,
   "id": "fa184af8",
   "metadata": {},
   "outputs": [],
   "source": [
    "def fnHi():\n",
    "    btnHi['text'] = \"Hello\"\n",
    "    \n",
    "import tkinter as tk\n",
    "\n",
    "win = tk.Tk()\n",
    "btnHi = tk.Button(win, text = \"kick\", command = fnHi)\n",
    "btnHi.pack()\n",
    "\n",
    "win.mainloop()"
   ]
  },
  {
   "cell_type": "markdown",
   "id": "1f7f5c66",
   "metadata": {},
   "source": [
    "# Button(pathName, [options...])\n",
    "\n",
    "## Some common option:\n",
    "\n",
    "    command - Specifies a Tcl command to associate with the button. This command is typically invoked when mouse button 1 is released over the button window.\n",
    "    \n",
    "    state - Specifies one of three states for the button: normal, active, or disabled.\n",
    "    \n",
    "[more detail](https://tcl.tk/man/tcl8.6/TkCmd/options.htm)"
   ]
  },
  {
   "cell_type": "code",
   "execution_count": 1,
   "id": "8508fb97",
   "metadata": {},
   "outputs": [],
   "source": [
    "import tkinter as tk\n",
    "num = 0\n",
    "def Addfn():\n",
    "    global num\n",
    "    num += 1\n",
    "    lblNum[\"text\"] = str(num)\n",
    "    if (num > 0):\n",
    "        btnClear[\"state\"] = \"normal\"\n",
    "        \n",
    "def Clearfn():\n",
    "    global num\n",
    "    num = 0\n",
    "    lblNum[\"text\"] = str(num)\n",
    "    btnClear[\"state\"] = \"disabled\"\n",
    "   \n",
    "window = tk.Tk()\n",
    "window.geometry(\"300x200\") # set the window size\n",
    "window.title(\"counter\") # set the window title\n",
    "window.configure(bg = \"white\") # window backgroud color\n",
    "lblTitle = tk.Label(window, text = \"Counter\", font = (\"Gadugi\", 16), fg = \"white\", bg = \"blue\") #set label\n",
    "lblNum = tk.Label(window, text = \"0\", font = (\"Gadugi\", 36)) # set number label\n",
    "btnAdd = tk.Button(window, text = \"+ 1\", pady = 5, padx = 10, command = Addfn) # set add button\n",
    "btnClear = tk.Button(window, text = \"Reset\", pady = 5, padx = 10, command = Clearfn, state = \"disabled\") # set clear button\n",
    "lblTitle.pack(pady = 10, fill = \"x\")\n",
    "lblNum.pack(pady = 20, fill = \"x\")\n",
    "btnAdd.pack(pady = 5, side = \"left\", fill = \"x\", expand = True)\n",
    "btnClear.pack(pady = 5, side = \"left\", fill = \"x\", expand = True)\n",
    "window.mainloop()"
   ]
  },
  {
   "cell_type": "code",
   "execution_count": null,
   "id": "e43da403",
   "metadata": {},
   "outputs": [],
   "source": []
  },
  {
   "cell_type": "code",
   "execution_count": null,
   "id": "722f9421",
   "metadata": {},
   "outputs": [],
   "source": []
  }
 ],
 "metadata": {
  "kernelspec": {
   "display_name": "Python 3 (ipykernel)",
   "language": "python",
   "name": "python3"
  },
  "language_info": {
   "codemirror_mode": {
    "name": "ipython",
    "version": 3
   },
   "file_extension": ".py",
   "mimetype": "text/x-python",
   "name": "python",
   "nbconvert_exporter": "python",
   "pygments_lexer": "ipython3",
   "version": "3.9.12"
  }
 },
 "nbformat": 4,
 "nbformat_minor": 5
}
