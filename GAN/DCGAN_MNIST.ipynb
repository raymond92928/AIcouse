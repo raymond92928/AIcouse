{
  "cells": [
    {
      "cell_type": "markdown",
      "metadata": {
        "id": "view-in-github",
        "colab_type": "text"
      },
      "source": [
        "<a href=\"https://colab.research.google.com/github/raymond92928/AIclass/blob/main/GAN/DCGAN_MNIST.ipynb\" target=\"_parent\"><img src=\"https://colab.research.google.com/assets/colab-badge.svg\" alt=\"Open In Colab\"/></a>"
      ]
    },
    {
      "cell_type": "markdown",
      "metadata": {
        "id": "rgG9tWZNL6OC"
      },
      "source": [
        "# Demo DCGAN, create handwrite number\n",
        "### reference: [DCGAN-MNIST-pytorch](https://github.com/Ksuryateja/DCGAN-MNIST-pytorch)"
      ]
    },
    {
      "cell_type": "markdown",
      "metadata": {
        "id": "qs9MEFodL6OE"
      },
      "source": [
        "## install module"
      ]
    },
    {
      "cell_type": "code",
      "source": [
        "!pip install torchmetrics"
      ],
      "metadata": {
        "colab": {
          "base_uri": "https://localhost:8080/"
        },
        "id": "S2hfGq9kM6Q2",
        "outputId": "b90f0f11-af41-4abb-a9e1-d0b58de6dbde"
      },
      "execution_count": null,
      "outputs": [
        {
          "output_type": "stream",
          "name": "stdout",
          "text": [
            "Collecting torchmetrics\n",
            "  Downloading torchmetrics-1.1.0-py3-none-any.whl (761 kB)\n",
            "\u001b[?25l     \u001b[90m━━━━━━━━━━━━━━━━━━━━━━━━━━━━━━━━━━━━━━━━\u001b[0m \u001b[32m0.0/761.3 kB\u001b[0m \u001b[31m?\u001b[0m eta \u001b[36m-:--:--\u001b[0m\r\u001b[2K     \u001b[91m━━━━━━━\u001b[0m\u001b[90m╺\u001b[0m\u001b[90m━━━━━━━━━━━━━━━━━━━━━━━━━━━━━━━\u001b[0m \u001b[32m143.4/761.3 kB\u001b[0m \u001b[31m4.2 MB/s\u001b[0m eta \u001b[36m0:00:01\u001b[0m\r\u001b[2K     \u001b[91m━━━━━━━━━━━━━━━━━━━━━━━━\u001b[0m\u001b[91m╸\u001b[0m\u001b[90m━━━━━━━━━━━━━━\u001b[0m \u001b[32m481.3/761.3 kB\u001b[0m \u001b[31m6.9 MB/s\u001b[0m eta \u001b[36m0:00:01\u001b[0m\r\u001b[2K     \u001b[90m━━━━━━━━━━━━━━━━━━━━━━━━━━━━━━━━━━━━━━━\u001b[0m \u001b[32m761.3/761.3 kB\u001b[0m \u001b[31m7.3 MB/s\u001b[0m eta \u001b[36m0:00:00\u001b[0m\n",
            "\u001b[?25hRequirement already satisfied: numpy>1.20.0 in /usr/local/lib/python3.10/dist-packages (from torchmetrics) (1.23.5)\n",
            "Requirement already satisfied: torch>=1.8.1 in /usr/local/lib/python3.10/dist-packages (from torchmetrics) (2.0.1+cu118)\n",
            "Requirement already satisfied: packaging in /usr/local/lib/python3.10/dist-packages (from torchmetrics) (23.1)\n",
            "Collecting lightning-utilities>=0.8.0 (from torchmetrics)\n",
            "  Downloading lightning_utilities-0.9.0-py3-none-any.whl (23 kB)\n",
            "Requirement already satisfied: typing-extensions in /usr/local/lib/python3.10/dist-packages (from lightning-utilities>=0.8.0->torchmetrics) (4.7.1)\n",
            "Requirement already satisfied: filelock in /usr/local/lib/python3.10/dist-packages (from torch>=1.8.1->torchmetrics) (3.12.2)\n",
            "Requirement already satisfied: sympy in /usr/local/lib/python3.10/dist-packages (from torch>=1.8.1->torchmetrics) (1.12)\n",
            "Requirement already satisfied: networkx in /usr/local/lib/python3.10/dist-packages (from torch>=1.8.1->torchmetrics) (3.1)\n",
            "Requirement already satisfied: jinja2 in /usr/local/lib/python3.10/dist-packages (from torch>=1.8.1->torchmetrics) (3.1.2)\n",
            "Requirement already satisfied: triton==2.0.0 in /usr/local/lib/python3.10/dist-packages (from torch>=1.8.1->torchmetrics) (2.0.0)\n",
            "Requirement already satisfied: cmake in /usr/local/lib/python3.10/dist-packages (from triton==2.0.0->torch>=1.8.1->torchmetrics) (3.27.2)\n",
            "Requirement already satisfied: lit in /usr/local/lib/python3.10/dist-packages (from triton==2.0.0->torch>=1.8.1->torchmetrics) (16.0.6)\n",
            "Requirement already satisfied: MarkupSafe>=2.0 in /usr/local/lib/python3.10/dist-packages (from jinja2->torch>=1.8.1->torchmetrics) (2.1.3)\n",
            "Requirement already satisfied: mpmath>=0.19 in /usr/local/lib/python3.10/dist-packages (from sympy->torch>=1.8.1->torchmetrics) (1.3.0)\n",
            "Installing collected packages: lightning-utilities, torchmetrics\n",
            "Successfully installed lightning-utilities-0.9.0 torchmetrics-1.1.0\n"
          ]
        }
      ]
    },
    {
      "cell_type": "markdown",
      "source": [
        "## Grant access to google drive"
      ],
      "metadata": {
        "id": "oxSw5DJHj5ky"
      }
    },
    {
      "cell_type": "code",
      "source": [
        "from google.colab import drive\n",
        "drive.mount('/content/gdrive')"
      ],
      "metadata": {
        "colab": {
          "base_uri": "https://localhost:8080/"
        },
        "id": "hvbS8VX5OZ5n",
        "outputId": "2a0ecc1e-05af-4c52-ce1d-b548296768a5"
      },
      "execution_count": null,
      "outputs": [
        {
          "output_type": "stream",
          "name": "stdout",
          "text": [
            "Mounted at /content/gdrive\n"
          ]
        }
      ]
    },
    {
      "cell_type": "code",
      "source": [
        "!ls /content/gdrive/MyDrive/Colab"
      ],
      "metadata": {
        "colab": {
          "base_uri": "https://localhost:8080/"
        },
        "id": "-tHsPeLmPm0P",
        "outputId": "d5a96f4f-fa90-45ac-b47b-c03aecaf823c"
      },
      "execution_count": null,
      "outputs": [
        {
          "output_type": "stream",
          "name": "stdout",
          "text": [
            " 1.png\n",
            " Colab\n",
            " CopySharedFloder\n",
            "'New Text Document.txt'\n",
            " PUICHING\n",
            " python_coding\n",
            " Test.py\n",
            " timetable.pdf\n",
            "'Untitled document.gdoc'\n",
            "'Untitled presentation.gslides'\n",
            " 上課圖片\n",
            " 加法原理和乘法原理ThePrincipleOfAdditionAndMultiplication.pdf\n",
            "'答題紙 (1).7z'\n",
            " 答題紙.7z\n",
            " 駝背機\n"
          ]
        }
      ]
    },
    {
      "cell_type": "code",
      "execution_count": null,
      "metadata": {
        "id": "T3q8lZ8oL6OE"
      },
      "outputs": [],
      "source": [
        "import os\n",
        "import torch\n",
        "from torch import nn\n",
        "from torch.nn import functional as F\n",
        "from torch.utils.data import DataLoader, random_split\n",
        "from torchmetrics import Accuracy\n",
        "from torchvision import transforms\n",
        "from torchvision.datasets import MNIST\n",
        "from torchvision import utils as vutils"
      ]
    },
    {
      "cell_type": "markdown",
      "metadata": {
        "id": "TRXHeQfwL6OF"
      },
      "source": [
        "## Parameter setting"
      ]
    },
    {
      "cell_type": "code",
      "execution_count": null,
      "metadata": {
        "id": "9Kip-5RvL6OF",
        "outputId": "beea3886-d341-4c47-c076-220df7ce23fe",
        "colab": {
          "base_uri": "https://localhost:8080/",
          "height": 35
        }
      },
      "outputs": [
        {
          "output_type": "execute_result",
          "data": {
            "text/plain": [
              "'cuda'"
            ],
            "application/vnd.google.colaboratory.intrinsic+json": {
              "type": "string"
            }
          },
          "metadata": {},
          "execution_count": 3
        }
      ],
      "source": [
        "PATH_DATASETS = \"\" # Default path\n",
        "BATCH_SIZE = 64  # batch\n",
        "device = torch.device(\"cuda\" if torch.cuda.is_available() else \"cpu\")\n",
        "\"cuda\" if torch.cuda.is_available() else \"cpu\""
      ]
    },
    {
      "cell_type": "markdown",
      "metadata": {
        "id": "edIjy1RxL6OG"
      },
      "source": [
        "## Load MNIST handwritten Arabic numeral data"
      ]
    },
    {
      "cell_type": "code",
      "execution_count": null,
      "metadata": {
        "id": "02At3M-TL6OG",
        "outputId": "3d42ea51-579d-47e9-a230-ceb7b50c70cc",
        "colab": {
          "base_uri": "https://localhost:8080/"
        }
      },
      "outputs": [
        {
          "output_type": "stream",
          "name": "stdout",
          "text": [
            "Downloading http://yann.lecun.com/exdb/mnist/train-images-idx3-ubyte.gz\n",
            "Downloading http://yann.lecun.com/exdb/mnist/train-images-idx3-ubyte.gz to MNIST/raw/train-images-idx3-ubyte.gz\n"
          ]
        },
        {
          "output_type": "stream",
          "name": "stderr",
          "text": [
            "100%|██████████| 9912422/9912422 [00:00<00:00, 171235806.08it/s]"
          ]
        },
        {
          "output_type": "stream",
          "name": "stdout",
          "text": [
            "Extracting MNIST/raw/train-images-idx3-ubyte.gz to MNIST/raw\n"
          ]
        },
        {
          "output_type": "stream",
          "name": "stderr",
          "text": [
            "\n"
          ]
        },
        {
          "output_type": "stream",
          "name": "stdout",
          "text": [
            "\n",
            "Downloading http://yann.lecun.com/exdb/mnist/train-labels-idx1-ubyte.gz\n",
            "Downloading http://yann.lecun.com/exdb/mnist/train-labels-idx1-ubyte.gz to MNIST/raw/train-labels-idx1-ubyte.gz\n"
          ]
        },
        {
          "output_type": "stream",
          "name": "stderr",
          "text": [
            "100%|██████████| 28881/28881 [00:00<00:00, 27675506.93it/s]\n"
          ]
        },
        {
          "output_type": "stream",
          "name": "stdout",
          "text": [
            "Extracting MNIST/raw/train-labels-idx1-ubyte.gz to MNIST/raw\n",
            "\n",
            "Downloading http://yann.lecun.com/exdb/mnist/t10k-images-idx3-ubyte.gz\n",
            "Downloading http://yann.lecun.com/exdb/mnist/t10k-images-idx3-ubyte.gz to MNIST/raw/t10k-images-idx3-ubyte.gz\n"
          ]
        },
        {
          "output_type": "stream",
          "name": "stderr",
          "text": [
            "100%|██████████| 1648877/1648877 [00:00<00:00, 26552808.50it/s]\n"
          ]
        },
        {
          "output_type": "stream",
          "name": "stdout",
          "text": [
            "Extracting MNIST/raw/t10k-images-idx3-ubyte.gz to MNIST/raw\n",
            "\n",
            "Downloading http://yann.lecun.com/exdb/mnist/t10k-labels-idx1-ubyte.gz\n",
            "Downloading http://yann.lecun.com/exdb/mnist/t10k-labels-idx1-ubyte.gz to MNIST/raw/t10k-labels-idx1-ubyte.gz\n"
          ]
        },
        {
          "output_type": "stream",
          "name": "stderr",
          "text": [
            "100%|██████████| 4542/4542 [00:00<00:00, 18861909.67it/s]\n"
          ]
        },
        {
          "output_type": "stream",
          "name": "stdout",
          "text": [
            "Extracting MNIST/raw/t10k-labels-idx1-ubyte.gz to MNIST/raw\n",
            "\n",
            "torch.Size([60000, 28, 28])\n"
          ]
        }
      ],
      "source": [
        "# 轉換\n",
        "transform=transforms.Compose([\n",
        "   transforms.Resize(28),\n",
        "   transforms.ToTensor(),\n",
        "   transforms.Normalize((0.5,), (0.5,)),\n",
        "])\n",
        "\n",
        "# 下載 MNIST 手寫阿拉伯數字 訓練資料\n",
        "dataset = MNIST(PATH_DATASETS, train=True, download=True,\n",
        "                 transform=transform)\n",
        "dataloader = torch.utils.data.DataLoader(dataset\n",
        "                   , batch_size=BATCH_SIZE, shuffle=True)\n",
        "\n",
        "# 訓練資料的維度\n",
        "print(dataset.data.shape)"
      ]
    },
    {
      "cell_type": "markdown",
      "metadata": {
        "id": "hi31okNML6OG"
      },
      "source": [
        "## Define neural network parameters"
      ]
    },
    {
      "cell_type": "code",
      "execution_count": null,
      "metadata": {
        "id": "EvFcOZA8L6OH"
      },
      "outputs": [],
      "source": [
        "nz = 100  # 生成神經網路雜訊維度\n",
        "ngf = 64  # 生成神經網路濾波器個數\n",
        "ndf = 64  # 判別神經網路濾波器個數"
      ]
    },
    {
      "cell_type": "markdown",
      "metadata": {
        "id": "kxcYtDpSL6OH"
      },
      "source": [
        "## Neural network weight initial value"
      ]
    },
    {
      "cell_type": "code",
      "execution_count": null,
      "metadata": {
        "id": "0ICs2CavL6OH"
      },
      "outputs": [],
      "source": [
        "def weights_init(m):\n",
        "    classname = m.__class__.__name__\n",
        "    if classname.find('Conv') != -1:\n",
        "        m.weight.data.normal_(0.0, 0.02) # 卷積層權重初始值\n",
        "    elif classname.find('BatchNorm') != -1:\n",
        "        m.weight.data.normal_(1.0, 0.02) # Batch Normalization 層權重初始值\n",
        "        m.bias.data.fill_(0)"
      ]
    },
    {
      "cell_type": "markdown",
      "metadata": {
        "id": "gOPQur7wL6OH"
      },
      "source": [
        "## Define generative neural network"
      ]
    },
    {
      "cell_type": "code",
      "execution_count": null,
      "metadata": {
        "id": "f5O5F9gEL6OI",
        "outputId": "2fb9c4c9-f4e7-4bc2-beb7-d07b840fc4ba",
        "colab": {
          "base_uri": "https://localhost:8080/"
        }
      },
      "outputs": [
        {
          "output_type": "execute_result",
          "data": {
            "text/plain": [
              "Generator(\n",
              "  (main): Sequential(\n",
              "    (0): ConvTranspose2d(100, 512, kernel_size=(4, 4), stride=(1, 1), bias=False)\n",
              "    (1): BatchNorm2d(512, eps=1e-05, momentum=0.1, affine=True, track_running_stats=True)\n",
              "    (2): ReLU(inplace=True)\n",
              "    (3): ConvTranspose2d(512, 256, kernel_size=(4, 4), stride=(2, 2), padding=(1, 1), bias=False)\n",
              "    (4): BatchNorm2d(256, eps=1e-05, momentum=0.1, affine=True, track_running_stats=True)\n",
              "    (5): ReLU(inplace=True)\n",
              "    (6): ConvTranspose2d(256, 128, kernel_size=(4, 4), stride=(2, 2), padding=(1, 1), bias=False)\n",
              "    (7): BatchNorm2d(128, eps=1e-05, momentum=0.1, affine=True, track_running_stats=True)\n",
              "    (8): ReLU(inplace=True)\n",
              "    (9): ConvTranspose2d(128, 64, kernel_size=(4, 4), stride=(2, 2), padding=(1, 1), bias=False)\n",
              "    (10): BatchNorm2d(64, eps=1e-05, momentum=0.1, affine=True, track_running_stats=True)\n",
              "    (11): ReLU(inplace=True)\n",
              "    (12): ConvTranspose2d(64, 1, kernel_size=(1, 1), stride=(1, 1), padding=(2, 2), bias=False)\n",
              "    (13): Tanh()\n",
              "  )\n",
              ")"
            ]
          },
          "metadata": {},
          "execution_count": 7
        }
      ],
      "source": [
        "class Generator(nn.Module):\n",
        "    def __init__(self, nc=1, nz=100, ngf=64):\n",
        "        super(Generator, self).__init__()\n",
        "        self.main = nn.Sequential(\n",
        "            # input is Z, going into a convolution\n",
        "            nn.ConvTranspose2d(nz, ngf * 8, 4, 1, 0, bias=False),\n",
        "            nn.BatchNorm2d(ngf * 8),\n",
        "            nn.ReLU(True),\n",
        "            # state size. (ngf*8) x 4 x 4\n",
        "            nn.ConvTranspose2d(ngf * 8, ngf * 4, 4, 2, 1, bias=False),\n",
        "            nn.BatchNorm2d(ngf * 4),\n",
        "            nn.ReLU(True),\n",
        "            # state size. (ngf*4) x 8 x 8\n",
        "            nn.ConvTranspose2d(ngf * 4, ngf * 2, 4, 2, 1, bias=False),\n",
        "            nn.BatchNorm2d(ngf * 2),\n",
        "            nn.ReLU(True),\n",
        "            # state size. (ngf*2) x 16 x 16\n",
        "            nn.ConvTranspose2d(ngf * 2, ngf, 4, 2, 1, bias=False),\n",
        "            nn.BatchNorm2d(ngf),\n",
        "            nn.ReLU(True),\n",
        "            nn.ConvTranspose2d(ngf, nc, kernel_size=1,\n",
        "                               stride=1, padding=2, bias=False),\n",
        "            nn.Tanh()\n",
        "        )\n",
        "\n",
        "    def forward(self, input):\n",
        "        output = self.main(input)\n",
        "        return output\n",
        "\n",
        "netG = Generator().to(device)\n",
        "netG.apply(weights_init)"
      ]
    },
    {
      "cell_type": "markdown",
      "metadata": {
        "id": "vi6AedZrL6OI"
      },
      "source": [
        "## Define discriminative neural network"
      ]
    },
    {
      "cell_type": "code",
      "execution_count": null,
      "metadata": {
        "id": "c8eupTfML6OI",
        "outputId": "7c8c063a-23cf-492f-8517-d6e74dd2134e",
        "colab": {
          "base_uri": "https://localhost:8080/"
        }
      },
      "outputs": [
        {
          "output_type": "execute_result",
          "data": {
            "text/plain": [
              "Discriminator(\n",
              "  (main): Sequential(\n",
              "    (0): Conv2d(1, 64, kernel_size=(4, 4), stride=(2, 2), padding=(1, 1), bias=False)\n",
              "    (1): LeakyReLU(negative_slope=0.2, inplace=True)\n",
              "    (2): Conv2d(64, 128, kernel_size=(4, 4), stride=(2, 2), padding=(1, 1), bias=False)\n",
              "    (3): BatchNorm2d(128, eps=1e-05, momentum=0.1, affine=True, track_running_stats=True)\n",
              "    (4): LeakyReLU(negative_slope=0.2, inplace=True)\n",
              "    (5): Conv2d(128, 256, kernel_size=(4, 4), stride=(2, 2), padding=(1, 1), bias=False)\n",
              "    (6): BatchNorm2d(256, eps=1e-05, momentum=0.1, affine=True, track_running_stats=True)\n",
              "    (7): LeakyReLU(negative_slope=0.2, inplace=True)\n",
              "    (8): Conv2d(256, 1, kernel_size=(4, 4), stride=(2, 2), padding=(1, 1), bias=False)\n",
              "    (9): Sigmoid()\n",
              "  )\n",
              ")"
            ]
          },
          "metadata": {},
          "execution_count": 8
        }
      ],
      "source": [
        "class Discriminator(nn.Module):\n",
        "    def __init__(self, nc=1, ndf=64):\n",
        "        super(Discriminator, self).__init__()\n",
        "        self.main = nn.Sequential(\n",
        "            # input is (nc) x 64 x 64\n",
        "            nn.Conv2d(nc, ndf, 4, 2, 1, bias=False),\n",
        "            nn.LeakyReLU(0.2, inplace=True),\n",
        "            # state size. (ndf) x 32 x 32\n",
        "            nn.Conv2d(ndf, ndf * 2, 4, 2, 1, bias=False),\n",
        "            nn.BatchNorm2d(ndf * 2),\n",
        "            nn.LeakyReLU(0.2, inplace=True),\n",
        "            # state size. (ndf*2) x 16 x 16\n",
        "            nn.Conv2d(ndf * 2, ndf * 4, 4, 2, 1, bias=False),\n",
        "            nn.BatchNorm2d(ndf * 4),\n",
        "            nn.LeakyReLU(0.2, inplace=True),\n",
        "            # state size. (ndf*4) x 8 x 8\n",
        "            nn.Conv2d(ndf * 4, 1, 4, 2, 1, bias=False),\n",
        "            nn.Sigmoid()\n",
        "        )\n",
        "\n",
        "    def forward(self, input):\n",
        "        output = self.main(input)\n",
        "        return output.view(-1, 1).squeeze(1)\n",
        "\n",
        "netD = Discriminator().to(device)\n",
        "netD.apply(weights_init)"
      ]
    },
    {
      "cell_type": "markdown",
      "metadata": {
        "id": "PmmONEiyL6OI"
      },
      "source": [
        "## Set loss function and optimizer"
      ]
    },
    {
      "cell_type": "code",
      "execution_count": null,
      "metadata": {
        "id": "4ouZuXp8L6OI"
      },
      "outputs": [],
      "source": [
        "# 設定損失函數\n",
        "criterion = nn.BCELoss()\n",
        "\n",
        "# 設定優化器(optimizer)\n",
        "optimizerD = torch.optim.Adam(netD.parameters(), lr=0.0002, betas=(0.5, 0.999))\n",
        "optimizerG = torch.optim.Adam(netG.parameters(), lr=0.0002, betas=(0.5, 0.999))"
      ]
    },
    {
      "cell_type": "markdown",
      "metadata": {
        "id": "JwZfOTqDL6OI"
      },
      "source": [
        "## Perform model training"
      ]
    },
    {
      "cell_type": "code",
      "execution_count": null,
      "metadata": {
        "scrolled": true,
        "id": "txRXCxM9L6OJ",
        "outputId": "ddf327a9-fdc8-4806-c8fb-4cfe7d0f9cf5",
        "colab": {
          "base_uri": "https://localhost:8080/"
        }
      },
      "outputs": [
        {
          "output_type": "stream",
          "name": "stdout",
          "text": [
            "[1/25][0/938] Loss_D: 0.9175 Loss_G: 1.9695 D(x): 0.9080 D(G(z)): 0.5323 / 0.1620\n",
            "[1/25][200/938] Loss_D: 0.6096 Loss_G: 1.5033 D(x): 0.6259 D(G(z)): 0.0804 / 0.2502\n",
            "[1/25][400/938] Loss_D: 0.3098 Loss_G: 3.0089 D(x): 0.8859 D(G(z)): 0.1592 / 0.0634\n",
            "[1/25][600/938] Loss_D: 0.8179 Loss_G: 2.8364 D(x): 0.9012 D(G(z)): 0.4751 / 0.0728\n",
            "[1/25][800/938] Loss_D: 0.9105 Loss_G: 0.7907 D(x): 0.4778 D(G(z)): 0.0877 / 0.4747\n",
            "[2/25][0/938] Loss_D: 0.7518 Loss_G: 1.4892 D(x): 0.6695 D(G(z)): 0.2583 / 0.2557\n",
            "[2/25][200/938] Loss_D: 0.7615 Loss_G: 1.4877 D(x): 0.6907 D(G(z)): 0.2934 / 0.2490\n",
            "[2/25][400/938] Loss_D: 0.8690 Loss_G: 1.4336 D(x): 0.6388 D(G(z)): 0.3076 / 0.2562\n",
            "[2/25][600/938] Loss_D: 0.7901 Loss_G: 1.3108 D(x): 0.6303 D(G(z)): 0.2343 / 0.2994\n",
            "[2/25][800/938] Loss_D: 0.8969 Loss_G: 1.3197 D(x): 0.6823 D(G(z)): 0.3572 / 0.2920\n",
            "[3/25][0/938] Loss_D: 0.8261 Loss_G: 1.4577 D(x): 0.6219 D(G(z)): 0.2480 / 0.2680\n",
            "[3/25][200/938] Loss_D: 0.7758 Loss_G: 1.5789 D(x): 0.7500 D(G(z)): 0.3479 / 0.2368\n",
            "[3/25][400/938] Loss_D: 1.0716 Loss_G: 1.4424 D(x): 0.6545 D(G(z)): 0.4321 / 0.2654\n",
            "[3/25][600/938] Loss_D: 0.9482 Loss_G: 1.3110 D(x): 0.6028 D(G(z)): 0.3049 / 0.3039\n",
            "[3/25][800/938] Loss_D: 0.7327 Loss_G: 1.5379 D(x): 0.6892 D(G(z)): 0.2679 / 0.2481\n",
            "[4/25][0/938] Loss_D: 1.1048 Loss_G: 1.2232 D(x): 0.5651 D(G(z)): 0.3365 / 0.3379\n",
            "[4/25][200/938] Loss_D: 0.9304 Loss_G: 1.3706 D(x): 0.6380 D(G(z)): 0.3321 / 0.2927\n",
            "[4/25][400/938] Loss_D: 1.2442 Loss_G: 0.9525 D(x): 0.5697 D(G(z)): 0.4159 / 0.4194\n",
            "[4/25][600/938] Loss_D: 1.0850 Loss_G: 2.1689 D(x): 0.7293 D(G(z)): 0.4854 / 0.1430\n",
            "[4/25][800/938] Loss_D: 1.3163 Loss_G: 1.7513 D(x): 0.8109 D(G(z)): 0.6011 / 0.2140\n",
            "[5/25][0/938] Loss_D: 0.9990 Loss_G: 1.3479 D(x): 0.5942 D(G(z)): 0.3219 / 0.2999\n",
            "[5/25][200/938] Loss_D: 0.8640 Loss_G: 1.7531 D(x): 0.6582 D(G(z)): 0.3200 / 0.1998\n",
            "[5/25][400/938] Loss_D: 1.0521 Loss_G: 1.5794 D(x): 0.6831 D(G(z)): 0.4503 / 0.2257\n",
            "[5/25][600/938] Loss_D: 1.1472 Loss_G: 1.2845 D(x): 0.5472 D(G(z)): 0.3598 / 0.3129\n",
            "[5/25][800/938] Loss_D: 1.1645 Loss_G: 1.1211 D(x): 0.5328 D(G(z)): 0.3562 / 0.3676\n",
            "[6/25][0/938] Loss_D: 1.0792 Loss_G: 1.1455 D(x): 0.5515 D(G(z)): 0.3336 / 0.3527\n",
            "[6/25][200/938] Loss_D: 1.4748 Loss_G: 0.6918 D(x): 0.3411 D(G(z)): 0.2417 / 0.5253\n",
            "[6/25][400/938] Loss_D: 1.0200 Loss_G: 1.3831 D(x): 0.5026 D(G(z)): 0.2085 / 0.2796\n",
            "[6/25][600/938] Loss_D: 1.4097 Loss_G: 1.0510 D(x): 0.4142 D(G(z)): 0.3235 / 0.3792\n",
            "[6/25][800/938] Loss_D: 1.1608 Loss_G: 1.6833 D(x): 0.7230 D(G(z)): 0.5186 / 0.2174\n",
            "[7/25][0/938] Loss_D: 1.4534 Loss_G: 2.5248 D(x): 0.8722 D(G(z)): 0.6845 / 0.1009\n",
            "[7/25][200/938] Loss_D: 0.9328 Loss_G: 1.5616 D(x): 0.6747 D(G(z)): 0.3779 / 0.2319\n",
            "[7/25][400/938] Loss_D: 1.1012 Loss_G: 1.3819 D(x): 0.5559 D(G(z)): 0.3537 / 0.2841\n",
            "[7/25][600/938] Loss_D: 1.1114 Loss_G: 1.9347 D(x): 0.7977 D(G(z)): 0.5529 / 0.1643\n",
            "[7/25][800/938] Loss_D: 1.0092 Loss_G: 1.3118 D(x): 0.5682 D(G(z)): 0.2979 / 0.3048\n",
            "[8/25][0/938] Loss_D: 1.1119 Loss_G: 1.2510 D(x): 0.5760 D(G(z)): 0.3701 / 0.3255\n",
            "[8/25][200/938] Loss_D: 0.9744 Loss_G: 1.5352 D(x): 0.6648 D(G(z)): 0.3780 / 0.2520\n",
            "[8/25][400/938] Loss_D: 0.8980 Loss_G: 1.3676 D(x): 0.5547 D(G(z)): 0.2094 / 0.2918\n",
            "[8/25][600/938] Loss_D: 1.0959 Loss_G: 1.4430 D(x): 0.7067 D(G(z)): 0.4855 / 0.2611\n",
            "[8/25][800/938] Loss_D: 0.9967 Loss_G: 1.0081 D(x): 0.5261 D(G(z)): 0.2459 / 0.3967\n",
            "[9/25][0/938] Loss_D: 1.0708 Loss_G: 1.9800 D(x): 0.8055 D(G(z)): 0.5361 / 0.1606\n",
            "[9/25][200/938] Loss_D: 0.9475 Loss_G: 0.8169 D(x): 0.5381 D(G(z)): 0.2153 / 0.4683\n",
            "[9/25][400/938] Loss_D: 1.2645 Loss_G: 1.0621 D(x): 0.5600 D(G(z)): 0.4341 / 0.3735\n",
            "[9/25][600/938] Loss_D: 1.0287 Loss_G: 1.7914 D(x): 0.7700 D(G(z)): 0.4967 / 0.1827\n",
            "[9/25][800/938] Loss_D: 1.0644 Loss_G: 0.9454 D(x): 0.4945 D(G(z)): 0.1915 / 0.4423\n",
            "[10/25][0/938] Loss_D: 0.9750 Loss_G: 1.9677 D(x): 0.7318 D(G(z)): 0.4277 / 0.1733\n",
            "[10/25][200/938] Loss_D: 1.1019 Loss_G: 0.7946 D(x): 0.4853 D(G(z)): 0.2488 / 0.4870\n",
            "[10/25][400/938] Loss_D: 1.0825 Loss_G: 1.0873 D(x): 0.5276 D(G(z)): 0.2906 / 0.3689\n",
            "[10/25][600/938] Loss_D: 0.9971 Loss_G: 1.2257 D(x): 0.5211 D(G(z)): 0.2356 / 0.3405\n",
            "[10/25][800/938] Loss_D: 0.8863 Loss_G: 1.9303 D(x): 0.6932 D(G(z)): 0.3582 / 0.1691\n",
            "[11/25][0/938] Loss_D: 0.9682 Loss_G: 1.4151 D(x): 0.5503 D(G(z)): 0.2443 / 0.2843\n",
            "[11/25][200/938] Loss_D: 0.8480 Loss_G: 1.7371 D(x): 0.7016 D(G(z)): 0.3372 / 0.2125\n",
            "[11/25][400/938] Loss_D: 0.9462 Loss_G: 1.6754 D(x): 0.6111 D(G(z)): 0.2908 / 0.2248\n",
            "[11/25][600/938] Loss_D: 1.0899 Loss_G: 1.5702 D(x): 0.7019 D(G(z)): 0.4668 / 0.2399\n",
            "[11/25][800/938] Loss_D: 1.1873 Loss_G: 1.3188 D(x): 0.5182 D(G(z)): 0.3029 / 0.3020\n",
            "[12/25][0/938] Loss_D: 1.1363 Loss_G: 1.5752 D(x): 0.6416 D(G(z)): 0.4367 / 0.2389\n",
            "[12/25][200/938] Loss_D: 0.9925 Loss_G: 1.1349 D(x): 0.5459 D(G(z)): 0.2655 / 0.3645\n",
            "[12/25][400/938] Loss_D: 0.8266 Loss_G: 1.2564 D(x): 0.6750 D(G(z)): 0.2939 / 0.3176\n",
            "[12/25][600/938] Loss_D: 1.3079 Loss_G: 1.5366 D(x): 0.6434 D(G(z)): 0.5271 / 0.2438\n",
            "[12/25][800/938] Loss_D: 1.1464 Loss_G: 1.7602 D(x): 0.6515 D(G(z)): 0.4504 / 0.2026\n",
            "[13/25][0/938] Loss_D: 0.6626 Loss_G: 1.6181 D(x): 0.6642 D(G(z)): 0.1923 / 0.2344\n",
            "[13/25][200/938] Loss_D: 0.9402 Loss_G: 1.8809 D(x): 0.7384 D(G(z)): 0.4206 / 0.1812\n",
            "[13/25][400/938] Loss_D: 1.0128 Loss_G: 1.2514 D(x): 0.5789 D(G(z)): 0.3205 / 0.3216\n",
            "[13/25][600/938] Loss_D: 0.8205 Loss_G: 1.7082 D(x): 0.6603 D(G(z)): 0.2915 / 0.2073\n",
            "[13/25][800/938] Loss_D: 0.8448 Loss_G: 1.8603 D(x): 0.6674 D(G(z)): 0.3021 / 0.1827\n",
            "[14/25][0/938] Loss_D: 1.1879 Loss_G: 0.9246 D(x): 0.4635 D(G(z)): 0.2435 / 0.4364\n",
            "[14/25][200/938] Loss_D: 0.8848 Loss_G: 1.4377 D(x): 0.6697 D(G(z)): 0.3306 / 0.2708\n",
            "[14/25][400/938] Loss_D: 0.8660 Loss_G: 2.7439 D(x): 0.7996 D(G(z)): 0.4164 / 0.0906\n",
            "[14/25][600/938] Loss_D: 0.8873 Loss_G: 2.1622 D(x): 0.7170 D(G(z)): 0.3743 / 0.1426\n",
            "[14/25][800/938] Loss_D: 0.9774 Loss_G: 1.8320 D(x): 0.8132 D(G(z)): 0.4919 / 0.1905\n",
            "[15/25][0/938] Loss_D: 1.1483 Loss_G: 1.6897 D(x): 0.6519 D(G(z)): 0.4444 / 0.2129\n",
            "[15/25][200/938] Loss_D: 0.9459 Loss_G: 1.1417 D(x): 0.5158 D(G(z)): 0.1817 / 0.3593\n",
            "[15/25][400/938] Loss_D: 1.2194 Loss_G: 2.3935 D(x): 0.8461 D(G(z)): 0.5809 / 0.1206\n",
            "[15/25][600/938] Loss_D: 0.9803 Loss_G: 1.4885 D(x): 0.6514 D(G(z)): 0.3630 / 0.2645\n",
            "[15/25][800/938] Loss_D: 0.8612 Loss_G: 1.6624 D(x): 0.7201 D(G(z)): 0.3646 / 0.2377\n",
            "[16/25][0/938] Loss_D: 1.2544 Loss_G: 1.1441 D(x): 0.5138 D(G(z)): 0.3770 / 0.3620\n",
            "[16/25][200/938] Loss_D: 1.0444 Loss_G: 1.2306 D(x): 0.5592 D(G(z)): 0.3043 / 0.3380\n",
            "[16/25][400/938] Loss_D: 0.9925 Loss_G: 1.6119 D(x): 0.6650 D(G(z)): 0.3681 / 0.2308\n",
            "[16/25][600/938] Loss_D: 0.8537 Loss_G: 1.1454 D(x): 0.5973 D(G(z)): 0.2131 / 0.3661\n",
            "[16/25][800/938] Loss_D: 0.8390 Loss_G: 1.7715 D(x): 0.7430 D(G(z)): 0.3684 / 0.2015\n",
            "[17/25][0/938] Loss_D: 0.9114 Loss_G: 1.6650 D(x): 0.7030 D(G(z)): 0.3811 / 0.2152\n",
            "[17/25][200/938] Loss_D: 0.9131 Loss_G: 1.5923 D(x): 0.6618 D(G(z)): 0.3358 / 0.2416\n",
            "[17/25][400/938] Loss_D: 0.8485 Loss_G: 2.0344 D(x): 0.7052 D(G(z)): 0.3479 / 0.1616\n",
            "[17/25][600/938] Loss_D: 0.8640 Loss_G: 2.4019 D(x): 0.8190 D(G(z)): 0.4275 / 0.1177\n",
            "[17/25][800/938] Loss_D: 0.7715 Loss_G: 1.7889 D(x): 0.7513 D(G(z)): 0.3440 / 0.1947\n",
            "[18/25][0/938] Loss_D: 0.8435 Loss_G: 1.5417 D(x): 0.8164 D(G(z)): 0.4221 / 0.2496\n",
            "[18/25][200/938] Loss_D: 1.0512 Loss_G: 2.1170 D(x): 0.7380 D(G(z)): 0.4580 / 0.1460\n",
            "[18/25][400/938] Loss_D: 1.0401 Loss_G: 0.9469 D(x): 0.4998 D(G(z)): 0.2054 / 0.4404\n",
            "[18/25][600/938] Loss_D: 0.8795 Loss_G: 1.4250 D(x): 0.6187 D(G(z)): 0.2680 / 0.2776\n",
            "[18/25][800/938] Loss_D: 0.9799 Loss_G: 1.7208 D(x): 0.6998 D(G(z)): 0.4176 / 0.2067\n",
            "[19/25][0/938] Loss_D: 0.6874 Loss_G: 2.3924 D(x): 0.7330 D(G(z)): 0.2622 / 0.1234\n",
            "[19/25][200/938] Loss_D: 0.8994 Loss_G: 1.6753 D(x): 0.7504 D(G(z)): 0.4019 / 0.2267\n",
            "[19/25][400/938] Loss_D: 0.6716 Loss_G: 1.8367 D(x): 0.6755 D(G(z)): 0.1971 / 0.2009\n",
            "[19/25][600/938] Loss_D: 0.8831 Loss_G: 1.2767 D(x): 0.5667 D(G(z)): 0.1936 / 0.3344\n",
            "[19/25][800/938] Loss_D: 0.9464 Loss_G: 1.7735 D(x): 0.7379 D(G(z)): 0.4215 / 0.2012\n",
            "[20/25][0/938] Loss_D: 0.9514 Loss_G: 1.9420 D(x): 0.7872 D(G(z)): 0.4544 / 0.1774\n",
            "[20/25][200/938] Loss_D: 0.8055 Loss_G: 2.1371 D(x): 0.7589 D(G(z)): 0.3686 / 0.1349\n",
            "[20/25][400/938] Loss_D: 1.0169 Loss_G: 1.7127 D(x): 0.6936 D(G(z)): 0.4061 / 0.2241\n",
            "[20/25][600/938] Loss_D: 0.8592 Loss_G: 1.9806 D(x): 0.7817 D(G(z)): 0.4161 / 0.1648\n",
            "[20/25][800/938] Loss_D: 0.9808 Loss_G: 1.0218 D(x): 0.4787 D(G(z)): 0.1273 / 0.4079\n",
            "[21/25][0/938] Loss_D: 0.7348 Loss_G: 2.4930 D(x): 0.7207 D(G(z)): 0.2664 / 0.1142\n",
            "[21/25][200/938] Loss_D: 0.7633 Loss_G: 2.0973 D(x): 0.7815 D(G(z)): 0.3497 / 0.1523\n",
            "[21/25][400/938] Loss_D: 0.7460 Loss_G: 2.1816 D(x): 0.7742 D(G(z)): 0.3326 / 0.1474\n",
            "[21/25][600/938] Loss_D: 0.9429 Loss_G: 1.8482 D(x): 0.7722 D(G(z)): 0.4429 / 0.1848\n",
            "[21/25][800/938] Loss_D: 0.6816 Loss_G: 2.1710 D(x): 0.6750 D(G(z)): 0.2054 / 0.1504\n",
            "[22/25][0/938] Loss_D: 0.9520 Loss_G: 1.7541 D(x): 0.6438 D(G(z)): 0.3292 / 0.2073\n",
            "[22/25][200/938] Loss_D: 0.5366 Loss_G: 2.4873 D(x): 0.8392 D(G(z)): 0.2693 / 0.1061\n",
            "[22/25][400/938] Loss_D: 0.5608 Loss_G: 2.2743 D(x): 0.8463 D(G(z)): 0.2829 / 0.1374\n",
            "[22/25][600/938] Loss_D: 0.6968 Loss_G: 1.4691 D(x): 0.6822 D(G(z)): 0.2121 / 0.2610\n",
            "[22/25][800/938] Loss_D: 0.9147 Loss_G: 0.9035 D(x): 0.5961 D(G(z)): 0.2628 / 0.4417\n",
            "[23/25][0/938] Loss_D: 0.6913 Loss_G: 2.2198 D(x): 0.7635 D(G(z)): 0.2949 / 0.1479\n",
            "[23/25][200/938] Loss_D: 0.7154 Loss_G: 2.3136 D(x): 0.7627 D(G(z)): 0.3176 / 0.1222\n",
            "[23/25][400/938] Loss_D: 0.6254 Loss_G: 2.6097 D(x): 0.8076 D(G(z)): 0.2792 / 0.1128\n",
            "[23/25][600/938] Loss_D: 0.8416 Loss_G: 2.1446 D(x): 0.6478 D(G(z)): 0.2563 / 0.1597\n",
            "[23/25][800/938] Loss_D: 0.6921 Loss_G: 2.1460 D(x): 0.7694 D(G(z)): 0.2891 / 0.1506\n",
            "[24/25][0/938] Loss_D: 0.6771 Loss_G: 1.8063 D(x): 0.6648 D(G(z)): 0.1684 / 0.2366\n",
            "[24/25][200/938] Loss_D: 0.7577 Loss_G: 1.8523 D(x): 0.7567 D(G(z)): 0.3355 / 0.1928\n",
            "[24/25][400/938] Loss_D: 0.7514 Loss_G: 1.9747 D(x): 0.7582 D(G(z)): 0.3199 / 0.1707\n",
            "[24/25][600/938] Loss_D: 0.9651 Loss_G: 1.9154 D(x): 0.7992 D(G(z)): 0.4321 / 0.1821\n",
            "[24/25][800/938] Loss_D: 0.9115 Loss_G: 2.0369 D(x): 0.7023 D(G(z)): 0.3441 / 0.1611\n",
            "[25/25][0/938] Loss_D: 0.8128 Loss_G: 1.4601 D(x): 0.5904 D(G(z)): 0.1683 / 0.2780\n",
            "[25/25][200/938] Loss_D: 0.9244 Loss_G: 1.8187 D(x): 0.5834 D(G(z)): 0.2395 / 0.2102\n",
            "[25/25][400/938] Loss_D: 0.7265 Loss_G: 1.8473 D(x): 0.6815 D(G(z)): 0.2232 / 0.2033\n",
            "[25/25][600/938] Loss_D: 0.9690 Loss_G: 1.8852 D(x): 0.7759 D(G(z)): 0.4131 / 0.1996\n",
            "[25/25][800/938] Loss_D: 1.0934 Loss_G: 1.5548 D(x): 0.5456 D(G(z)): 0.2957 / 0.2522\n"
          ]
        }
      ],
      "source": [
        "fixed_noise = torch.randn(64, nz, 1, 1, device=device)\n",
        "real_label = 1.0\n",
        "fake_label = 0.0\n",
        "niter = 25\n",
        "# 模型訓練\n",
        "for epoch in range(niter):\n",
        "    for i, data in enumerate(dataloader, 0):\n",
        "        ########################################################\n",
        "        # (1) 判別神經網路: maximize log(D(x)) + log(1 - D(G(z)))\n",
        "        #######################################################\n",
        "        # 訓練真實資料\n",
        "        netD.zero_grad()\n",
        "        real_cpu = data[0].to(device)\n",
        "        batch_size = real_cpu.size(0)\n",
        "        label = torch.full((batch_size,), real_label, device=device)\n",
        "\n",
        "        output = netD(real_cpu)\n",
        "        errD_real = criterion(output, label)\n",
        "        errD_real.backward()\n",
        "        D_x = output.mean().item()\n",
        "\n",
        "        # 訓練假資料\n",
        "        noise = torch.randn(batch_size, nz, 1, 1, device=device)\n",
        "        fake = netG(noise)\n",
        "        label.fill_(fake_label)\n",
        "        output = netD(fake.detach())\n",
        "        errD_fake = criterion(output, label)\n",
        "        errD_fake.backward()\n",
        "        D_G_z1 = output.mean().item()\n",
        "        errD = errD_real + errD_fake\n",
        "        optimizerD.step()\n",
        "\n",
        "        ########################################################\n",
        "        # (2) 判別神經網路: maximize log(D(G(z)))\n",
        "        #######################################################\n",
        "        netG.zero_grad()\n",
        "        label.fill_(real_label)\n",
        "        output = netD(fake)\n",
        "        errG = criterion(output, label)\n",
        "        errG.backward()\n",
        "        D_G_z2 = output.mean().item()\n",
        "        optimizerG.step()\n",
        "        if i % 200 == 0:\n",
        "            print('[%d/%d][%d/%d] Loss_D: %.4f Loss_G: %.4f D(x): %.4f D(G(z)): %.4f / %.4f'\n",
        "                   % (epoch+1, niter, i, len(dataloader),\n",
        "                     errD.item(), errG.item(), D_x, D_G_z1, D_G_z2))\n",
        "            vutils.save_image(real_cpu,'/content/gdrive/MyDrive/Colab/gan_output/real_samples.png' ,normalize=True)\n",
        "            fake = netG(fixed_noise)\n",
        "            vutils.save_image(fake.detach(),'/content/gdrive/MyDrive/Colab/gan_output/fake_samples_epoch_%03d.png'\n",
        "                              % (epoch), normalize=True)\n",
        "    torch.save(netG.state_dict(), '/content/gdrive/MyDrive/Colab/gan_weights/netG_epoch_%d.pth' % (epoch))\n",
        "    torch.save(netD.state_dict(), '/content/gdrive/MyDrive/Colab/gan_weights/netD_epoch_%d.pth' % (epoch))"
      ]
    },
    {
      "cell_type": "markdown",
      "metadata": {
        "id": "cvhtSwI8L6OJ"
      },
      "source": [
        "## new data forecast"
      ]
    },
    {
      "cell_type": "code",
      "execution_count": null,
      "metadata": {
        "scrolled": true,
        "id": "GvkrlsHRL6OJ",
        "colab": {
          "base_uri": "https://localhost:8080/",
          "height": 406
        },
        "outputId": "c996220e-bb1f-4986-dafb-b56e5172f67d"
      },
      "outputs": [
        {
          "output_type": "display_data",
          "data": {
            "text/plain": [
              "<Figure size 640x480 with 25 Axes>"
            ],
            "image/png": "[encoded data removed]"
          },
          "metadata": {}
        }
      ],
      "source": [
        "import matplotlib.pyplot as plt\n",
        "\n",
        "batch_size = 25\n",
        "latent_size = 100\n",
        "\n",
        "fixed_noise = torch.randn(batch_size, latent_size, 1, 1).to(device)\n",
        "fake_images = netG(fixed_noise)\n",
        "fake_images_np = fake_images.cpu().detach().numpy()\n",
        "fake_images_np = fake_images_np.reshape(fake_images_np.shape[0], 28, 28)\n",
        "R, C = 5, 5\n",
        "for i in range(batch_size):\n",
        "    plt.subplot(R, C, i + 1)\n",
        "    plt.axis('off')\n",
        "    plt.imshow(fake_images_np[i], cmap='gray')\n",
        "plt.show()"
      ]
    },
    {
      "cell_type": "markdown",
      "metadata": {
        "id": "dqnR6JyGL6OJ"
      },
      "source": [
        "## Create GIF"
      ]
    },
    {
      "cell_type": "code",
      "execution_count": null,
      "metadata": {
        "id": "hWA25E56L6OJ"
      },
      "outputs": [],
      "source": [
        "# 安裝產生 GIF 檔的套件\n",
        "!pip install -q imageio"
      ]
    },
    {
      "cell_type": "code",
      "execution_count": null,
      "metadata": {
        "id": "oXZaGyJDL6OJ",
        "colab": {
          "base_uri": "https://localhost:8080/"
        },
        "outputId": "d89383f2-2502-47f4-c32d-c9b7fa3fb04c"
      },
      "outputs": [
        {
          "output_type": "stream",
          "name": "stderr",
          "text": [
            "<ipython-input-32-5a4fa8a79f4c>:10: DeprecationWarning: Starting with ImageIO v3 the behavior of this function will switch to that of iio.v3.imread. To keep the current behavior (and make this warning disappear) use `import imageio.v2 as imageio` or call `imageio.v2.imread` directly.\n",
            "  image = imageio.imread(filename)\n"
          ]
        }
      ],
      "source": [
        "import imageio\n",
        "import glob\n",
        "\n",
        "# 產生 GIF 檔\n",
        "anim_file = '/content/gdrive/MyDrive/Colab/gan_output/dcgan.gif'\n",
        "with imageio.get_writer(anim_file, mode='I') as writer:\n",
        "    filenames = glob.glob('/content/gdrive/MyDrive/Colab/gan_output/fake_samples*.png')\n",
        "    filenames = sorted(filenames)\n",
        "    for filename in filenames:\n",
        "        image = imageio.imread(filename)\n",
        "        writer.append_data(image)"
      ]
    },
    {
      "cell_type": "markdown",
      "metadata": {
        "id": "V65rjvDTL6OK"
      },
      "source": [
        "<img src=\"./gan_output/dcgan.gif\" align=\"left\">"
      ]
    },
    {
      "cell_type": "code",
      "execution_count": null,
      "metadata": {
        "id": "09mhnBvaL6OK"
      },
      "outputs": [],
      "source": []
    }
  ],
  "metadata": {
    "kernelspec": {
      "display_name": "Python 3",
      "name": "python3"
    },
    "language_info": {
      "codemirror_mode": {
        "name": "ipython",
        "version": 3
      },
      "file_extension": ".py",
      "mimetype": "text/x-python",
      "name": "python",
      "nbconvert_exporter": "python",
      "pygments_lexer": "ipython3",
      "version": "3.9.15"
    },
    "colab": {
      "provenance": [],
      "gpuType": "T4",
      "include_colab_link": true
    },
    "accelerator": "GPU"
  },
  "nbformat": 4,
  "nbformat_minor": 0
}