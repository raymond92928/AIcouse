{
 "cells": [
  {
   "cell_type": "code",
   "execution_count": null,
   "id": "fd83dd61",
   "metadata": {},
   "outputs": [],
   "source": [
    "import cv2, time\n",
    "\n",
    "cap = cv2.VideoCapture(0)\n",
    "time.sleep(3)\n",
    "\n",
    "ret, frame = cap.read()\n",
    "if ret:\n",
    "    cv2.imwrite(\"image.jpeg\", frame)\n",
    "else:\n",
    "    print(\"Fail to read camera!\")\n",
    "\n",
    "cap.release()"
   ]
  },
  {
   "cell_type": "markdown",
   "id": "b08f15ff",
   "metadata": {},
   "source": [
    "# cv2.imread(path, flag)\n",
    "\n",
    "All three types of flags are described below:\n",
    "\n",
    "<b>cv2.IMREAD_COLOR</b>: It specifies to load a color image. Any transparency of image will be neglected. It is the default flag. Alternatively, we can pass integer value <b>1</b> for this flag.\n",
    "\n",
    "<b>cv2.IMREAD_GRAYSCALE</b>: It specifies to load an image in grayscale mode. Alternatively, we can pass integer value <b>0</b> for this flag.\n",
    "\n",
    "<b>cv2.IMREAD_UNCHANGED</b>: It specifies to load an image as such including alpha channel. Alternatively, we can pass integer value <b>-1</b> for this flag."
   ]
  },
  {
   "cell_type": "code",
   "execution_count": null,
   "id": "b8547225",
   "metadata": {},
   "outputs": [],
   "source": [
    "import cv2\n",
    "\n",
    "frame = cv2.imread(\"image.jpeg\", 1)\n",
    "cv2.imshow(\"image\", frame)\n",
    "\n",
    "cv2.waitKey(3000)\n",
    "print(\"OK\")\n",
    "\n",
    "frame = cv2.imread(\"face.jpg\", 1)\n",
    "cv2.imshow(\"image\", frame)\n",
    "\n",
    "cv2.waitKey(0)\n",
    "print(\"Bye\")\n",
    "cv2.destroyAllWindows()s"
   ]
  },
  {
   "cell_type": "code",
   "execution_count": null,
   "id": "74f423fb",
   "metadata": {},
   "outputs": [],
   "source": []
  }
 ],
 "metadata": {
  "kernelspec": {
   "display_name": "Python 3 (ipykernel)",
   "language": "python",
   "name": "python3"
  },
  "language_info": {
   "codemirror_mode": {
    "name": "ipython",
    "version": 3
   },
   "file_extension": ".py",
   "mimetype": "text/x-python",
   "name": "python",
   "nbconvert_exporter": "python",
   "pygments_lexer": "ipython3",
   "version": "3.8.12"
  }
 },
 "nbformat": 4,
 "nbformat_minor": 5
}
