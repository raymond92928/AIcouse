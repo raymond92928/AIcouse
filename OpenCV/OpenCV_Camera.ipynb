{
 "cells": [
  {
   "cell_type": "code",
   "execution_count": 1,
   "id": "a4afdd01",
   "metadata": {},
   "outputs": [],
   "source": [
    "import cv2\n",
    "\n",
    "ESC = 27 #ASCII code of ESC is 27"
   ]
  },
  {
   "cell_type": "code",
   "execution_count": 2,
   "id": "f7ac5386",
   "metadata": {},
   "outputs": [],
   "source": [
    "cap = cv2.VideoCapture(0) #0 is the first camera of your computer\n",
    "ratio = cap.get(cv2.CAP_PROP_FRAME_WIDTH) / cap.get(cv2.CAP_PROP_FRAME_HEIGHT) # Get the ratio of camera\n",
    "WIDTH = 600 # Change the width of frame\n",
    "HEIGHT = int(WIDTH / ratio) # Change the height of frame"
   ]
  },
  {
   "cell_type": "markdown",
   "id": "4b7486ed",
   "metadata": {},
   "source": [
    "flip code: 0 means flipping around the x-axis and positive value, 1 means flipping around y-axis. -1 means flipping around both axes."
   ]
  },
  {
   "cell_type": "code",
   "execution_count": 3,
   "id": "1616d443",
   "metadata": {},
   "outputs": [],
   "source": [
    "cv2.namedWindow(\"frame\", cv2.WINDOW_NORMAL) # User can change frame size by NORMAL \n",
    "\n",
    "ret = True\n",
    "while ret:\n",
    "    ret, frame = cap.read()\n",
    "    frame = cv2.resize(frame, (WIDTH, HEIGHT))\n",
    "    frame = cv2.flip(frame, 1) \n",
    "    cv2.imshow(\"frame\", frame)\n",
    "    \n",
    "    if cv2.waitKey(1) == ESC: #wait 1 ms\n",
    "        break\n",
    "        \n",
    "cv2.imwrite(\"image.jpeg\", frame)\n",
    "cv2.destroyAllWindows() # close the window when you done.\n",
    "cap.release() # release the camera when you done."
   ]
  },
  {
   "cell_type": "markdown",
   "id": "d740b7c9",
   "metadata": {},
   "source": [
    "When the image file is read with the OpenCV function, the order of colors is BGR (blue, green, red)"
   ]
  },
  {
   "cell_type": "code",
   "execution_count": null,
   "id": "e2675ee3",
   "metadata": {},
   "outputs": [],
   "source": []
  }
 ],
 "metadata": {
  "kernelspec": {
   "display_name": "Python 3 (ipykernel)",
   "language": "python",
   "name": "python3"
  },
  "language_info": {
   "codemirror_mode": {
    "name": "ipython",
    "version": 3
   },
   "file_extension": ".py",
   "mimetype": "text/x-python",
   "name": "python",
   "nbconvert_exporter": "python",
   "pygments_lexer": "ipython3",
   "version": "3.8.12"
  }
 },
 "nbformat": 4,
 "nbformat_minor": 5
}
